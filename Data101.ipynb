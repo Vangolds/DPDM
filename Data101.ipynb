{
  "nbformat": 4,
  "nbformat_minor": 0,
  "metadata": {
    "colab": {
      "name": "Data101.ipynb",
      "provenance": [],
      "toc_visible": true,
      "authorship_tag": "ABX9TyPAmSQo9CmO5TNvt9J03WN+",
      "include_colab_link": true
    },
    "kernelspec": {
      "name": "python3",
      "display_name": "Python 3"
    }
  },
  "cells": [
    {
      "cell_type": "markdown",
      "metadata": {
        "id": "view-in-github",
        "colab_type": "text"
      },
      "source": [
        "<a href=\"https://colab.research.google.com/github/Vangolds/DPDM/blob/master/Data101.ipynb\" target=\"_parent\"><img src=\"https://colab.research.google.com/assets/colab-badge.svg\" alt=\"Open In Colab\"/></a>"
      ]
    },
    {
      "cell_type": "markdown",
      "metadata": {
        "id": "7hjXMlxtm1dZ",
        "colab_type": "text"
      },
      "source": [
        "ตัวอย่างการเรียกใช้ package ที่ชื่อ pandas"
      ]
    },
    {
      "cell_type": "code",
      "metadata": {
        "id": "sh8N-fi4mcbr",
        "colab_type": "code",
        "colab": {}
      },
      "source": [
        "import pandas"
      ],
      "execution_count": null,
      "outputs": []
    },
    {
      "cell_type": "markdown",
      "metadata": {
        "id": "qh_SB6HhmfPL",
        "colab_type": "text"
      },
      "source": [
        "ย่อ package pandas เป็น pd\n"
      ]
    },
    {
      "cell_type": "code",
      "metadata": {
        "colab_type": "code",
        "id": "wBcw8xDmnDKW",
        "colab": {}
      },
      "source": [
        "import pandas as pd"
      ],
      "execution_count": null,
      "outputs": []
    },
    {
      "cell_type": "markdown",
      "metadata": {
        "id": "5tIM6UwanBi9",
        "colab_type": "text"
      },
      "source": [
        "นำ Drive เข้า\n"
      ]
    },
    {
      "cell_type": "code",
      "metadata": {
        "id": "fwR6OkNhnKgg",
        "colab_type": "code",
        "colab": {}
      },
      "source": [
        "from google.colab import drive"
      ],
      "execution_count": null,
      "outputs": []
    },
    {
      "cell_type": "markdown",
      "metadata": {
        "id": "uRJYZqOJo8f1",
        "colab_type": "text"
      },
      "source": [
        "เชื่อมโยงบัญชีกับ Drive"
      ]
    },
    {
      "cell_type": "code",
      "metadata": {
        "id": "YbZADN-OnR6N",
        "colab_type": "code",
        "colab": {
          "base_uri": "https://localhost:8080/",
          "height": 121
        },
        "outputId": "31e592a5-03e3-4f40-8864-266923671dad"
      },
      "source": [
        "drive.mount('/content/drive')"
      ],
      "execution_count": null,
      "outputs": [
        {
          "output_type": "stream",
          "text": [
            "Go to this URL in a browser: https://accounts.google.com/o/oauth2/auth?client_id=947318989803-6bn6qk8qdgf4n4g3pfee6491hc0brc4i.apps.googleusercontent.com&redirect_uri=urn%3aietf%3awg%3aoauth%3a2.0%3aoob&response_type=code&scope=email%20https%3a%2f%2fwww.googleapis.com%2fauth%2fdocs.test%20https%3a%2f%2fwww.googleapis.com%2fauth%2fdrive%20https%3a%2f%2fwww.googleapis.com%2fauth%2fdrive.photos.readonly%20https%3a%2f%2fwww.googleapis.com%2fauth%2fpeopleapi.readonly\n",
            "\n",
            "Enter your authorization code:\n",
            "··········\n",
            "Mounted at /content/drive\n"
          ],
          "name": "stdout"
        }
      ]
    },
    {
      "cell_type": "markdown",
      "metadata": {
        "id": "vspUNkJaoGum",
        "colab_type": "text"
      },
      "source": [
        "เรียกใช้ package ที่ชื่อ os"
      ]
    },
    {
      "cell_type": "code",
      "metadata": {
        "id": "6BSLCVdOn0iB",
        "colab_type": "code",
        "colab": {}
      },
      "source": [
        "import os"
      ],
      "execution_count": null,
      "outputs": []
    },
    {
      "cell_type": "markdown",
      "metadata": {
        "id": "f-hGh7C4tph-",
        "colab_type": "text"
      },
      "source": [
        "ตั้งชื่อตัวแปร ห้ามเว้นวรรค ห้ามใช้ภาษาไทย ห้ามใช้ตัวเลขขึ้นก่อน (ห้ามใช้คำที่รีเสิร์ชแล้ว ที่เปลี่ยนสี) พยายามตั้งให้สื่อสารเข้าใจง่าย"
      ]
    },
    {
      "cell_type": "code",
      "metadata": {
        "id": "dz4lFF7_tO_W",
        "colab_type": "code",
        "colab": {}
      },
      "source": [
        "base_path = '/content/drive/My Drive/DWDM_material'"
      ],
      "execution_count": null,
      "outputs": []
    },
    {
      "cell_type": "markdown",
      "metadata": {
        "id": "xZ2cU_pcoXT4",
        "colab_type": "text"
      },
      "source": [
        "เรียกใช้โฟล์เดอร์จาก Drive (Path)"
      ]
    },
    {
      "cell_type": "code",
      "metadata": {
        "id": "o9V54W-5oa7g",
        "colab_type": "code",
        "colab": {
          "base_uri": "https://localhost:8080/",
          "height": 34
        },
        "outputId": "5fc6c0f6-4be6-46c9-b0df-91f86ba16148"
      },
      "source": [
        "os.listdir(base_path)"
      ],
      "execution_count": null,
      "outputs": [
        {
          "output_type": "execute_result",
          "data": {
            "text/plain": [
              "['teach.csv', 'test.csv']"
            ]
          },
          "metadata": {
            "tags": []
          },
          "execution_count": 16
        }
      ]
    },
    {
      "cell_type": "markdown",
      "metadata": {
        "id": "jJVnk5BDuUuC",
        "colab_type": "text"
      },
      "source": [
        "เชื่อมโยงไฟล์\n"
      ]
    },
    {
      "cell_type": "code",
      "metadata": {
        "id": "iSserCQ8uGGX",
        "colab_type": "code",
        "colab": {}
      },
      "source": [
        "file_path = os.path.join(base_path,'test.csv')"
      ],
      "execution_count": null,
      "outputs": []
    },
    {
      "cell_type": "markdown",
      "metadata": {
        "id": "RLVsjugcon20",
        "colab_type": "text"
      },
      "source": [
        "เรียกใช้ไฟล์ csv จาก Drive"
      ]
    },
    {
      "cell_type": "code",
      "metadata": {
        "id": "KWI-GorMo3Tm",
        "colab_type": "code",
        "colab": {
          "base_uri": "https://localhost:8080/",
          "height": 402
        },
        "outputId": "2975a07b-6d3b-4230-f284-34bd68c4fedb"
      },
      "source": [
        "pd.read_csv(file_path)"
      ],
      "execution_count": null,
      "outputs": [
        {
          "output_type": "execute_result",
          "data": {
            "text/html": [
              "<div>\n",
              "<style scoped>\n",
              "    .dataframe tbody tr th:only-of-type {\n",
              "        vertical-align: middle;\n",
              "    }\n",
              "\n",
              "    .dataframe tbody tr th {\n",
              "        vertical-align: top;\n",
              "    }\n",
              "\n",
              "    .dataframe thead th {\n",
              "        text-align: right;\n",
              "    }\n",
              "</style>\n",
              "<table border=\"1\" class=\"dataframe\">\n",
              "  <thead>\n",
              "    <tr style=\"text-align: right;\">\n",
              "      <th></th>\n",
              "      <th>Unnamed: 0</th>\n",
              "      <th>x</th>\n",
              "      <th>y</th>\n",
              "    </tr>\n",
              "  </thead>\n",
              "  <tbody>\n",
              "    <tr>\n",
              "      <th>0</th>\n",
              "      <td>0</td>\n",
              "      <td>55.3846</td>\n",
              "      <td>97.1795</td>\n",
              "    </tr>\n",
              "    <tr>\n",
              "      <th>1</th>\n",
              "      <td>1</td>\n",
              "      <td>51.5385</td>\n",
              "      <td>96.0256</td>\n",
              "    </tr>\n",
              "    <tr>\n",
              "      <th>2</th>\n",
              "      <td>2</td>\n",
              "      <td>46.1538</td>\n",
              "      <td>94.4872</td>\n",
              "    </tr>\n",
              "    <tr>\n",
              "      <th>3</th>\n",
              "      <td>3</td>\n",
              "      <td>42.8205</td>\n",
              "      <td>91.4103</td>\n",
              "    </tr>\n",
              "    <tr>\n",
              "      <th>4</th>\n",
              "      <td>4</td>\n",
              "      <td>40.7692</td>\n",
              "      <td>88.3333</td>\n",
              "    </tr>\n",
              "    <tr>\n",
              "      <th>...</th>\n",
              "      <td>...</td>\n",
              "      <td>...</td>\n",
              "      <td>...</td>\n",
              "    </tr>\n",
              "    <tr>\n",
              "      <th>137</th>\n",
              "      <td>137</td>\n",
              "      <td>39.4872</td>\n",
              "      <td>25.3846</td>\n",
              "    </tr>\n",
              "    <tr>\n",
              "      <th>138</th>\n",
              "      <td>138</td>\n",
              "      <td>91.2821</td>\n",
              "      <td>41.5385</td>\n",
              "    </tr>\n",
              "    <tr>\n",
              "      <th>139</th>\n",
              "      <td>139</td>\n",
              "      <td>50.0000</td>\n",
              "      <td>95.7692</td>\n",
              "    </tr>\n",
              "    <tr>\n",
              "      <th>140</th>\n",
              "      <td>140</td>\n",
              "      <td>47.9487</td>\n",
              "      <td>95.0000</td>\n",
              "    </tr>\n",
              "    <tr>\n",
              "      <th>141</th>\n",
              "      <td>141</td>\n",
              "      <td>44.1026</td>\n",
              "      <td>92.6923</td>\n",
              "    </tr>\n",
              "  </tbody>\n",
              "</table>\n",
              "<p>142 rows × 3 columns</p>\n",
              "</div>"
            ],
            "text/plain": [
              "     Unnamed: 0        x        y\n",
              "0             0  55.3846  97.1795\n",
              "1             1  51.5385  96.0256\n",
              "2             2  46.1538  94.4872\n",
              "3             3  42.8205  91.4103\n",
              "4             4  40.7692  88.3333\n",
              "..          ...      ...      ...\n",
              "137         137  39.4872  25.3846\n",
              "138         138  91.2821  41.5385\n",
              "139         139  50.0000  95.7692\n",
              "140         140  47.9487  95.0000\n",
              "141         141  44.1026  92.6923\n",
              "\n",
              "[142 rows x 3 columns]"
            ]
          },
          "metadata": {
            "tags": []
          },
          "execution_count": 19
        }
      ]
    },
    {
      "cell_type": "markdown",
      "metadata": {
        "id": "6VL3k2LMr-vi",
        "colab_type": "text"
      },
      "source": [
        "Variable"
      ]
    },
    {
      "cell_type": "code",
      "metadata": {
        "id": "7qqwgR3trYtJ",
        "colab_type": "code",
        "colab": {}
      },
      "source": [
        "table = pd.read_csv(file_path)\n"
      ],
      "execution_count": null,
      "outputs": []
    },
    {
      "cell_type": "markdown",
      "metadata": {
        "id": "GUPA3l5mrtNJ",
        "colab_type": "text"
      },
      "source": [
        "\n",
        "เรียกใช้ตัวแปร"
      ]
    },
    {
      "cell_type": "code",
      "metadata": {
        "id": "wvoxt-ICsewY",
        "colab_type": "code",
        "colab": {
          "base_uri": "https://localhost:8080/",
          "height": 402
        },
        "outputId": "a1d9b3be-f3ed-4173-9cdf-1e0ab080b40c"
      },
      "source": [
        "table"
      ],
      "execution_count": null,
      "outputs": [
        {
          "output_type": "execute_result",
          "data": {
            "text/html": [
              "<div>\n",
              "<style scoped>\n",
              "    .dataframe tbody tr th:only-of-type {\n",
              "        vertical-align: middle;\n",
              "    }\n",
              "\n",
              "    .dataframe tbody tr th {\n",
              "        vertical-align: top;\n",
              "    }\n",
              "\n",
              "    .dataframe thead th {\n",
              "        text-align: right;\n",
              "    }\n",
              "</style>\n",
              "<table border=\"1\" class=\"dataframe\">\n",
              "  <thead>\n",
              "    <tr style=\"text-align: right;\">\n",
              "      <th></th>\n",
              "      <th>Unnamed: 0</th>\n",
              "      <th>x</th>\n",
              "      <th>y</th>\n",
              "    </tr>\n",
              "  </thead>\n",
              "  <tbody>\n",
              "    <tr>\n",
              "      <th>0</th>\n",
              "      <td>0</td>\n",
              "      <td>55.3846</td>\n",
              "      <td>97.1795</td>\n",
              "    </tr>\n",
              "    <tr>\n",
              "      <th>1</th>\n",
              "      <td>1</td>\n",
              "      <td>51.5385</td>\n",
              "      <td>96.0256</td>\n",
              "    </tr>\n",
              "    <tr>\n",
              "      <th>2</th>\n",
              "      <td>2</td>\n",
              "      <td>46.1538</td>\n",
              "      <td>94.4872</td>\n",
              "    </tr>\n",
              "    <tr>\n",
              "      <th>3</th>\n",
              "      <td>3</td>\n",
              "      <td>42.8205</td>\n",
              "      <td>91.4103</td>\n",
              "    </tr>\n",
              "    <tr>\n",
              "      <th>4</th>\n",
              "      <td>4</td>\n",
              "      <td>40.7692</td>\n",
              "      <td>88.3333</td>\n",
              "    </tr>\n",
              "    <tr>\n",
              "      <th>...</th>\n",
              "      <td>...</td>\n",
              "      <td>...</td>\n",
              "      <td>...</td>\n",
              "    </tr>\n",
              "    <tr>\n",
              "      <th>137</th>\n",
              "      <td>137</td>\n",
              "      <td>39.4872</td>\n",
              "      <td>25.3846</td>\n",
              "    </tr>\n",
              "    <tr>\n",
              "      <th>138</th>\n",
              "      <td>138</td>\n",
              "      <td>91.2821</td>\n",
              "      <td>41.5385</td>\n",
              "    </tr>\n",
              "    <tr>\n",
              "      <th>139</th>\n",
              "      <td>139</td>\n",
              "      <td>50.0000</td>\n",
              "      <td>95.7692</td>\n",
              "    </tr>\n",
              "    <tr>\n",
              "      <th>140</th>\n",
              "      <td>140</td>\n",
              "      <td>47.9487</td>\n",
              "      <td>95.0000</td>\n",
              "    </tr>\n",
              "    <tr>\n",
              "      <th>141</th>\n",
              "      <td>141</td>\n",
              "      <td>44.1026</td>\n",
              "      <td>92.6923</td>\n",
              "    </tr>\n",
              "  </tbody>\n",
              "</table>\n",
              "<p>142 rows × 3 columns</p>\n",
              "</div>"
            ],
            "text/plain": [
              "     Unnamed: 0        x        y\n",
              "0             0  55.3846  97.1795\n",
              "1             1  51.5385  96.0256\n",
              "2             2  46.1538  94.4872\n",
              "3             3  42.8205  91.4103\n",
              "4             4  40.7692  88.3333\n",
              "..          ...      ...      ...\n",
              "137         137  39.4872  25.3846\n",
              "138         138  91.2821  41.5385\n",
              "139         139  50.0000  95.7692\n",
              "140         140  47.9487  95.0000\n",
              "141         141  44.1026  92.6923\n",
              "\n",
              "[142 rows x 3 columns]"
            ]
          },
          "metadata": {
            "tags": []
          },
          "execution_count": 10
        }
      ]
    },
    {
      "cell_type": "markdown",
      "metadata": {
        "id": "nOPbxYDBsriN",
        "colab_type": "text"
      },
      "source": [
        "แสดงบางส่วน เช่น หัวตาราง, หางตาราง"
      ]
    },
    {
      "cell_type": "code",
      "metadata": {
        "id": "C5MVsHWUsg8f",
        "colab_type": "code",
        "colab": {
          "base_uri": "https://localhost:8080/",
          "height": 252
        },
        "outputId": "5e5c11cd-f72f-4fe3-f3c8-65d1a92341f8"
      },
      "source": [
        "table.head"
      ],
      "execution_count": null,
      "outputs": [
        {
          "output_type": "execute_result",
          "data": {
            "text/plain": [
              "<bound method NDFrame.head of      Unnamed: 0        x        y\n",
              "0             0  55.3846  97.1795\n",
              "1             1  51.5385  96.0256\n",
              "2             2  46.1538  94.4872\n",
              "3             3  42.8205  91.4103\n",
              "4             4  40.7692  88.3333\n",
              "..          ...      ...      ...\n",
              "137         137  39.4872  25.3846\n",
              "138         138  91.2821  41.5385\n",
              "139         139  50.0000  95.7692\n",
              "140         140  47.9487  95.0000\n",
              "141         141  44.1026  92.6923\n",
              "\n",
              "[142 rows x 3 columns]>"
            ]
          },
          "metadata": {
            "tags": []
          },
          "execution_count": 11
        }
      ]
    },
    {
      "cell_type": "code",
      "metadata": {
        "id": "mfuJmi5DsqSX",
        "colab_type": "code",
        "colab": {
          "base_uri": "https://localhost:8080/",
          "height": 252
        },
        "outputId": "b68f24a5-7f92-400f-9da4-ea8962dab6a3"
      },
      "source": [
        "table.tail"
      ],
      "execution_count": null,
      "outputs": [
        {
          "output_type": "execute_result",
          "data": {
            "text/plain": [
              "<bound method NDFrame.tail of      Unnamed: 0        x        y\n",
              "0             0  55.3846  97.1795\n",
              "1             1  51.5385  96.0256\n",
              "2             2  46.1538  94.4872\n",
              "3             3  42.8205  91.4103\n",
              "4             4  40.7692  88.3333\n",
              "..          ...      ...      ...\n",
              "137         137  39.4872  25.3846\n",
              "138         138  91.2821  41.5385\n",
              "139         139  50.0000  95.7692\n",
              "140         140  47.9487  95.0000\n",
              "141         141  44.1026  92.6923\n",
              "\n",
              "[142 rows x 3 columns]>"
            ]
          },
          "metadata": {
            "tags": []
          },
          "execution_count": 12
        }
      ]
    },
    {
      "cell_type": "markdown",
      "metadata": {
        "id": "f0HTejD61-yw",
        "colab_type": "text"
      },
      "source": [
        "ให้ตัวแปรเป็น ตัวเลข"
      ]
    },
    {
      "cell_type": "code",
      "metadata": {
        "id": "BpldhqiQs8Hb",
        "colab_type": "code",
        "colab": {}
      },
      "source": [
        "number_A = 100"
      ],
      "execution_count": null,
      "outputs": []
    },
    {
      "cell_type": "markdown",
      "metadata": {
        "id": "lCLEAvb52Jh0",
        "colab_type": "text"
      },
      "source": [
        "ให้ตัวแปรเป็น ตัวหนังสือ"
      ]
    },
    {
      "cell_type": "code",
      "metadata": {
        "id": "AyYMUB6cvWND",
        "colab_type": "code",
        "colab": {}
      },
      "source": [
        "word_B = 'Thailand'"
      ],
      "execution_count": null,
      "outputs": []
    },
    {
      "cell_type": "code",
      "metadata": {
        "id": "ibRvjtCDvYa6",
        "colab_type": "code",
        "colab": {}
      },
      "source": [
        "number_B = 3.14"
      ],
      "execution_count": null,
      "outputs": []
    },
    {
      "cell_type": "markdown",
      "metadata": {
        "id": "4y_cTzyY2P3R",
        "colab_type": "text"
      },
      "source": [
        "ผลคูณตัวเลข"
      ]
    },
    {
      "cell_type": "code",
      "metadata": {
        "id": "hAiG-qgwvhq9",
        "colab_type": "code",
        "colab": {
          "base_uri": "https://localhost:8080/",
          "height": 34
        },
        "outputId": "0d3eb6d9-ff6e-4bc5-bda5-b2716226cf25"
      },
      "source": [
        "number_C = number_A * number_B\n",
        "print(number_C)"
      ],
      "execution_count": null,
      "outputs": [
        {
          "output_type": "stream",
          "text": [
            "314.0\n"
          ],
          "name": "stdout"
        }
      ]
    },
    {
      "cell_type": "markdown",
      "metadata": {
        "id": "W-jNLLYM2S7X",
        "colab_type": "text"
      },
      "source": [
        "รวมข้อความ"
      ]
    },
    {
      "cell_type": "code",
      "metadata": {
        "id": "5Lf5j6t0vyuI",
        "colab_type": "code",
        "colab": {
          "base_uri": "https://localhost:8080/",
          "height": 34
        },
        "outputId": "a0ae9fb3-74aa-4ad1-cabe-0ed67f7872b3"
      },
      "source": [
        "word_x = ' สู้ ๆ'\n",
        "print(word_B + word_x)"
      ],
      "execution_count": null,
      "outputs": [
        {
          "output_type": "stream",
          "text": [
            "Thailand สู้ ๆ\n"
          ],
          "name": "stdout"
        }
      ]
    },
    {
      "cell_type": "markdown",
      "metadata": {
        "id": "WuTAwxqVxLFn",
        "colab_type": "text"
      },
      "source": [
        "เรียกใช้ pk ย่อยจาก matplotlib "
      ]
    },
    {
      "cell_type": "code",
      "metadata": {
        "id": "zz8LjPkTwHwH",
        "colab_type": "code",
        "colab": {}
      },
      "source": [
        "from matplotlib import pyplot as plt"
      ],
      "execution_count": null,
      "outputs": []
    },
    {
      "cell_type": "markdown",
      "metadata": {
        "id": "dVA3wStE2XyO",
        "colab_type": "text"
      },
      "source": [
        "พล็อตกราฟ scatter"
      ]
    },
    {
      "cell_type": "code",
      "metadata": {
        "id": "iGVN8s3vwmAZ",
        "colab_type": "code",
        "colab": {
          "base_uri": "https://localhost:8080/",
          "height": 282
        },
        "outputId": "7912daf6-fd63-4853-a800-43beae668b70"
      },
      "source": [
        "plt.scatter(table['x'], table['y'])"
      ],
      "execution_count": null,
      "outputs": [
        {
          "output_type": "execute_result",
          "data": {
            "text/plain": [
              "<matplotlib.collections.PathCollection at 0x7f80ad2ac390>"
            ]
          },
          "metadata": {
            "tags": []
          },
          "execution_count": 29
        },
        {
          "output_type": "display_data",
          "data": {
            "image/png": "[encoded data removed]",
            "text/plain": [
              "<Figure size 432x288 with 1 Axes>"
            ]
          },
          "metadata": {
            "tags": [],
            "needs_background": "light"
          }
        }
      ]
    },
    {
      "cell_type": "markdown",
      "metadata": {
        "id": "pDTiQXul2dKO",
        "colab_type": "text"
      },
      "source": [
        "พล็อตกราฟแบบมีเส้น"
      ]
    },
    {
      "cell_type": "code",
      "metadata": {
        "id": "T4778dTFxvgR",
        "colab_type": "code",
        "colab": {
          "base_uri": "https://localhost:8080/",
          "height": 282
        },
        "outputId": "02b560f8-50fd-4148-d324-b921311329a2"
      },
      "source": [
        "plt.plot(table['x'], table['y'])"
      ],
      "execution_count": null,
      "outputs": [
        {
          "output_type": "execute_result",
          "data": {
            "text/plain": [
              "[<matplotlib.lines.Line2D at 0x7f80ad319ef0>]"
            ]
          },
          "metadata": {
            "tags": []
          },
          "execution_count": 30
        },
        {
          "output_type": "display_data",
          "data": {
            "image/png": "[encoded data removed]",
            "text/plain": [
              "<Figure size 432x288 with 1 Axes>"
            ]
          },
          "metadata": {
            "tags": [],
            "needs_background": "light"
          }
        }
      ]
    },
    {
      "cell_type": "markdown",
      "metadata": {
        "id": "xtwOv6UO75Zi",
        "colab_type": "text"
      },
      "source": [
        "Basic Statistics"
      ]
    },
    {
      "cell_type": "markdown",
      "metadata": {
        "id": "Zkl0KqbZ2hjU",
        "colab_type": "text"
      },
      "source": [
        "แสดงตาราง"
      ]
    },
    {
      "cell_type": "code",
      "metadata": {
        "id": "9j-497_lySNQ",
        "colab_type": "code",
        "colab": {
          "base_uri": "https://localhost:8080/",
          "height": 284
        },
        "outputId": "33c65099-9e47-48da-b696-24f902882971"
      },
      "source": [
        "table.describe()"
      ],
      "execution_count": null,
      "outputs": [
        {
          "output_type": "execute_result",
          "data": {
            "text/html": [
              "<div>\n",
              "<style scoped>\n",
              "    .dataframe tbody tr th:only-of-type {\n",
              "        vertical-align: middle;\n",
              "    }\n",
              "\n",
              "    .dataframe tbody tr th {\n",
              "        vertical-align: top;\n",
              "    }\n",
              "\n",
              "    .dataframe thead th {\n",
              "        text-align: right;\n",
              "    }\n",
              "</style>\n",
              "<table border=\"1\" class=\"dataframe\">\n",
              "  <thead>\n",
              "    <tr style=\"text-align: right;\">\n",
              "      <th></th>\n",
              "      <th>Unnamed: 0</th>\n",
              "      <th>x</th>\n",
              "      <th>y</th>\n",
              "    </tr>\n",
              "  </thead>\n",
              "  <tbody>\n",
              "    <tr>\n",
              "      <th>count</th>\n",
              "      <td>142.000000</td>\n",
              "      <td>142.000000</td>\n",
              "      <td>142.000000</td>\n",
              "    </tr>\n",
              "    <tr>\n",
              "      <th>mean</th>\n",
              "      <td>70.500000</td>\n",
              "      <td>54.263273</td>\n",
              "      <td>47.832253</td>\n",
              "    </tr>\n",
              "    <tr>\n",
              "      <th>std</th>\n",
              "      <td>41.135953</td>\n",
              "      <td>16.765142</td>\n",
              "      <td>26.935403</td>\n",
              "    </tr>\n",
              "    <tr>\n",
              "      <th>min</th>\n",
              "      <td>0.000000</td>\n",
              "      <td>22.307700</td>\n",
              "      <td>2.948700</td>\n",
              "    </tr>\n",
              "    <tr>\n",
              "      <th>25%</th>\n",
              "      <td>35.250000</td>\n",
              "      <td>44.102600</td>\n",
              "      <td>25.288450</td>\n",
              "    </tr>\n",
              "    <tr>\n",
              "      <th>50%</th>\n",
              "      <td>70.500000</td>\n",
              "      <td>53.333300</td>\n",
              "      <td>46.025600</td>\n",
              "    </tr>\n",
              "    <tr>\n",
              "      <th>75%</th>\n",
              "      <td>105.750000</td>\n",
              "      <td>64.743600</td>\n",
              "      <td>68.525675</td>\n",
              "    </tr>\n",
              "    <tr>\n",
              "      <th>max</th>\n",
              "      <td>141.000000</td>\n",
              "      <td>98.205100</td>\n",
              "      <td>99.487200</td>\n",
              "    </tr>\n",
              "  </tbody>\n",
              "</table>\n",
              "</div>"
            ],
            "text/plain": [
              "       Unnamed: 0           x           y\n",
              "count  142.000000  142.000000  142.000000\n",
              "mean    70.500000   54.263273   47.832253\n",
              "std     41.135953   16.765142   26.935403\n",
              "min      0.000000   22.307700    2.948700\n",
              "25%     35.250000   44.102600   25.288450\n",
              "50%     70.500000   53.333300   46.025600\n",
              "75%    105.750000   64.743600   68.525675\n",
              "max    141.000000   98.205100   99.487200"
            ]
          },
          "metadata": {
            "tags": []
          },
          "execution_count": 32
        }
      ]
    },
    {
      "cell_type": "markdown",
      "metadata": {
        "id": "yZ-KpysN-R7k",
        "colab_type": "text"
      },
      "source": [
        "ดึงค่าในตารางแกน x ด้วยชื่อคอลัมน์"
      ]
    },
    {
      "cell_type": "code",
      "metadata": {
        "id": "A_lmxuu28CzD",
        "colab_type": "code",
        "colab": {
          "base_uri": "https://localhost:8080/",
          "height": 218
        },
        "outputId": "a172db86-3f9b-4e32-e29b-aee210268bee"
      },
      "source": [
        "table['x']"
      ],
      "execution_count": null,
      "outputs": [
        {
          "output_type": "execute_result",
          "data": {
            "text/plain": [
              "0      55.3846\n",
              "1      51.5385\n",
              "2      46.1538\n",
              "3      42.8205\n",
              "4      40.7692\n",
              "        ...   \n",
              "137    39.4872\n",
              "138    91.2821\n",
              "139    50.0000\n",
              "140    47.9487\n",
              "141    44.1026\n",
              "Name: x, Length: 142, dtype: float64"
            ]
          },
          "metadata": {
            "tags": []
          },
          "execution_count": 33
        }
      ]
    },
    {
      "cell_type": "code",
      "metadata": {
        "id": "kJmNfcAD-Xv3",
        "colab_type": "code",
        "colab": {}
      },
      "source": [
        "ดึงค่าในตารางแกน x แบบจุด"
      ],
      "execution_count": null,
      "outputs": []
    },
    {
      "cell_type": "code",
      "metadata": {
        "id": "wkeIYHaR-O1e",
        "colab_type": "code",
        "colab": {
          "base_uri": "https://localhost:8080/",
          "height": 218
        },
        "outputId": "5cfb09ba-8135-410f-8a90-7499e6e56585"
      },
      "source": [
        "table.x"
      ],
      "execution_count": null,
      "outputs": [
        {
          "output_type": "execute_result",
          "data": {
            "text/plain": [
              "0      55.3846\n",
              "1      51.5385\n",
              "2      46.1538\n",
              "3      42.8205\n",
              "4      40.7692\n",
              "        ...   \n",
              "137    39.4872\n",
              "138    91.2821\n",
              "139    50.0000\n",
              "140    47.9487\n",
              "141    44.1026\n",
              "Name: x, Length: 142, dtype: float64"
            ]
          },
          "metadata": {
            "tags": []
          },
          "execution_count": 34
        }
      ]
    },
    {
      "cell_type": "markdown",
      "metadata": {
        "id": "BFgyapn_-0Aq",
        "colab_type": "text"
      },
      "source": [
        "# Data Structure\n",
        "## ~~~Variable~~~ ข้อมูลตัวเดียว\n",
        "## ~~~DataFrame~~~\n",
        "## List() เซตของข้อมูล"
      ]
    },
    {
      "cell_type": "code",
      "metadata": {
        "id": "A-g7h2ZW-WfD",
        "colab_type": "code",
        "colab": {}
      },
      "source": [
        "list_a = [1,3,5,7]"
      ],
      "execution_count": null,
      "outputs": []
    },
    {
      "cell_type": "markdown",
      "metadata": {
        "id": "ES8RIBqMAgTr",
        "colab_type": "text"
      },
      "source": [
        "เรียกตัวแรก มองจากข้างหน้า"
      ]
    },
    {
      "cell_type": "code",
      "metadata": {
        "id": "ZeQN-Ol2_rel",
        "colab_type": "code",
        "colab": {
          "base_uri": "https://localhost:8080/",
          "height": 34
        },
        "outputId": "170ef50d-769a-413e-8130-c5060acd2014"
      },
      "source": [
        "list_a[0]"
      ],
      "execution_count": null,
      "outputs": [
        {
          "output_type": "execute_result",
          "data": {
            "text/plain": [
              "1"
            ]
          },
          "metadata": {
            "tags": []
          },
          "execution_count": 40
        }
      ]
    },
    {
      "cell_type": "markdown",
      "metadata": {
        "id": "4xxUWjS5Abcr",
        "colab_type": "text"
      },
      "source": [
        "เรียกตัวสุดท้าย มองจากข้างหลัง"
      ]
    },
    {
      "cell_type": "code",
      "metadata": {
        "id": "tY-jVlXW__ql",
        "colab_type": "code",
        "colab": {
          "base_uri": "https://localhost:8080/",
          "height": 34
        },
        "outputId": "23e807f8-3486-4634-8643-70974f0dca53"
      },
      "source": [
        "list_a[-1]"
      ],
      "execution_count": null,
      "outputs": [
        {
          "output_type": "execute_result",
          "data": {
            "text/plain": [
              "7"
            ]
          },
          "metadata": {
            "tags": []
          },
          "execution_count": 41
        }
      ]
    },
    {
      "cell_type": "markdown",
      "metadata": {
        "id": "5wg24e_yApJk",
        "colab_type": "text"
      },
      "source": [
        "มีกี่ตัว วัดความยาวของ list"
      ]
    },
    {
      "cell_type": "code",
      "metadata": {
        "id": "d03HzrHbAZtg",
        "colab_type": "code",
        "colab": {
          "base_uri": "https://localhost:8080/",
          "height": 34
        },
        "outputId": "b436a86b-1979-41ed-d210-263a20e31bd8"
      },
      "source": [
        "len(list_a)"
      ],
      "execution_count": null,
      "outputs": [
        {
          "output_type": "execute_result",
          "data": {
            "text/plain": [
              "4"
            ]
          },
          "metadata": {
            "tags": []
          },
          "execution_count": 42
        }
      ]
    },
    {
      "cell_type": "markdown",
      "metadata": {
        "id": "JgOa93ZxA60m",
        "colab_type": "text"
      },
      "source": [
        "ผลรวมของ list"
      ]
    },
    {
      "cell_type": "code",
      "metadata": {
        "id": "I4SSfO6bAnW8",
        "colab_type": "code",
        "colab": {
          "base_uri": "https://localhost:8080/",
          "height": 34
        },
        "outputId": "cf014ca2-ea81-4660-b89d-6fd1e543f051"
      },
      "source": [
        "sum(list_a)"
      ],
      "execution_count": null,
      "outputs": [
        {
          "output_type": "execute_result",
          "data": {
            "text/plain": [
              "16"
            ]
          },
          "metadata": {
            "tags": []
          },
          "execution_count": 43
        }
      ]
    },
    {
      "cell_type": "markdown",
      "metadata": {
        "id": "y9A8myDUBO_G",
        "colab_type": "text"
      },
      "source": [
        "เริ่มจาก list ว่าง แบบที่ 1"
      ]
    },
    {
      "cell_type": "code",
      "metadata": {
        "id": "Q0tYdXM1A2WA",
        "colab_type": "code",
        "colab": {
          "base_uri": "https://localhost:8080/",
          "height": 34
        },
        "outputId": "f13a2996-2ec8-49f4-c9d7-9e598dd1d738"
      },
      "source": [
        "list_z = []\n",
        "print(len(list_z))"
      ],
      "execution_count": null,
      "outputs": [
        {
          "output_type": "stream",
          "text": [
            "0\n"
          ],
          "name": "stdout"
        }
      ]
    },
    {
      "cell_type": "markdown",
      "metadata": {
        "id": "MjGchASWBaCT",
        "colab_type": "text"
      },
      "source": [
        "เริ่มจาก list ว่าง แบบที่ 2"
      ]
    },
    {
      "cell_type": "code",
      "metadata": {
        "id": "NJeNdogrCnRp",
        "colab_type": "code",
        "colab": {
          "base_uri": "https://localhost:8080/",
          "height": 34
        },
        "outputId": "983c2239-80e5-4c82-9568-554343fd1c6b"
      },
      "source": [
        "list_z2 = ()\n",
        "print(len(list_z2))"
      ],
      "execution_count": null,
      "outputs": [
        {
          "output_type": "stream",
          "text": [
            "0\n"
          ],
          "name": "stdout"
        }
      ]
    },
    {
      "cell_type": "code",
      "metadata": {
        "id": "gP1Q2cN8C9Va",
        "colab_type": "code",
        "colab": {
          "base_uri": "https://localhost:8080/",
          "height": 34
        },
        "outputId": "e98e264c-4c2f-40dc-f1d8-3f1c9e926339"
      },
      "source": [
        "list_z.append('stat')\n",
        "print(list_z)\n"
      ],
      "execution_count": null,
      "outputs": [
        {
          "output_type": "stream",
          "text": [
            "['stat']\n"
          ],
          "name": "stdout"
        }
      ]
    },
    {
      "cell_type": "code",
      "metadata": {
        "id": "JFoSjaJhCzCc",
        "colab_type": "code",
        "colab": {
          "base_uri": "https://localhost:8080/",
          "height": 34
        },
        "outputId": "d0eda323-777d-4861-9d22-c65a1992feda"
      },
      "source": [
        "list_z.append(list_a)\n",
        "print(list_z)"
      ],
      "execution_count": null,
      "outputs": [
        {
          "output_type": "stream",
          "text": [
            "['stat', [1, 3, 5, 7]]\n"
          ],
          "name": "stdout"
        }
      ]
    },
    {
      "cell_type": "markdown",
      "metadata": {
        "id": "izvn1HEhBZB-",
        "colab_type": "text"
      },
      "source": [
        "Q1\n",
        "ดึงค่าเลข 5 จาก list_z\n"
      ]
    },
    {
      "cell_type": "code",
      "metadata": {
        "id": "by5aU4H923wO",
        "colab_type": "code",
        "colab": {
          "base_uri": "https://localhost:8080/",
          "height": 34
        },
        "outputId": "1abcd6ce-0b88-4387-8484-9d9f1680ebcc"
      },
      "source": [
        "list_z[-1][2]"
      ],
      "execution_count": null,
      "outputs": [
        {
          "output_type": "execute_result",
          "data": {
            "text/plain": [
              "5"
            ]
          },
          "metadata": {
            "tags": []
          },
          "execution_count": 17
        }
      ]
    },
    {
      "cell_type": "markdown",
      "metadata": {
        "id": "Nlaz0-_5DjIu",
        "colab_type": "text"
      },
      "source": [
        "## Data Type Casting กรณีคนกรอกข้อมูลผิด"
      ]
    },
    {
      "cell_type": "markdown",
      "metadata": {
        "id": "Vzedn6WRDuqC",
        "colab_type": "text"
      },
      "source": [
        "a เป็น str เป็นข้อมูลไม่ใช่ตัวเลข"
      ]
    },
    {
      "cell_type": "code",
      "metadata": {
        "id": "NXuSWW2PDdJd",
        "colab_type": "code",
        "colab": {}
      },
      "source": [
        "a = '14'"
      ],
      "execution_count": null,
      "outputs": []
    },
    {
      "cell_type": "code",
      "metadata": {
        "id": "v5eZokVWDiIF",
        "colab_type": "code",
        "colab": {
          "base_uri": "https://localhost:8080/",
          "height": 178
        },
        "outputId": "58fa65f0-5f4a-456f-c4e6-e57c9ef6f99a"
      },
      "source": [
        "b = 16\n",
        "c = a + b"
      ],
      "execution_count": null,
      "outputs": [
        {
          "output_type": "error",
          "ename": "TypeError",
          "evalue": "ignored",
          "traceback": [
            "\u001b[0;31m---------------------------------------------------------------------------\u001b[0m",
            "\u001b[0;31mTypeError\u001b[0m                                 Traceback (most recent call last)",
            "\u001b[0;32m<ipython-input-62-6475791fbf76>\u001b[0m in \u001b[0;36m<module>\u001b[0;34m()\u001b[0m\n\u001b[1;32m      1\u001b[0m \u001b[0mb\u001b[0m \u001b[0;34m=\u001b[0m \u001b[0;36m16\u001b[0m\u001b[0;34m\u001b[0m\u001b[0;34m\u001b[0m\u001b[0m\n\u001b[0;32m----> 2\u001b[0;31m \u001b[0mc\u001b[0m \u001b[0;34m=\u001b[0m \u001b[0ma\u001b[0m \u001b[0;34m+\u001b[0m \u001b[0mb\u001b[0m\u001b[0;34m\u001b[0m\u001b[0;34m\u001b[0m\u001b[0m\n\u001b[0m",
            "\u001b[0;31mTypeError\u001b[0m: must be str, not int"
          ]
        }
      ]
    },
    {
      "cell_type": "markdown",
      "metadata": {
        "id": "48EfJIoPEO-0",
        "colab_type": "text"
      },
      "source": [
        "1. เปลี่ยน Str เป็น integer"
      ]
    },
    {
      "cell_type": "code",
      "metadata": {
        "id": "dnMR44MkD2C2",
        "colab_type": "code",
        "colab": {
          "base_uri": "https://localhost:8080/",
          "height": 34
        },
        "outputId": "ac5942b3-de5c-4281-de4c-9d57743b320b"
      },
      "source": [
        "c = int(a) + b\n",
        "print(c)"
      ],
      "execution_count": null,
      "outputs": [
        {
          "output_type": "stream",
          "text": [
            "30\n"
          ],
          "name": "stdout"
        }
      ]
    },
    {
      "cell_type": "code",
      "metadata": {
        "id": "LhMtGvewEKtl",
        "colab_type": "code",
        "colab": {}
      },
      "source": [
        "D = '1.41'\n"
      ],
      "execution_count": null,
      "outputs": []
    },
    {
      "cell_type": "markdown",
      "metadata": {
        "id": "wVqjTfbzExDA",
        "colab_type": "text"
      },
      "source": [
        "2. เปลี่ยนเป็น float"
      ]
    },
    {
      "cell_type": "code",
      "metadata": {
        "id": "3Zp75SzIElAA",
        "colab_type": "code",
        "colab": {
          "base_uri": "https://localhost:8080/",
          "height": 34
        },
        "outputId": "1c91efe9-a4cf-4210-ec30-6e5ec6d90003"
      },
      "source": [
        "print(float(D))"
      ],
      "execution_count": null,
      "outputs": [
        {
          "output_type": "stream",
          "text": [
            "1.41\n"
          ],
          "name": "stdout"
        }
      ]
    },
    {
      "cell_type": "markdown",
      "metadata": {
        "id": "b2SC15z5FC3n",
        "colab_type": "text"
      },
      "source": [
        "3. เปลี่ยนตัวเลขไปเป็น Str"
      ]
    },
    {
      "cell_type": "code",
      "metadata": {
        "id": "uoPQ2BSyEviX",
        "colab_type": "code",
        "colab": {
          "base_uri": "https://localhost:8080/",
          "height": 35
        },
        "outputId": "95800fff-ab83-4479-ba38-94be39343b6a"
      },
      "source": [
        "str(b)"
      ],
      "execution_count": null,
      "outputs": [
        {
          "output_type": "execute_result",
          "data": {
            "application/vnd.google.colaboratory.intrinsic+json": {
              "type": "string"
            },
            "text/plain": [
              "'16'"
            ]
          },
          "metadata": {
            "tags": []
          },
          "execution_count": 66
        }
      ]
    },
    {
      "cell_type": "code",
      "metadata": {
        "id": "Lis--mrrFB-p",
        "colab_type": "code",
        "colab": {}
      },
      "source": [
        "Q2 จะเปลี่ยนค่าของ D ให้เป็นจำนวนเต็ม (เลข 1) ด้วยฟังก์ชัน Casting "
      ],
      "execution_count": null,
      "outputs": []
    },
    {
      "cell_type": "code",
      "metadata": {
        "id": "xPtZ-LcZz6NW",
        "colab_type": "code",
        "colab": {
          "base_uri": "https://localhost:8080/",
          "height": 34
        },
        "outputId": "af52dc42-68f2-4b8b-9120-412302a2bdef"
      },
      "source": [
        "int(float(D))"
      ],
      "execution_count": null,
      "outputs": [
        {
          "output_type": "execute_result",
          "data": {
            "text/plain": [
              "1"
            ]
          },
          "metadata": {
            "tags": []
          },
          "execution_count": 6
        }
      ]
    },
    {
      "cell_type": "markdown",
      "metadata": {
        "id": "mKLYHmQKI1NW",
        "colab_type": "text"
      },
      "source": [
        "## List() cont.\n"
      ]
    },
    {
      "cell_type": "code",
      "metadata": {
        "id": "MjJoRpuzIiMz",
        "colab_type": "code",
        "colab": {}
      },
      "source": [
        "list_a = [1, 4, ['ast']]\n",
        "list_b = [-9, -8]"
      ],
      "execution_count": null,
      "outputs": []
    },
    {
      "cell_type": "markdown",
      "metadata": {
        "id": "T-j8ozdIJtrR",
        "colab_type": "text"
      },
      "source": [
        "ต้องเป็น list ทั้งคู่ถึงจะบวกได้ เป็นตัวแปรบวกไม่ได้ "
      ]
    },
    {
      "cell_type": "code",
      "metadata": {
        "id": "1ojmWFdyIgso",
        "colab_type": "code",
        "colab": {
          "base_uri": "https://localhost:8080/",
          "height": 34
        },
        "outputId": "90908343-4ef9-4060-b213-e50beb2455a9"
      },
      "source": [
        "list_c = list_a + list_b\n",
        "print(list_c)"
      ],
      "execution_count": null,
      "outputs": [
        {
          "output_type": "stream",
          "text": [
            "[1, 4, ['ast'], -9, -8]\n"
          ],
          "name": "stdout"
        }
      ]
    },
    {
      "cell_type": "markdown",
      "metadata": {
        "id": "Dj23S3sQZxrA",
        "colab_type": "text"
      },
      "source": [
        "## List slicing (:)"
      ]
    },
    {
      "cell_type": "markdown",
      "metadata": {
        "id": "54FpscYRa1XE",
        "colab_type": "text"
      },
      "source": [
        "slicing คือ แบ่ง"
      ]
    },
    {
      "cell_type": "code",
      "metadata": {
        "id": "UE2g3skTZu29",
        "colab_type": "code",
        "colab": {}
      },
      "source": [
        "list_Ex = list(range(-29,100,3))"
      ],
      "execution_count": 5,
      "outputs": []
    },
    {
      "cell_type": "markdown",
      "metadata": {
        "id": "uyp8_tT5a_G9",
        "colab_type": "text"
      },
      "source": [
        "0 ตัวเริ่มต้น 7 ตัวสิ้นสุด"
      ]
    },
    {
      "cell_type": "code",
      "metadata": {
        "id": "e1axAglNaZ0e",
        "colab_type": "code",
        "colab": {
          "base_uri": "https://localhost:8080/",
          "height": 34
        },
        "outputId": "19ffb981-903d-465a-e51d-e3ff884ca9dc"
      },
      "source": [
        "list_Ex[0:7]"
      ],
      "execution_count": 7,
      "outputs": [
        {
          "output_type": "execute_result",
          "data": {
            "text/plain": [
              "[-29, -26, -23, -20, -17, -14, -11]"
            ]
          },
          "metadata": {
            "tags": []
          },
          "execution_count": 7
        }
      ]
    },
    {
      "cell_type": "markdown",
      "metadata": {
        "id": "xWUNaUrDbTz6",
        "colab_type": "text"
      },
      "source": [
        "ไม่ต้องใส่ ก็รู้ว่าตัวสุดท้ายคืออะไร"
      ]
    },
    {
      "cell_type": "code",
      "metadata": {
        "id": "ologyO07bME0",
        "colab_type": "code",
        "colab": {
          "base_uri": "https://localhost:8080/",
          "height": 34
        },
        "outputId": "acda561f-be19-493c-f968-0163613b3b97"
      },
      "source": [
        "list_Ex[-6:]"
      ],
      "execution_count": 8,
      "outputs": [
        {
          "output_type": "execute_result",
          "data": {
            "text/plain": [
              "[82, 85, 88, 91, 94, 97]"
            ]
          },
          "metadata": {
            "tags": []
          },
          "execution_count": 8
        }
      ]
    },
    {
      "cell_type": "markdown",
      "metadata": {
        "id": "7CerOlwVcCS1",
        "colab_type": "text"
      },
      "source": [
        "ทำได้เหมือน range range(-29,100,3) บอกเสต็ป"
      ]
    },
    {
      "cell_type": "code",
      "metadata": {
        "id": "v-7VaM9Dbq_s",
        "colab_type": "code",
        "colab": {
          "base_uri": "https://localhost:8080/",
          "height": 34
        },
        "outputId": "cea6295a-7afa-47d2-c1f8-12e1bd67912c"
      },
      "source": [
        "list_Ex[::7]"
      ],
      "execution_count": 9,
      "outputs": [
        {
          "output_type": "execute_result",
          "data": {
            "text/plain": [
              "[-29, -8, 13, 34, 55, 76, 97]"
            ]
          },
          "metadata": {
            "tags": []
          },
          "execution_count": 9
        }
      ]
    },
    {
      "cell_type": "markdown",
      "metadata": {
        "id": "kcCB31wOJ-2_",
        "colab_type": "text"
      },
      "source": [
        "## string is a list of characters"
      ]
    },
    {
      "cell_type": "markdown",
      "metadata": {
        "id": "Q1rMOhjWodXs",
        "colab_type": "text"
      },
      "source": [
        "str เป็น list อย่างนึงของตัวอักษร"
      ]
    },
    {
      "cell_type": "code",
      "metadata": {
        "id": "89RXMFMjJaWD",
        "colab_type": "code",
        "colab": {}
      },
      "source": [
        "word_a = 'Applied Statistics @KKU'"
      ],
      "execution_count": null,
      "outputs": []
    },
    {
      "cell_type": "code",
      "metadata": {
        "id": "pxYel8huKvXJ",
        "colab_type": "code",
        "colab": {
          "base_uri": "https://localhost:8080/",
          "height": 35
        },
        "outputId": "bf16dd4a-6c0d-4f0f-b1ea-0687d471604f"
      },
      "source": [
        "word_a[-4]"
      ],
      "execution_count": null,
      "outputs": [
        {
          "output_type": "execute_result",
          "data": {
            "application/vnd.google.colaboratory.intrinsic+json": {
              "type": "string"
            },
            "text/plain": [
              "'@'"
            ]
          },
          "metadata": {
            "tags": []
          },
          "execution_count": 5
        }
      ]
    },
    {
      "cell_type": "markdown",
      "metadata": {
        "id": "ef-a007uLCF9",
        "colab_type": "text"
      },
      "source": [
        "เอาข้อความมาต่อกันได้ str ทำแบบ list ได้"
      ]
    },
    {
      "cell_type": "code",
      "metadata": {
        "id": "doVuN4WCKydW",
        "colab_type": "code",
        "colab": {
          "base_uri": "https://localhost:8080/",
          "height": 35
        },
        "outputId": "a3f40801-ae53-4d75-a3c4-9d78cae37a66"
      },
      "source": [
        "word_a + 'Thailand'"
      ],
      "execution_count": null,
      "outputs": [
        {
          "output_type": "execute_result",
          "data": {
            "application/vnd.google.colaboratory.intrinsic+json": {
              "type": "string"
            },
            "text/plain": [
              "'Applied Statistics @KKUThailand'"
            ]
          },
          "metadata": {
            "tags": []
          },
          "execution_count": 6
        }
      ]
    },
    {
      "cell_type": "code",
      "metadata": {
        "id": "fFl4EQY8K9zV",
        "colab_type": "code",
        "colab": {
          "base_uri": "https://localhost:8080/",
          "height": 34
        },
        "outputId": "ec8cf01c-722d-4dfe-bd7f-50d074df976e"
      },
      "source": [
        "len(word_a)"
      ],
      "execution_count": null,
      "outputs": [
        {
          "output_type": "execute_result",
          "data": {
            "text/plain": [
              "23"
            ]
          },
          "metadata": {
            "tags": []
          },
          "execution_count": 7
        }
      ]
    },
    {
      "cell_type": "markdown",
      "metadata": {
        "id": "9SKphHUKMbIr",
        "colab_type": "text"
      },
      "source": [
        "มีตัว f ในปีกกาจะเป็น ตัวแปร"
      ]
    },
    {
      "cell_type": "markdown",
      "metadata": {
        "id": "NiJCrF-yopNz",
        "colab_type": "text"
      },
      "source": [
        ""
      ]
    },
    {
      "cell_type": "code",
      "metadata": {
        "id": "m2FehIlVLPaI",
        "colab_type": "code",
        "colab": {
          "base_uri": "https://localhost:8080/",
          "height": 35
        },
        "outputId": "b79b1f41-a4eb-4eac-9bac-06042a83fd84"
      },
      "source": [
        "f'my sentence is \"{word_a}\"'"
      ],
      "execution_count": null,
      "outputs": [
        {
          "output_type": "execute_result",
          "data": {
            "application/vnd.google.colaboratory.intrinsic+json": {
              "type": "string"
            },
            "text/plain": [
              "'my sentence is \"Applied Statistics @KKU\"'"
            ]
          },
          "metadata": {
            "tags": []
          },
          "execution_count": 11
        }
      ]
    },
    {
      "cell_type": "code",
      "metadata": {
        "id": "2Uky2o4lL348",
        "colab_type": "code",
        "colab": {
          "base_uri": "https://localhost:8080/",
          "height": 35
        },
        "outputId": "9f408f3a-b6bc-4b9b-e129-25f9b94722a4"
      },
      "source": [
        " a = 57\n",
        " b = 3\n",
        " f'{a} modula {b} is {a%b}'"
      ],
      "execution_count": null,
      "outputs": [
        {
          "output_type": "execute_result",
          "data": {
            "application/vnd.google.colaboratory.intrinsic+json": {
              "type": "string"
            },
            "text/plain": [
              "'57 modula 3 is 0'"
            ]
          },
          "metadata": {
            "tags": []
          },
          "execution_count": 13
        }
      ]
    },
    {
      "cell_type": "code",
      "metadata": {
        "id": "cYC2cN1QLjoN",
        "colab_type": "code",
        "colab": {
          "base_uri": "https://localhost:8080/",
          "height": 34
        },
        "outputId": "a7af52c9-7e67-4e08-fd8a-be187a150012"
      },
      "source": [
        "word_b = f'my list is {list_c}'\n",
        "print(word_b)"
      ],
      "execution_count": null,
      "outputs": [
        {
          "output_type": "stream",
          "text": [
            "my list is [1, 4, ['ast'], -9, -8]\n"
          ],
          "name": "stdout"
        }
      ]
    },
    {
      "cell_type": "markdown",
      "metadata": {
        "id": "EnMOv4MeNVOa",
        "colab_type": "text"
      },
      "source": [
        "split แยกตาม space bar"
      ]
    },
    {
      "cell_type": "code",
      "metadata": {
        "id": "1FvaeSieNBrR",
        "colab_type": "code",
        "colab": {
          "base_uri": "https://localhost:8080/",
          "height": 34
        },
        "outputId": "e12edb6e-31a5-41fc-b9c3-b83e27f54253"
      },
      "source": [
        "word_b.split()"
      ],
      "execution_count": null,
      "outputs": [
        {
          "output_type": "execute_result",
          "data": {
            "text/plain": [
              "['my', 'list', 'is', '[1,', '4,', \"['ast'],\", '-9,', '-8]']"
            ]
          },
          "metadata": {
            "tags": []
          },
          "execution_count": 15
        }
      ]
    },
    {
      "cell_type": "markdown",
      "metadata": {
        "id": "BrjVyLlDOFuy",
        "colab_type": "text"
      },
      "source": [
        "ใช้ , กับ space ในการตัด"
      ]
    },
    {
      "cell_type": "code",
      "metadata": {
        "id": "qyWXT5HmNJfJ",
        "colab_type": "code",
        "colab": {
          "base_uri": "https://localhost:8080/",
          "height": 34
        },
        "outputId": "9c3d1759-fe63-4fa9-810b-8e0017350ec5"
      },
      "source": [
        "word_b.split(', ')"
      ],
      "execution_count": null,
      "outputs": [
        {
          "output_type": "execute_result",
          "data": {
            "text/plain": [
              "['my list is [1', '4', \"['ast']\", '-9', '-8]']"
            ]
          },
          "metadata": {
            "tags": []
          },
          "execution_count": 18
        }
      ]
    },
    {
      "cell_type": "markdown",
      "metadata": {
        "id": "rYC22vYuOM35",
        "colab_type": "text"
      },
      "source": [
        "replace แทนที่ตัวข้างหน้าด้วยตัวข้างหลังส่วนใหญ่ใช้ลบตัวอักษร"
      ]
    },
    {
      "cell_type": "code",
      "metadata": {
        "id": "7FqW4DD8N2Dc",
        "colab_type": "code",
        "colab": {
          "base_uri": "https://localhost:8080/",
          "height": 35
        },
        "outputId": "d41da5d8-d53c-4eef-f6ee-2120df1768fa"
      },
      "source": [
        "word_b.replace('[','')"
      ],
      "execution_count": null,
      "outputs": [
        {
          "output_type": "execute_result",
          "data": {
            "application/vnd.google.colaboratory.intrinsic+json": {
              "type": "string"
            },
            "text/plain": [
              "\"my list is 1, 4, 'ast'], -9, -8]\""
            ]
          },
          "metadata": {
            "tags": []
          },
          "execution_count": 19
        }
      ]
    },
    {
      "cell_type": "code",
      "metadata": {
        "id": "raNK9c3LOuNj",
        "colab_type": "code",
        "colab": {
          "base_uri": "https://localhost:8080/",
          "height": 35
        },
        "outputId": "6884450a-e5f7-408c-f236-bc09505d2a0e"
      },
      "source": [
        "word_b.replace('[','xxx')"
      ],
      "execution_count": null,
      "outputs": [
        {
          "output_type": "execute_result",
          "data": {
            "application/vnd.google.colaboratory.intrinsic+json": {
              "type": "string"
            },
            "text/plain": [
              "\"my list is xxx1, 4, xxx'ast'], -9, -8]\""
            ]
          },
          "metadata": {
            "tags": []
          },
          "execution_count": 20
        }
      ]
    },
    {
      "cell_type": "markdown",
      "metadata": {
        "id": "NoZYzFf2PJk8",
        "colab_type": "text"
      },
      "source": [
        "## Loop"
      ]
    },
    {
      "cell_type": "markdown",
      "metadata": {
        "id": "_QjfOAgNP2Y7",
        "colab_type": "text"
      },
      "source": [
        "สำหรับ i ทุกตัวใน list"
      ]
    },
    {
      "cell_type": "code",
      "metadata": {
        "id": "dGk6Iu7mO05F",
        "colab_type": "code",
        "colab": {
          "base_uri": "https://localhost:8080/",
          "height": 84
        },
        "outputId": "d38a78ad-3282-4582-944e-8a593e3f48d7"
      },
      "source": [
        "for i in [1,2,3,4]:\n",
        "    print(i)"
      ],
      "execution_count": null,
      "outputs": [
        {
          "output_type": "stream",
          "text": [
            "1\n",
            "2\n",
            "3\n",
            "4\n"
          ],
          "name": "stdout"
        }
      ]
    },
    {
      "cell_type": "code",
      "metadata": {
        "id": "wzEchNlgPIb6",
        "colab_type": "code",
        "colab": {
          "base_uri": "https://localhost:8080/",
          "height": 168
        },
        "outputId": "85a539bb-6dd7-4371-b81e-e6e9088b96ed"
      },
      "source": [
        "for i in [1,2,3,4]:\n",
        "    print(i)\n",
        "    print('hahaha')\n",
        "print('end')"
      ],
      "execution_count": null,
      "outputs": [
        {
          "output_type": "stream",
          "text": [
            "1\n",
            "hahaha\n",
            "2\n",
            "hahaha\n",
            "3\n",
            "hahaha\n",
            "4\n",
            "hahaha\n",
            "end\n"
          ],
          "name": "stdout"
        }
      ]
    },
    {
      "cell_type": "markdown",
      "metadata": {
        "id": "mUTcNpEBQ6_p",
        "colab_type": "text"
      },
      "source": [
        "เข้าไปใน str ของ word_a ใน list แต่ละรอบ"
      ]
    },
    {
      "cell_type": "code",
      "metadata": {
        "id": "9FDam1lFQJd_",
        "colab_type": "code",
        "colab": {
          "base_uri": "https://localhost:8080/",
          "height": 403
        },
        "outputId": "0e15887f-65bc-4d2b-c0a2-d4dfe5143630"
      },
      "source": [
        "for x in word_a:\n",
        "    print(x)"
      ],
      "execution_count": null,
      "outputs": [
        {
          "output_type": "stream",
          "text": [
            "A\n",
            "p\n",
            "p\n",
            "l\n",
            "i\n",
            "e\n",
            "d\n",
            " \n",
            "S\n",
            "t\n",
            "a\n",
            "t\n",
            "i\n",
            "s\n",
            "t\n",
            "i\n",
            "c\n",
            "s\n",
            " \n",
            "@\n",
            "K\n",
            "K\n",
            "U\n"
          ],
          "name": "stdout"
        }
      ]
    },
    {
      "cell_type": "markdown",
      "metadata": {
        "id": "fCF2ns0wRUPd",
        "colab_type": "text"
      },
      "source": [
        "range คำสั่งสร้าง list ตัวเลขไปจากศูนย์จนถึง n-1"
      ]
    },
    {
      "cell_type": "code",
      "metadata": {
        "id": "YR4T2gjsQ4zZ",
        "colab_type": "code",
        "colab": {
          "base_uri": "https://localhost:8080/",
          "height": 34
        },
        "outputId": "a2f2fa09-1ad0-4c42-f123-2d6c958ec667"
      },
      "source": [
        "range(5)"
      ],
      "execution_count": null,
      "outputs": [
        {
          "output_type": "execute_result",
          "data": {
            "text/plain": [
              "range(0, 5)"
            ]
          },
          "metadata": {
            "tags": []
          },
          "execution_count": 28
        }
      ]
    },
    {
      "cell_type": "code",
      "metadata": {
        "id": "B2LrGZFfRSU0",
        "colab_type": "code",
        "colab": {
          "base_uri": "https://localhost:8080/",
          "height": 134
        },
        "outputId": "bfbefdd2-1b30-4534-879b-b5f6e699977e"
      },
      "source": [
        "for i in range(7):\n",
        "    print(i)"
      ],
      "execution_count": null,
      "outputs": [
        {
          "output_type": "stream",
          "text": [
            "0\n",
            "1\n",
            "2\n",
            "3\n",
            "4\n",
            "5\n",
            "6\n"
          ],
          "name": "stdout"
        }
      ]
    },
    {
      "cell_type": "code",
      "metadata": {
        "id": "ToWdAYa_SQBO",
        "colab_type": "code",
        "colab": {
          "base_uri": "https://localhost:8080/",
          "height": 134
        },
        "outputId": "2b020b25-fc61-485b-9ff5-9130c7687275"
      },
      "source": [
        "for i in range(7):\n",
        "    print(i+1)"
      ],
      "execution_count": null,
      "outputs": [
        {
          "output_type": "stream",
          "text": [
            "1\n",
            "2\n",
            "3\n",
            "4\n",
            "5\n",
            "6\n",
            "7\n"
          ],
          "name": "stdout"
        }
      ]
    },
    {
      "cell_type": "markdown",
      "metadata": {
        "id": "0nelCRZ9R4RF",
        "colab_type": "text"
      },
      "source": [
        "วนรูปจะบอกว่าทำกี่รอบ ไม่จำเป็นต้องใช้  i ตลอด"
      ]
    },
    {
      "cell_type": "code",
      "metadata": {
        "id": "E_3kcuIKRjJv",
        "colab_type": "code",
        "colab": {
          "base_uri": "https://localhost:8080/",
          "height": 185
        },
        "outputId": "4649d1e1-614a-4391-b88c-8cf03c16c1fe"
      },
      "source": [
        "for i in range(10):\n",
        "    print('ha')"
      ],
      "execution_count": null,
      "outputs": [
        {
          "output_type": "stream",
          "text": [
            "ha\n",
            "ha\n",
            "ha\n",
            "ha\n",
            "ha\n",
            "ha\n",
            "ha\n",
            "ha\n",
            "ha\n",
            "ha\n"
          ],
          "name": "stdout"
        }
      ]
    },
    {
      "cell_type": "markdown",
      "metadata": {
        "id": "H6BygbzeSlbS",
        "colab_type": "text"
      },
      "source": [
        "Q1 ปริ้นเลขคู่ตั้งแต่ 0-22"
      ]
    },
    {
      "cell_type": "code",
      "metadata": {
        "id": "YOtKXzkkR3IX",
        "colab_type": "code",
        "colab": {
          "base_uri": "https://localhost:8080/",
          "height": 218
        },
        "outputId": "884ab5e8-cbcc-4775-b062-d8112d27fd13"
      },
      "source": [
        "for i in range(12):\n",
        "    print(i*2)"
      ],
      "execution_count": null,
      "outputs": [
        {
          "output_type": "stream",
          "text": [
            "0\n",
            "2\n",
            "4\n",
            "6\n",
            "8\n",
            "10\n",
            "12\n",
            "14\n",
            "16\n",
            "18\n",
            "20\n",
            "22\n"
          ],
          "name": "stdout"
        }
      ]
    },
    {
      "cell_type": "markdown",
      "metadata": {
        "id": "l6JrpZPKUbC0",
        "colab_type": "text"
      },
      "source": [
        "## Q1 ปริ้นเลขคู่ตั้งแต่ 4-22"
      ]
    },
    {
      "cell_type": "code",
      "metadata": {
        "id": "6DY6XcdvSeUy",
        "colab_type": "code",
        "colab": {
          "base_uri": "https://localhost:8080/",
          "height": 185
        },
        "outputId": "4a60f6fc-c1f1-4462-e149-6ab807d02564"
      },
      "source": [
        "for i in range(2,12):\n",
        "    print(i*2)"
      ],
      "execution_count": null,
      "outputs": [
        {
          "output_type": "stream",
          "text": [
            "4\n",
            "6\n",
            "8\n",
            "10\n",
            "12\n",
            "14\n",
            "16\n",
            "18\n",
            "20\n",
            "22\n"
          ],
          "name": "stdout"
        }
      ]
    },
    {
      "cell_type": "code",
      "metadata": {
        "id": "5223dUcbUUfJ",
        "colab_type": "code",
        "colab": {
          "base_uri": "https://localhost:8080/",
          "height": 185
        },
        "outputId": "2a046dbd-1e6d-44ba-cf24-17f8ad37af1d"
      },
      "source": [
        "for i in range(10):\n",
        "    print((i*2)+4)"
      ],
      "execution_count": null,
      "outputs": [
        {
          "output_type": "stream",
          "text": [
            "4\n",
            "6\n",
            "8\n",
            "10\n",
            "12\n",
            "14\n",
            "16\n",
            "18\n",
            "20\n",
            "22\n"
          ],
          "name": "stdout"
        }
      ]
    },
    {
      "cell_type": "markdown",
      "metadata": {
        "id": "vzxVRqpBWCnF",
        "colab_type": "text"
      },
      "source": [
        "range(a,b) -> [a,b)"
      ]
    },
    {
      "cell_type": "code",
      "metadata": {
        "id": "qajqcyUmVEyA",
        "colab_type": "code",
        "colab": {
          "base_uri": "https://localhost:8080/",
          "height": 185
        },
        "outputId": "c47c2fa9-c45a-4b1f-b483-9a00ac31fc10"
      },
      "source": [
        "for i in range(4,23,2):\n",
        "    print(i)"
      ],
      "execution_count": null,
      "outputs": [
        {
          "output_type": "stream",
          "text": [
            "4\n",
            "6\n",
            "8\n",
            "10\n",
            "12\n",
            "14\n",
            "16\n",
            "18\n",
            "20\n",
            "22\n"
          ],
          "name": "stdout"
        }
      ]
    },
    {
      "cell_type": "code",
      "metadata": {
        "id": "u3V4LlmbVtRz",
        "colab_type": "code",
        "colab": {
          "base_uri": "https://localhost:8080/",
          "height": 269
        },
        "outputId": "0f1bab47-9267-48fa-a854-738190edf60f"
      },
      "source": [
        "for i in range(3):\n",
        "    print('start inner')\n",
        "    for j in range(3):\n",
        "      print(f'i = {i}, j = {j} ixj = {i*j}')\n",
        "    print('end inner')"
      ],
      "execution_count": null,
      "outputs": [
        {
          "output_type": "stream",
          "text": [
            "start inner\n",
            "i = 0, j = 0 ixj = 0\n",
            "i = 0, j = 1 ixj = 0\n",
            "i = 0, j = 2 ixj = 0\n",
            "end inner\n",
            "start inner\n",
            "i = 1, j = 0 ixj = 0\n",
            "i = 1, j = 1 ixj = 1\n",
            "i = 1, j = 2 ixj = 2\n",
            "end inner\n",
            "start inner\n",
            "i = 2, j = 0 ixj = 0\n",
            "i = 2, j = 1 ixj = 2\n",
            "i = 2, j = 2 ixj = 4\n",
            "end inner\n"
          ],
          "name": "stdout"
        }
      ]
    },
    {
      "cell_type": "markdown",
      "metadata": {
        "id": "_uwaxmddYO9z",
        "colab_type": "text"
      },
      "source": [
        "# if statement"
      ]
    },
    {
      "cell_type": "markdown",
      "metadata": {
        "id": "bBerdaZdYqZt",
        "colab_type": "text"
      },
      "source": [
        "if ตามด้วย เงื่อนไข "
      ]
    },
    {
      "cell_type": "code",
      "metadata": {
        "id": "pMXpmAQvXO96",
        "colab_type": "code",
        "colab": {}
      },
      "source": [
        "if 2>3:\n",
        "    print('2>3')"
      ],
      "execution_count": null,
      "outputs": []
    },
    {
      "cell_type": "code",
      "metadata": {
        "id": "VpSJNrY9YzIQ",
        "colab_type": "code",
        "colab": {
          "base_uri": "https://localhost:8080/",
          "height": 34
        },
        "outputId": "b75c011a-c6d6-4b7f-dcc1-0c43848898e0"
      },
      "source": [
        "if 2>3:\n",
        "    print('2>3')\n",
        "else:\n",
        "    print('2<3')"
      ],
      "execution_count": null,
      "outputs": [
        {
          "output_type": "stream",
          "text": [
            "2<3\n"
          ],
          "name": "stdout"
        }
      ]
    },
    {
      "cell_type": "markdown",
      "metadata": {
        "id": "DpXumpZdaPqe",
        "colab_type": "text"
      },
      "source": [
        "ถ้าอันไหนเป็นจริงทำอันนั้น"
      ]
    },
    {
      "cell_type": "code",
      "metadata": {
        "id": "xBJfasbjZG0N",
        "colab_type": "code",
        "colab": {
          "base_uri": "https://localhost:8080/",
          "height": 34
        },
        "outputId": "77b9a487-d841-48cf-c54e-905d27a7e02e"
      },
      "source": [
        "if 2>3:\n",
        "    print('4>7')\n",
        "elif 4 > 6:\n",
        "    print('4>6')\n",
        "elif 4 > 5:\n",
        "    print('4>5')  \n",
        "elif 4 > 4:\n",
        "    print('4>4')\n",
        "else: \n",
        "    print('4 is not greater than 4-7')"
      ],
      "execution_count": null,
      "outputs": [
        {
          "output_type": "stream",
          "text": [
            "4 is not greater than 4-7\n"
          ],
          "name": "stdout"
        }
      ]
    },
    {
      "cell_type": "markdown",
      "metadata": {
        "id": "J3JOhV-6aTwd",
        "colab_type": "text"
      },
      "source": [
        "## Q2 หาค่ามากที่สุดใน list_EX = [-4,-1,-9,8,11] โดยไม่ใช้ function max()"
      ]
    },
    {
      "cell_type": "code",
      "metadata": {
        "id": "q42lpYMtZ_LE",
        "colab_type": "code",
        "colab": {
          "base_uri": "https://localhost:8080/",
          "height": 34
        },
        "outputId": "5a0fdeb4-5cb8-476b-bbe2-aa6a6e02009f"
      },
      "source": [
        "list_EX = [-4, -1, -9, 8, 11]\n",
        "maxval = -10000000\n",
        "for i in list_EX :\n",
        "  if i > maxval:\n",
        "    maxval = i\n",
        "\n",
        "print(maxval)"
      ],
      "execution_count": null,
      "outputs": [
        {
          "output_type": "stream",
          "text": [
            "11\n"
          ],
          "name": "stdout"
        }
      ]
    },
    {
      "cell_type": "markdown",
      "metadata": {
        "id": "IwMHvfqJg3ZI",
        "colab_type": "text"
      },
      "source": [
        "## HW3\n",
        "เขียนฟังก์ชัน เรียงลำดับค่าใน list_EX จากค่ามากที่สุดไปน้อยที่สุด โดยไม่ใช้ function ของ python (sort()) hint: ใช้สองลูป"
      ]
    },
    {
      "cell_type": "code",
      "metadata": {
        "id": "SToDolWyv2EH",
        "colab_type": "code",
        "colab": {
          "base_uri": "https://localhost:8080/",
          "height": 34
        },
        "outputId": "435174ce-6c59-4eab-ff13-a839cf526657"
      },
      "source": [
        "list_EX = [-4, -1, -9, 8, 11]\n",
        "list_NEW = []\n",
        "\n",
        "while list_EX:\n",
        "    maximum = list_EX[0] \n",
        "    for i in list_EX: \n",
        "        if i > maximum:\n",
        "            maximum = i\n",
        "    list_NEW.append(maximum)\n",
        "    list_EX.remove(maximum)    \n",
        "\n",
        "print(list_NEW)"
      ],
      "execution_count": null,
      "outputs": [
        {
          "output_type": "stream",
          "text": [
            "[11, 8, -1, -4, -9]\n"
          ],
          "name": "stdout"
        }
      ]
    },
    {
      "cell_type": "markdown",
      "metadata": {
        "id": "ntkb_6_5ZWDr",
        "colab_type": "text"
      },
      "source": [
        "โค้ดของพี่เฟิร์น"
      ]
    },
    {
      "cell_type": "code",
      "metadata": {
        "id": "CpokTTxaXFmb",
        "colab_type": "code",
        "colab": {
          "base_uri": "https://localhost:8080/",
          "height": 34
        },
        "outputId": "ea0cd641-7750-4d24-9cc4-bed679522acb"
      },
      "source": [
        "list_EX = [-4, -1, -9, 8, 11]\n",
        "for i in range(len(list_EX)-1) :                  #ทำซ้ำ len(list_EX)-1 ครั้ง\n",
        "  for j in range(len(list_EX)-i-1) :              #ทำซ้ำตั้งแต่ j เป็น 0 ไปถึง j เป็น len(list_EX)-i-1 \n",
        "    if (list_EX[j] < list_EX[j+1]) :              #ถ้าซ้ายน้อยกว่าขวาให้สลับ\n",
        "      list_EX[j], list_EX[j+1] = list_EX[j+1], list_EX[j]           \n",
        "print(list_EX)\n",
        "\n"
      ],
      "execution_count": 1,
      "outputs": [
        {
          "output_type": "stream",
          "text": [
            "[11, 8, -1, -4, -9]\n"
          ],
          "name": "stdout"
        }
      ]
    },
    {
      "cell_type": "code",
      "metadata": {
        "id": "RrY8kpG6lcDx",
        "colab_type": "code",
        "colab": {
          "base_uri": "https://localhost:8080/",
          "height": 34
        },
        "outputId": "f2626450-43cb-48b2-a7f4-280fe96efc60"
      },
      "source": [
        "list_EX = [-4, -1, -9, 8, 11]\n",
        "list_EX.sort(reverse=True)\n",
        "list_EX"
      ],
      "execution_count": null,
      "outputs": [
        {
          "output_type": "execute_result",
          "data": {
            "text/plain": [
              "[11, 8, -1, -4, -9]"
            ]
          },
          "metadata": {
            "tags": []
          },
          "execution_count": 5
        }
      ]
    },
    {
      "cell_type": "markdown",
      "metadata": {
        "id": "GwWQ6CtLhk_9",
        "colab_type": "text"
      },
      "source": [
        "# Functio()"
      ]
    },
    {
      "cell_type": "markdown",
      "metadata": {
        "id": "JaFnLy3GiUZH",
        "colab_type": "text"
      },
      "source": [
        "ฟังก์ชันที่ดีต้องมีสามส่วน input process output สำคัญสุดคือ process"
      ]
    },
    {
      "cell_type": "markdown",
      "metadata": {
        "id": "cU1TSvdYif4H",
        "colab_type": "text"
      },
      "source": [
        "##Syntax"
      ]
    },
    {
      "cell_type": "code",
      "metadata": {
        "id": "MfTAgNkCbRdM",
        "colab_type": "code",
        "colab": {}
      },
      "source": [
        "def find_max(in_list):\n",
        "    '''code'''\n",
        "    return x "
      ],
      "execution_count": null,
      "outputs": []
    },
    {
      "cell_type": "markdown",
      "metadata": {
        "id": "mdK2CBDQVagk",
        "colab_type": "text"
      },
      "source": [
        "ฟังก์ชันหาค่ามากสุด"
      ]
    },
    {
      "cell_type": "code",
      "metadata": {
        "id": "h7dJuFcwja_U",
        "colab_type": "code",
        "colab": {}
      },
      "source": [
        "def find_max(in_list):\n",
        "    MAXIMUM = -10000000\n",
        "    for i in in_list :\n",
        "      if i > MAXIMUM :\n",
        "        print(f'{i}>{MAXIMUM} UPDATE!,',end='')\n",
        "        MAXIMUM = i\n",
        "        print(f'now maximum is {MAXIMUM}')\n",
        "      else:\n",
        "        print(f'{i}<{MAXIMUM} NOT UPDATE, now maximum is {MAXIMUM}')\n",
        "    print(f'the answer is {MAXIMUM} is the maximum number of {in_list}')\n",
        "    return MAXIMUM"
      ],
      "execution_count": null,
      "outputs": []
    },
    {
      "cell_type": "code",
      "metadata": {
        "id": "i0GNrbinlHmt",
        "colab_type": "code",
        "colab": {
          "base_uri": "https://localhost:8080/",
          "height": 118
        },
        "outputId": "fb1bc147-c0c3-41ff-f279-65cb28dcb3d7"
      },
      "source": [
        "x = find_max([1, 1000, -200, 576, -1999])"
      ],
      "execution_count": null,
      "outputs": [
        {
          "output_type": "stream",
          "text": [
            "1>-10000000 UPDATE!,now maximum is 1\n",
            "1000>1 UPDATE!,now maximum is 1000\n",
            "-200<1000 NOT UPDATE, now maximum is 1000\n",
            "576<1000 NOT UPDATE, now maximum is 1000\n",
            "-1999<1000 NOT UPDATE, now maximum is 1000\n",
            "the answer is 1000 is the maximum number of [1, 1000, -200, 576, -1999]\n"
          ],
          "name": "stdout"
        }
      ]
    },
    {
      "cell_type": "code",
      "metadata": {
        "id": "GAhUSbZiluLo",
        "colab_type": "code",
        "colab": {
          "base_uri": "https://localhost:8080/",
          "height": 34
        },
        "outputId": "3960d8da-5b60-43f9-9b30-cc51277a2239"
      },
      "source": [
        "x"
      ],
      "execution_count": null,
      "outputs": [
        {
          "output_type": "execute_result",
          "data": {
            "text/plain": [
              "1000"
            ]
          },
          "metadata": {
            "tags": []
          },
          "execution_count": 82
        }
      ]
    },
    {
      "cell_type": "code",
      "metadata": {
        "id": "s4ekW4o0mFxe",
        "colab_type": "code",
        "colab": {}
      },
      "source": [
        "def print_hello() :\n",
        "    print('hello')"
      ],
      "execution_count": null,
      "outputs": []
    },
    {
      "cell_type": "code",
      "metadata": {
        "id": "PMCChPX2nPkL",
        "colab_type": "code",
        "colab": {
          "base_uri": "https://localhost:8080/",
          "height": 34
        },
        "outputId": "301553c5-a2bb-49c7-c549-9ae2bf86558f"
      },
      "source": [
        "print_hello()\n"
      ],
      "execution_count": null,
      "outputs": [
        {
          "output_type": "stream",
          "text": [
            "hello\n"
          ],
          "name": "stdout"
        }
      ]
    },
    {
      "cell_type": "code",
      "metadata": {
        "id": "8yIoeKE1nUMl",
        "colab_type": "code",
        "colab": {}
      },
      "source": [
        "def add(x,y) :\n",
        "  return x+y"
      ],
      "execution_count": null,
      "outputs": []
    },
    {
      "cell_type": "code",
      "metadata": {
        "id": "o51UEYS2nhNd",
        "colab_type": "code",
        "colab": {
          "base_uri": "https://localhost:8080/",
          "height": 34
        },
        "outputId": "691840d6-88b5-487a-dcb6-05f329967f6b"
      },
      "source": [
        "add(10,20)"
      ],
      "execution_count": null,
      "outputs": [
        {
          "output_type": "execute_result",
          "data": {
            "text/plain": [
              "30"
            ]
          },
          "metadata": {
            "tags": []
          },
          "execution_count": 87
        }
      ]
    },
    {
      "cell_type": "code",
      "metadata": {
        "id": "_adqCMFhnlY5",
        "colab_type": "code",
        "colab": {}
      },
      "source": [
        "def substract(x,y) :\n",
        "    return x-y"
      ],
      "execution_count": null,
      "outputs": []
    },
    {
      "cell_type": "code",
      "metadata": {
        "id": "4B7SpIIHnvLb",
        "colab_type": "code",
        "colab": {
          "base_uri": "https://localhost:8080/",
          "height": 34
        },
        "outputId": "036f9a66-bad7-492f-f066-36043f9fc4c0"
      },
      "source": [
        "substract(10,20)"
      ],
      "execution_count": null,
      "outputs": [
        {
          "output_type": "execute_result",
          "data": {
            "text/plain": [
              "-10"
            ]
          },
          "metadata": {
            "tags": []
          },
          "execution_count": 91
        }
      ]
    },
    {
      "cell_type": "code",
      "metadata": {
        "id": "BbdIPVmRnzAf",
        "colab_type": "code",
        "colab": {
          "base_uri": "https://localhost:8080/",
          "height": 34
        },
        "outputId": "3eb04331-77f2-4d8c-d92c-88f533b9be80"
      },
      "source": [
        "substract(y=10,x=20)"
      ],
      "execution_count": null,
      "outputs": [
        {
          "output_type": "execute_result",
          "data": {
            "text/plain": [
              "10"
            ]
          },
          "metadata": {
            "tags": []
          },
          "execution_count": 93
        }
      ]
    },
    {
      "cell_type": "code",
      "metadata": {
        "id": "xDoDIFmqn70j",
        "colab_type": "code",
        "colab": {}
      },
      "source": [
        ""
      ],
      "execution_count": null,
      "outputs": []
    }
  ]
}