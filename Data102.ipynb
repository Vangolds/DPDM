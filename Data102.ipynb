{
  "nbformat": 4,
  "nbformat_minor": 0,
  "metadata": {
    "colab": {
      "name": "Data102.ipynb",
      "provenance": [],
      "authorship_tag": "ABX9TyM28lFmInFjsmIaE+VM05pQ",
      "include_colab_link": true
    },
    "kernelspec": {
      "name": "python3",
      "display_name": "Python 3"
    }
  },
  "cells": [
    {
      "cell_type": "markdown",
      "metadata": {
        "id": "view-in-github",
        "colab_type": "text"
      },
      "source": [
        "<a href=\"https://colab.research.google.com/github/Vangolds/DPDM/blob/master/Data102.ipynb\" target=\"_parent\"><img src=\"https://colab.research.google.com/assets/colab-badge.svg\" alt=\"Open In Colab\"/></a>"
      ]
    },
    {
      "cell_type": "markdown",
      "metadata": {
        "id": "fYZoUtbpeXFe",
        "colab_type": "text"
      },
      "source": [
        "#Visualization\n",
        "-Understanding Matplotib Functions\n",
        "-Boxplot\n",
        "-Scatter\n",
        "-Plot\n",
        "-Barchart\n",
        "-Histogram\n",
        "-Q-Q plot"
      ]
    },
    {
      "cell_type": "code",
      "metadata": {
        "id": "SDHuH841cxB6",
        "colab_type": "code",
        "colab": {
          "base_uri": "https://localhost:8080/",
          "height": 121
        },
        "outputId": "3c764181-f1cc-42c5-b148-080659e942fc"
      },
      "source": [
        "from google.colab import drive\n",
        "drive.mount('/content/drive')"
      ],
      "execution_count": 1,
      "outputs": [
        {
          "output_type": "stream",
          "text": [
            "Go to this URL in a browser: https://accounts.google.com/o/oauth2/auth?client_id=947318989803-6bn6qk8qdgf4n4g3pfee6491hc0brc4i.apps.googleusercontent.com&redirect_uri=urn%3aietf%3awg%3aoauth%3a2.0%3aoob&scope=email%20https%3a%2f%2fwww.googleapis.com%2fauth%2fdocs.test%20https%3a%2f%2fwww.googleapis.com%2fauth%2fdrive%20https%3a%2f%2fwww.googleapis.com%2fauth%2fdrive.photos.readonly%20https%3a%2f%2fwww.googleapis.com%2fauth%2fpeopleapi.readonly&response_type=code\n",
            "\n",
            "Enter your authorization code:\n",
            "··········\n",
            "Mounted at /content/drive\n"
          ],
          "name": "stdout"
        }
      ]
    },
    {
      "cell_type": "code",
      "metadata": {
        "id": "_5G33pCpeTkC",
        "colab_type": "code",
        "colab": {
          "base_uri": "https://localhost:8080/",
          "height": 195
        },
        "outputId": "9e1fcffd-2957-4b8a-fe14-d9e628c65f9c"
      },
      "source": [
        "# import os for file maniputation\n",
        "import os\n",
        "import pandas as pd\n",
        "#สร้างตัวแปรมารับ path\n",
        "base_path = '/content/drive/My Drive/DWDM_material'\n",
        "#เชื่อมชื่อไฟล์กับ path\n",
        "data = pd.read_csv(os.path.join(base_path,'test.csv'))\n",
        "# show head of data table\n",
        "data.head()\n"
      ],
      "execution_count": 2,
      "outputs": [
        {
          "output_type": "execute_result",
          "data": {
            "text/html": [
              "<div>\n",
              "<style scoped>\n",
              "    .dataframe tbody tr th:only-of-type {\n",
              "        vertical-align: middle;\n",
              "    }\n",
              "\n",
              "    .dataframe tbody tr th {\n",
              "        vertical-align: top;\n",
              "    }\n",
              "\n",
              "    .dataframe thead th {\n",
              "        text-align: right;\n",
              "    }\n",
              "</style>\n",
              "<table border=\"1\" class=\"dataframe\">\n",
              "  <thead>\n",
              "    <tr style=\"text-align: right;\">\n",
              "      <th></th>\n",
              "      <th>Unnamed: 0</th>\n",
              "      <th>x</th>\n",
              "      <th>y</th>\n",
              "    </tr>\n",
              "  </thead>\n",
              "  <tbody>\n",
              "    <tr>\n",
              "      <th>0</th>\n",
              "      <td>0</td>\n",
              "      <td>55.3846</td>\n",
              "      <td>97.1795</td>\n",
              "    </tr>\n",
              "    <tr>\n",
              "      <th>1</th>\n",
              "      <td>1</td>\n",
              "      <td>51.5385</td>\n",
              "      <td>96.0256</td>\n",
              "    </tr>\n",
              "    <tr>\n",
              "      <th>2</th>\n",
              "      <td>2</td>\n",
              "      <td>46.1538</td>\n",
              "      <td>94.4872</td>\n",
              "    </tr>\n",
              "    <tr>\n",
              "      <th>3</th>\n",
              "      <td>3</td>\n",
              "      <td>42.8205</td>\n",
              "      <td>91.4103</td>\n",
              "    </tr>\n",
              "    <tr>\n",
              "      <th>4</th>\n",
              "      <td>4</td>\n",
              "      <td>40.7692</td>\n",
              "      <td>88.3333</td>\n",
              "    </tr>\n",
              "  </tbody>\n",
              "</table>\n",
              "</div>"
            ],
            "text/plain": [
              "   Unnamed: 0        x        y\n",
              "0           0  55.3846  97.1795\n",
              "1           1  51.5385  96.0256\n",
              "2           2  46.1538  94.4872\n",
              "3           3  42.8205  91.4103\n",
              "4           4  40.7692  88.3333"
            ]
          },
          "metadata": {
            "tags": []
          },
          "execution_count": 2
        }
      ]
    },
    {
      "cell_type": "code",
      "metadata": {
        "id": "f44d6XYiiCcs",
        "colab_type": "code",
        "colab": {}
      },
      "source": [
        "# import os for file manipulation\n",
        "import os\n",
        "# import pandas for tabular or dataframe manipulation\n",
        "import pandas as pd\n",
        "# สร้างตัวแปรสำหรับเก็บที่อยู่ของ data ทั้งหมด\n",
        "base_path = '/content/drive/My Drive/DWDM_material'\n",
        "# load data from test.csv to data\n",
        "data = pd.read_csv(os.path.join(base_path, 'test.csv'))\n",
        "# show head of the data table\n",
        "data.head()\n",
        "\n",
        "\n",
        "\n",
        "\n",
        "\n"
      ],
      "execution_count": null,
      "outputs": []
    },
    {
      "cell_type": "markdown",
      "metadata": {
        "id": "N4IRCEk2hww-",
        "colab_type": "text"
      },
      "source": [
        "#Boxplot"
      ]
    },
    {
      "cell_type": "code",
      "metadata": {
        "id": "Igf79UKPhm5s",
        "colab_type": "code",
        "colab": {}
      },
      "source": [
        "from matplotlib import pyplot as plt"
      ],
      "execution_count": 4,
      "outputs": []
    },
    {
      "cell_type": "code",
      "metadata": {
        "id": "qr_Ahe9eiHE3",
        "colab_type": "code",
        "colab": {
          "base_uri": "https://localhost:8080/",
          "height": 399
        },
        "outputId": "d4f66a61-2e1d-4845-ca30-10a40cda2d79"
      },
      "source": [
        "plt.boxplot(data['x'])"
      ],
      "execution_count": 5,
      "outputs": [
        {
          "output_type": "execute_result",
          "data": {
            "text/plain": [
              "{'boxes': [<matplotlib.lines.Line2D at 0x7ffa07a0a6d8>],\n",
              " 'caps': [<matplotlib.lines.Line2D at 0x7ffa07a25128>,\n",
              "  <matplotlib.lines.Line2D at 0x7ffa07a254a8>],\n",
              " 'fliers': [<matplotlib.lines.Line2D at 0x7ffa07a25ba8>],\n",
              " 'means': [],\n",
              " 'medians': [<matplotlib.lines.Line2D at 0x7ffa07a25828>],\n",
              " 'whiskers': [<matplotlib.lines.Line2D at 0x7ffa07a0a9e8>,\n",
              "  <matplotlib.lines.Line2D at 0x7ffa07a0ad68>]}"
            ]
          },
          "metadata": {
            "tags": []
          },
          "execution_count": 5
        },
        {
          "output_type": "display_data",
          "data": {
            "image/png": "[encoded data removed]",
            "text/plain": [
              "<Figure size 432x288 with 1 Axes>"
            ]
          },
          "metadata": {
            "tags": [],
            "needs_background": "light"
          }
        }
      ]
    },
    {
      "cell_type": "markdown",
      "metadata": {
        "id": "_sbclY7RmnQZ",
        "colab_type": "text"
      },
      "source": [
        "แสดง mean"
      ]
    },
    {
      "cell_type": "markdown",
      "metadata": {
        "id": "BJJkzg_soMs2",
        "colab_type": "text"
      },
      "source": [
        "vert แนวตั้งแนวนอน\n",
        "whis เปลี่ยนเลข 1.5 IQR"
      ]
    },
    {
      "cell_type": "code",
      "metadata": {
        "id": "6Qv-eR6GlRpc",
        "colab_type": "code",
        "colab": {
          "base_uri": "https://localhost:8080/",
          "height": 399
        },
        "outputId": "c2087c80-7fdd-48ba-f3be-62d9c40c2c7f"
      },
      "source": [
        "plt.boxplot(data['x'], showmeans=True, whis=0.8,vert=False)"
      ],
      "execution_count": 8,
      "outputs": [
        {
          "output_type": "execute_result",
          "data": {
            "text/plain": [
              "{'boxes': [<matplotlib.lines.Line2D at 0x7ffa0745c2e8>],\n",
              " 'caps': [<matplotlib.lines.Line2D at 0x7ffa0745ccc0>,\n",
              "  <matplotlib.lines.Line2D at 0x7ffa073e8080>],\n",
              " 'fliers': [<matplotlib.lines.Line2D at 0x7ffa073e8ac8>],\n",
              " 'means': [<matplotlib.lines.Line2D at 0x7ffa073e8780>],\n",
              " 'medians': [<matplotlib.lines.Line2D at 0x7ffa073e8400>],\n",
              " 'whiskers': [<matplotlib.lines.Line2D at 0x7ffa0745c5f8>,\n",
              "  <matplotlib.lines.Line2D at 0x7ffa0745c978>]}"
            ]
          },
          "metadata": {
            "tags": []
          },
          "execution_count": 8
        },
        {
          "output_type": "display_data",
          "data": {
            "image/png": "[encoded data removed]",
            "text/plain": [
              "<Figure size 432x288 with 1 Axes>"
            ]
          },
          "metadata": {
            "tags": [],
            "needs_background": "light"
          }
        }
      ]
    },
    {
      "cell_type": "code",
      "metadata": {
        "id": "ECD9etCzpcBt",
        "colab_type": "code",
        "colab": {
          "base_uri": "https://localhost:8080/",
          "height": 265
        },
        "outputId": "54724742-9c94-48a8-cc6e-ede0670fbf39"
      },
      "source": [
        "ret = plt.boxplot(data['x'], showmeans=True, whis=0.8,vert=False)"
      ],
      "execution_count": 12,
      "outputs": [
        {
          "output_type": "display_data",
          "data": {
            "image/png": "[encoded data removed]",
            "text/plain": [
              "<Figure size 432x288 with 1 Axes>"
            ]
          },
          "metadata": {
            "tags": [],
            "needs_background": "light"
          }
        }
      ]
    },
    {
      "cell_type": "code",
      "metadata": {
        "id": "hevQ72n4mlft",
        "colab_type": "code",
        "colab": {
          "base_uri": "https://localhost:8080/",
          "height": 151
        },
        "outputId": "6ff0313f-0ff0-4a6e-c17b-17953bd4f30a"
      },
      "source": [
        "ret"
      ],
      "execution_count": 13,
      "outputs": [
        {
          "output_type": "execute_result",
          "data": {
            "text/plain": [
              "{'boxes': [<matplotlib.lines.Line2D at 0x7ffa073669e8>],\n",
              " 'caps': [<matplotlib.lines.Line2D at 0x7ffa072f3438>,\n",
              "  <matplotlib.lines.Line2D at 0x7ffa072f37b8>],\n",
              " 'fliers': [<matplotlib.lines.Line2D at 0x7ffa072fc240>],\n",
              " 'means': [<matplotlib.lines.Line2D at 0x7ffa072f3eb8>],\n",
              " 'medians': [<matplotlib.lines.Line2D at 0x7ffa072f3b38>],\n",
              " 'whiskers': [<matplotlib.lines.Line2D at 0x7ffa07366cf8>,\n",
              "  <matplotlib.lines.Line2D at 0x7ffa072f30b8>]}"
            ]
          },
          "metadata": {
            "tags": []
          },
          "execution_count": 13
        }
      ]
    },
    {
      "cell_type": "code",
      "metadata": {
        "id": "hPQGNZwpqhvQ",
        "colab_type": "code",
        "colab": {
          "base_uri": "https://localhost:8080/",
          "height": 34
        },
        "outputId": "25ae7d0d-4c2c-42ea-a785-ee9d75276735"
      },
      "source": [
        "ret['fliers']"
      ],
      "execution_count": 14,
      "outputs": [
        {
          "output_type": "execute_result",
          "data": {
            "text/plain": [
              "[<matplotlib.lines.Line2D at 0x7ffa072fc240>]"
            ]
          },
          "metadata": {
            "tags": []
          },
          "execution_count": 14
        }
      ]
    },
    {
      "cell_type": "code",
      "metadata": {
        "id": "qxn-XKBzp81A",
        "colab_type": "code",
        "colab": {
          "base_uri": "https://localhost:8080/",
          "height": 34
        },
        "outputId": "99f224bb-d4c2-4a50-915e-8e16bbfcabc2"
      },
      "source": [
        "ret['fliers'][0]"
      ],
      "execution_count": 15,
      "outputs": [
        {
          "output_type": "execute_result",
          "data": {
            "text/plain": [
              "<matplotlib.lines.Line2D at 0x7ffa072fc240>"
            ]
          },
          "metadata": {
            "tags": []
          },
          "execution_count": 15
        }
      ]
    },
    {
      "cell_type": "code",
      "metadata": {
        "id": "OUADptTuqm5w",
        "colab_type": "code",
        "colab": {
          "base_uri": "https://localhost:8080/",
          "height": 67
        },
        "outputId": "ae4b97e1-6a5f-4e2c-8c78-b5774b889025"
      },
      "source": [
        "ret['fliers'][0].get_xdata()"
      ],
      "execution_count": 16,
      "outputs": [
        {
          "output_type": "execute_result",
          "data": {
            "text/plain": [
              "array([26.1538, 23.0769, 22.3077, 22.3077, 23.3333, 25.8974, 81.7949,\n",
              "       83.3333, 85.1282, 86.4103, 87.9487, 89.4872, 93.3333, 95.3846,\n",
              "       98.2051, 91.2821])"
            ]
          },
          "metadata": {
            "tags": []
          },
          "execution_count": 16
        }
      ]
    },
    {
      "cell_type": "code",
      "metadata": {
        "id": "YluN48Cvq7gN",
        "colab_type": "code",
        "colab": {
          "base_uri": "https://localhost:8080/",
          "height": 34
        },
        "outputId": "684664d8-0681-4874-fd95-aed75172884e"
      },
      "source": [
        "ret['whiskers'][0].get_xdata()"
      ],
      "execution_count": 18,
      "outputs": [
        {
          "output_type": "execute_result",
          "data": {
            "text/plain": [
              "array([44.1026, 28.9744])"
            ]
          },
          "metadata": {
            "tags": []
          },
          "execution_count": 18
        }
      ]
    },
    {
      "cell_type": "code",
      "metadata": {
        "id": "kQFrfWpzrvBd",
        "colab_type": "code",
        "colab": {
          "base_uri": "https://localhost:8080/",
          "height": 34
        },
        "outputId": "ef213101-7fc2-4474-b3a0-af05e92e34ce"
      },
      "source": [
        "ret['boxes'][0].get_xdata()"
      ],
      "execution_count": 19,
      "outputs": [
        {
          "output_type": "execute_result",
          "data": {
            "text/plain": [
              "array([44.1026, 44.1026, 64.7436, 64.7436, 44.1026])"
            ]
          },
          "metadata": {
            "tags": []
          },
          "execution_count": 19
        }
      ]
    },
    {
      "cell_type": "code",
      "metadata": {
        "id": "L2tWONJzsm4x",
        "colab_type": "code",
        "colab": {}
      },
      "source": [
        ""
      ],
      "execution_count": null,
      "outputs": []
    },
    {
      "cell_type": "markdown",
      "metadata": {
        "id": "_fGYa5n_uMsj",
        "colab_type": "text"
      },
      "source": [
        "#Scatter"
      ]
    },
    {
      "cell_type": "code",
      "metadata": {
        "id": "d8dD_N3BuRHC",
        "colab_type": "code",
        "colab": {
          "base_uri": "https://localhost:8080/",
          "height": 282
        },
        "outputId": "58634126-e27a-44df-a3b2-47dbfd43ff7d"
      },
      "source": [
        "plt.scatter(data['x'], data['y'])"
      ],
      "execution_count": 21,
      "outputs": [
        {
          "output_type": "execute_result",
          "data": {
            "text/plain": [
              "<matplotlib.collections.PathCollection at 0x7ffa07270ac8>"
            ]
          },
          "metadata": {
            "tags": []
          },
          "execution_count": 21
        },
        {
          "output_type": "display_data",
          "data": {
            "image/png": "[encoded data removed]",
            "text/plain": [
              "<Figure size 432x288 with 1 Axes>"
            ]
          },
          "metadata": {
            "tags": [],
            "needs_background": "light"
          }
        }
      ]
    },
    {
      "cell_type": "markdown",
      "metadata": {
        "id": "PHaGkQ2XuzhP",
        "colab_type": "text"
      },
      "source": [
        "shape รูปร่างของจุด"
      ]
    },
    {
      "cell_type": "code",
      "metadata": {
        "id": "Usp74jG6udwn",
        "colab_type": "code",
        "colab": {
          "base_uri": "https://localhost:8080/",
          "height": 282
        },
        "outputId": "7789e44a-ed8d-4600-a733-9ce0c5d25bba"
      },
      "source": [
        "plt.scatter(data['x'], data['y'],s=10, c='m')"
      ],
      "execution_count": 24,
      "outputs": [
        {
          "output_type": "execute_result",
          "data": {
            "text/plain": [
              "<matplotlib.collections.PathCollection at 0x7ffa071df940>"
            ]
          },
          "metadata": {
            "tags": []
          },
          "execution_count": 24
        },
        {
          "output_type": "display_data",
          "data": {
            "image/png": "[encoded data removed]",
            "text/plain": [
              "<Figure size 432x288 with 1 Axes>"
            ]
          },
          "metadata": {
            "tags": [],
            "needs_background": "light"
          }
        }
      ]
    },
    {
      "cell_type": "markdown",
      "metadata": {
        "id": "E68IPRu0vzMG",
        "colab_type": "text"
      },
      "source": [
        "r g b c m y k "
      ]
    },
    {
      "cell_type": "code",
      "metadata": {
        "id": "CPrO0yzbu5Mn",
        "colab_type": "code",
        "colab": {
          "base_uri": "https://localhost:8080/",
          "height": 282
        },
        "outputId": "9a1dcc01-237b-4a8f-f466-12b2397c86e7"
      },
      "source": [
        "plt.scatter(data['x'], data['y'],s=10, c='r')"
      ],
      "execution_count": 25,
      "outputs": [
        {
          "output_type": "execute_result",
          "data": {
            "text/plain": [
              "<matplotlib.collections.PathCollection at 0x7ffa07142dd8>"
            ]
          },
          "metadata": {
            "tags": []
          },
          "execution_count": 25
        },
        {
          "output_type": "display_data",
          "data": {
            "image/png": "[encoded data removed]",
            "text/plain": [
              "<Figure size 432x288 with 1 Axes>"
            ]
          },
          "metadata": {
            "tags": [],
            "needs_background": "light"
          }
        }
      ]
    },
    {
      "cell_type": "code",
      "metadata": {
        "id": "t1Xfga9Ev3XB",
        "colab_type": "code",
        "colab": {
          "base_uri": "https://localhost:8080/",
          "height": 282
        },
        "outputId": "c8a356fd-608f-4763-f23c-e88bd275cd7e"
      },
      "source": [
        "plt.scatter(data['x'], data['y'],s=100, c='r',marker='2')"
      ],
      "execution_count": 28,
      "outputs": [
        {
          "output_type": "execute_result",
          "data": {
            "text/plain": [
              "<matplotlib.collections.PathCollection at 0x7ffa06ffdb70>"
            ]
          },
          "metadata": {
            "tags": []
          },
          "execution_count": 28
        },
        {
          "output_type": "display_data",
          "data": {
            "image/png": "[encoded data removed]",
            "text/plain": [
              "<Figure size 432x288 with 1 Axes>"
            ]
          },
          "metadata": {
            "tags": [],
            "needs_background": "light"
          }
        }
      ]
    },
    {
      "cell_type": "markdown",
      "metadata": {
        "id": "oKcDTWquw9YT",
        "colab_type": "text"
      },
      "source": [
        "alpha=0.4 ความโปร่งแสง\n",
        "s ขนาด\n",
        "c สี\n",
        "marker สัญลักษณ์"
      ]
    },
    {
      "cell_type": "code",
      "metadata": {
        "id": "4DEI5bRcwZ3J",
        "colab_type": "code",
        "colab": {
          "base_uri": "https://localhost:8080/",
          "height": 282
        },
        "outputId": "e16d867c-13e9-49b5-fc60-0b1a30519717"
      },
      "source": [
        "plt.scatter(data['x'], data['y'],s=50, c='r',marker='2',alpha=0.4)\n",
        "plt.scatter([30,40],[60,80],s=200, c='y',marker='2',alpha=0.4)"
      ],
      "execution_count": 33,
      "outputs": [
        {
          "output_type": "execute_result",
          "data": {
            "text/plain": [
              "<matplotlib.collections.PathCollection at 0x7ffa06e0d438>"
            ]
          },
          "metadata": {
            "tags": []
          },
          "execution_count": 33
        },
        {
          "output_type": "display_data",
          "data": {
            "image/png": "[encoded data removed]",
            "text/plain": [
              "<Figure size 432x288 with 1 Axes>"
            ]
          },
          "metadata": {
            "tags": [],
            "needs_background": "light"
          }
        }
      ]
    },
    {
      "cell_type": "code",
      "metadata": {
        "id": "qi8bWtWfw8ex",
        "colab_type": "code",
        "colab": {
          "base_uri": "https://localhost:8080/",
          "height": 282
        },
        "outputId": "2bbf531a-9b27-4129-a196-c5a07f74d1e3"
      },
      "source": [
        "plt.scatter([30,40],[60,80],s=200, c='y',marker='2',alpha=0.4)"
      ],
      "execution_count": 32,
      "outputs": [
        {
          "output_type": "execute_result",
          "data": {
            "text/plain": [
              "<matplotlib.collections.PathCollection at 0x7ffa06e9c9b0>"
            ]
          },
          "metadata": {
            "tags": []
          },
          "execution_count": 32
        },
        {
          "output_type": "display_data",
          "data": {
            "image/png": "[encoded data removed]",
            "text/plain": [
              "<Figure size 432x288 with 1 Axes>"
            ]
          },
          "metadata": {
            "tags": [],
            "needs_background": "light"
          }
        }
      ]
    },
    {
      "cell_type": "markdown",
      "metadata": {
        "id": "ixezpPvvxpiJ",
        "colab_type": "text"
      },
      "source": [
        "#HW4 plot นอให้ไดโนเสาร์"
      ]
    },
    {
      "cell_type": "code",
      "metadata": {
        "id": "HQuS_qQ9xXpL",
        "colab_type": "code",
        "colab": {}
      },
      "source": [
        ""
      ],
      "execution_count": null,
      "outputs": []
    }
  ]
}