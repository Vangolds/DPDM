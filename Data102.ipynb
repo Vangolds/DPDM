{
  "nbformat": 4,
  "nbformat_minor": 0,
  "metadata": {
    "colab": {
      "name": "Data102.ipynb",
      "provenance": [],
      "authorship_tag": "ABX9TyNDGprU7SeXtOm/JbwAFC4P",
      "include_colab_link": true
    },
    "kernelspec": {
      "name": "python3",
      "display_name": "Python 3"
    }
  },
  "cells": [
    {
      "cell_type": "markdown",
      "metadata": {
        "id": "view-in-github",
        "colab_type": "text"
      },
      "source": [
        "<a href=\"https://colab.research.google.com/github/Vangolds/DPDM/blob/master/Data102.ipynb\" target=\"_parent\"><img src=\"https://colab.research.google.com/assets/colab-badge.svg\" alt=\"Open In Colab\"/></a>"
      ]
    },
    {
      "cell_type": "markdown",
      "metadata": {
        "id": "fYZoUtbpeXFe",
        "colab_type": "text"
      },
      "source": [
        "## Visualization\n",
        "\n",
        "\n",
        "*   Understanding Matplotlib Functions\n",
        "*   Boxplot\n",
        "*   Scatter\n",
        "*   Plot\n",
        "*   Barchart\n",
        "*   Histogram\n",
        "*   Q-Q plot"
      ]
    },
    {
      "cell_type": "code",
      "metadata": {
        "id": "SDHuH841cxB6",
        "colab_type": "code",
        "colab": {
          "base_uri": "https://localhost:8080/",
          "height": 121
        },
        "outputId": "3b892743-b2c7-4e3d-e572-38811a545002"
      },
      "source": [
        "from google.colab import drive\n",
        "drive.mount('/content/drive')"
      ],
      "execution_count": null,
      "outputs": [
        {
          "output_type": "stream",
          "text": [
            "Go to this URL in a browser: https://accounts.google.com/o/oauth2/auth?client_id=947318989803-6bn6qk8qdgf4n4g3pfee6491hc0brc4i.apps.googleusercontent.com&redirect_uri=urn%3aietf%3awg%3aoauth%3a2.0%3aoob&scope=email%20https%3a%2f%2fwww.googleapis.com%2fauth%2fdocs.test%20https%3a%2f%2fwww.googleapis.com%2fauth%2fdrive%20https%3a%2f%2fwww.googleapis.com%2fauth%2fdrive.photos.readonly%20https%3a%2f%2fwww.googleapis.com%2fauth%2fpeopleapi.readonly&response_type=code\n",
            "\n",
            "Enter your authorization code:\n",
            "··········\n",
            "Mounted at /content/drive\n"
          ],
          "name": "stdout"
        }
      ]
    },
    {
      "cell_type": "code",
      "metadata": {
        "id": "_5G33pCpeTkC",
        "colab_type": "code",
        "colab": {
          "base_uri": "https://localhost:8080/",
          "height": 195
        },
        "outputId": "4dc7dd8c-febd-49d5-ac00-e846fe9aa901"
      },
      "source": [
        "# import os for file maniputation\n",
        "import os\n",
        "import pandas as pd\n",
        "#สร้างตัวแปรมารับ path\n",
        "base_path = '/content/drive/My Drive/DWDM_material'\n",
        "#เชื่อมชื่อไฟล์กับ path\n",
        "data = pd.read_csv(os.path.join(base_path,'test.csv'))\n",
        "# show head of data table\n",
        "data.head()\n"
      ],
      "execution_count": null,
      "outputs": [
        {
          "output_type": "execute_result",
          "data": {
            "text/html": [
              "<div>\n",
              "<style scoped>\n",
              "    .dataframe tbody tr th:only-of-type {\n",
              "        vertical-align: middle;\n",
              "    }\n",
              "\n",
              "    .dataframe tbody tr th {\n",
              "        vertical-align: top;\n",
              "    }\n",
              "\n",
              "    .dataframe thead th {\n",
              "        text-align: right;\n",
              "    }\n",
              "</style>\n",
              "<table border=\"1\" class=\"dataframe\">\n",
              "  <thead>\n",
              "    <tr style=\"text-align: right;\">\n",
              "      <th></th>\n",
              "      <th>Unnamed: 0</th>\n",
              "      <th>x</th>\n",
              "      <th>y</th>\n",
              "    </tr>\n",
              "  </thead>\n",
              "  <tbody>\n",
              "    <tr>\n",
              "      <th>0</th>\n",
              "      <td>0</td>\n",
              "      <td>55.3846</td>\n",
              "      <td>97.1795</td>\n",
              "    </tr>\n",
              "    <tr>\n",
              "      <th>1</th>\n",
              "      <td>1</td>\n",
              "      <td>51.5385</td>\n",
              "      <td>96.0256</td>\n",
              "    </tr>\n",
              "    <tr>\n",
              "      <th>2</th>\n",
              "      <td>2</td>\n",
              "      <td>46.1538</td>\n",
              "      <td>94.4872</td>\n",
              "    </tr>\n",
              "    <tr>\n",
              "      <th>3</th>\n",
              "      <td>3</td>\n",
              "      <td>42.8205</td>\n",
              "      <td>91.4103</td>\n",
              "    </tr>\n",
              "    <tr>\n",
              "      <th>4</th>\n",
              "      <td>4</td>\n",
              "      <td>40.7692</td>\n",
              "      <td>88.3333</td>\n",
              "    </tr>\n",
              "  </tbody>\n",
              "</table>\n",
              "</div>"
            ],
            "text/plain": [
              "   Unnamed: 0        x        y\n",
              "0           0  55.3846  97.1795\n",
              "1           1  51.5385  96.0256\n",
              "2           2  46.1538  94.4872\n",
              "3           3  42.8205  91.4103\n",
              "4           4  40.7692  88.3333"
            ]
          },
          "metadata": {
            "tags": []
          },
          "execution_count": 2
        }
      ]
    },
    {
      "cell_type": "code",
      "metadata": {
        "id": "f44d6XYiiCcs",
        "colab_type": "code",
        "colab": {
          "base_uri": "https://localhost:8080/",
          "height": 195
        },
        "outputId": "70b9ed9e-4f66-4d46-994e-fb64924d6e38"
      },
      "source": [
        "# import os for file manipulation\n",
        "import os\n",
        "# import pandas for tabular or dataframe manipulation\n",
        "import pandas as pd\n",
        "# สร้างตัวแปรสำหรับเก็บที่อยู่ของ data ทั้งหมด\n",
        "base_path = '/content/drive/My Drive/DWDM_material'\n",
        "# load data from test.csv to data\n",
        "data = pd.read_csv(os.path.join(base_path, 'test.csv'))\n",
        "# show head of the data table\n",
        "data.head()\n",
        "\n",
        "\n",
        "\n",
        "\n",
        "\n"
      ],
      "execution_count": null,
      "outputs": [
        {
          "output_type": "execute_result",
          "data": {
            "text/html": [
              "<div>\n",
              "<style scoped>\n",
              "    .dataframe tbody tr th:only-of-type {\n",
              "        vertical-align: middle;\n",
              "    }\n",
              "\n",
              "    .dataframe tbody tr th {\n",
              "        vertical-align: top;\n",
              "    }\n",
              "\n",
              "    .dataframe thead th {\n",
              "        text-align: right;\n",
              "    }\n",
              "</style>\n",
              "<table border=\"1\" class=\"dataframe\">\n",
              "  <thead>\n",
              "    <tr style=\"text-align: right;\">\n",
              "      <th></th>\n",
              "      <th>Unnamed: 0</th>\n",
              "      <th>x</th>\n",
              "      <th>y</th>\n",
              "    </tr>\n",
              "  </thead>\n",
              "  <tbody>\n",
              "    <tr>\n",
              "      <th>0</th>\n",
              "      <td>0</td>\n",
              "      <td>55.3846</td>\n",
              "      <td>97.1795</td>\n",
              "    </tr>\n",
              "    <tr>\n",
              "      <th>1</th>\n",
              "      <td>1</td>\n",
              "      <td>51.5385</td>\n",
              "      <td>96.0256</td>\n",
              "    </tr>\n",
              "    <tr>\n",
              "      <th>2</th>\n",
              "      <td>2</td>\n",
              "      <td>46.1538</td>\n",
              "      <td>94.4872</td>\n",
              "    </tr>\n",
              "    <tr>\n",
              "      <th>3</th>\n",
              "      <td>3</td>\n",
              "      <td>42.8205</td>\n",
              "      <td>91.4103</td>\n",
              "    </tr>\n",
              "    <tr>\n",
              "      <th>4</th>\n",
              "      <td>4</td>\n",
              "      <td>40.7692</td>\n",
              "      <td>88.3333</td>\n",
              "    </tr>\n",
              "  </tbody>\n",
              "</table>\n",
              "</div>"
            ],
            "text/plain": [
              "   Unnamed: 0        x        y\n",
              "0           0  55.3846  97.1795\n",
              "1           1  51.5385  96.0256\n",
              "2           2  46.1538  94.4872\n",
              "3           3  42.8205  91.4103\n",
              "4           4  40.7692  88.3333"
            ]
          },
          "metadata": {
            "tags": []
          },
          "execution_count": 3
        }
      ]
    },
    {
      "cell_type": "markdown",
      "metadata": {
        "id": "N4IRCEk2hww-",
        "colab_type": "text"
      },
      "source": [
        "#Boxplot"
      ]
    },
    {
      "cell_type": "code",
      "metadata": {
        "id": "Igf79UKPhm5s",
        "colab_type": "code",
        "colab": {}
      },
      "source": [
        "from matplotlib import pyplot as plt"
      ],
      "execution_count": null,
      "outputs": []
    },
    {
      "cell_type": "code",
      "metadata": {
        "id": "qr_Ahe9eiHE3",
        "colab_type": "code",
        "colab": {
          "base_uri": "https://localhost:8080/",
          "height": 399
        },
        "outputId": "6a9d52dd-47f8-49d6-b9ab-9ba92f8c4daf"
      },
      "source": [
        "plt.boxplot(data['x'])"
      ],
      "execution_count": null,
      "outputs": [
        {
          "output_type": "execute_result",
          "data": {
            "text/plain": [
              "{'boxes': [<matplotlib.lines.Line2D at 0x7f5abed4f710>],\n",
              " 'caps': [<matplotlib.lines.Line2D at 0x7f5abed68160>,\n",
              "  <matplotlib.lines.Line2D at 0x7f5abed684e0>],\n",
              " 'fliers': [<matplotlib.lines.Line2D at 0x7f5abed68be0>],\n",
              " 'means': [],\n",
              " 'medians': [<matplotlib.lines.Line2D at 0x7f5abed68860>],\n",
              " 'whiskers': [<matplotlib.lines.Line2D at 0x7f5abed4fa20>,\n",
              "  <matplotlib.lines.Line2D at 0x7f5abed4fda0>]}"
            ]
          },
          "metadata": {
            "tags": []
          },
          "execution_count": 5
        },
        {
          "output_type": "display_data",
          "data": {
            "image/png": "[encoded data removed]",
            "text/plain": [
              "<Figure size 432x288 with 1 Axes>"
            ]
          },
          "metadata": {
            "tags": [],
            "needs_background": "light"
          }
        }
      ]
    },
    {
      "cell_type": "markdown",
      "metadata": {
        "id": "_sbclY7RmnQZ",
        "colab_type": "text"
      },
      "source": [
        "แสดง mean"
      ]
    },
    {
      "cell_type": "markdown",
      "metadata": {
        "id": "BJJkzg_soMs2",
        "colab_type": "text"
      },
      "source": [
        "vert แนวตั้งแนวนอน\n",
        "whis เปลี่ยนเลข 1.5 IQR"
      ]
    },
    {
      "cell_type": "code",
      "metadata": {
        "id": "6Qv-eR6GlRpc",
        "colab_type": "code",
        "colab": {
          "base_uri": "https://localhost:8080/",
          "height": 399
        },
        "outputId": "79794862-fc57-4407-899d-9624b528feb1"
      },
      "source": [
        "plt.boxplot(data['x'], showmeans=True, whis=0.8,vert=False)"
      ],
      "execution_count": null,
      "outputs": [
        {
          "output_type": "execute_result",
          "data": {
            "text/plain": [
              "{'boxes': [<matplotlib.lines.Line2D at 0x7f5abecf5dd8>],\n",
              " 'caps': [<matplotlib.lines.Line2D at 0x7f5abe839828>,\n",
              "  <matplotlib.lines.Line2D at 0x7f5abe839ba8>],\n",
              " 'fliers': [<matplotlib.lines.Line2D at 0x7f5abe841630>],\n",
              " 'means': [<matplotlib.lines.Line2D at 0x7f5abe8412e8>],\n",
              " 'medians': [<matplotlib.lines.Line2D at 0x7f5abe839f28>],\n",
              " 'whiskers': [<matplotlib.lines.Line2D at 0x7f5abe839128>,\n",
              "  <matplotlib.lines.Line2D at 0x7f5abe8394a8>]}"
            ]
          },
          "metadata": {
            "tags": []
          },
          "execution_count": 6
        },
        {
          "output_type": "display_data",
          "data": {
            "image/png": "[encoded data removed]",
            "text/plain": [
              "<Figure size 432x288 with 1 Axes>"
            ]
          },
          "metadata": {
            "tags": [],
            "needs_background": "light"
          }
        }
      ]
    },
    {
      "cell_type": "code",
      "metadata": {
        "id": "ECD9etCzpcBt",
        "colab_type": "code",
        "colab": {
          "base_uri": "https://localhost:8080/",
          "height": 265
        },
        "outputId": "2a9a7d9b-17b0-4e9b-bb4a-bdb48f113338"
      },
      "source": [
        "ret = plt.boxplot(data['x'], showmeans=True, whis=0.8,vert=False)"
      ],
      "execution_count": null,
      "outputs": [
        {
          "output_type": "display_data",
          "data": {
            "image/png": "[encoded data removed]",
            "text/plain": [
              "<Figure size 432x288 with 1 Axes>"
            ]
          },
          "metadata": {
            "tags": [],
            "needs_background": "light"
          }
        }
      ]
    },
    {
      "cell_type": "markdown",
      "metadata": {
        "id": "13FBJmH_LJEB",
        "colab_type": "text"
      },
      "source": [
        "return ค่าต่างๆ"
      ]
    },
    {
      "cell_type": "code",
      "metadata": {
        "id": "hevQ72n4mlft",
        "colab_type": "code",
        "colab": {
          "base_uri": "https://localhost:8080/",
          "height": 151
        },
        "outputId": "dbdce90e-cb70-40fc-ceb9-caf4fc8eb62e"
      },
      "source": [
        "ret"
      ],
      "execution_count": null,
      "outputs": [
        {
          "output_type": "execute_result",
          "data": {
            "text/plain": [
              "{'boxes': [<matplotlib.lines.Line2D at 0x7f5abecd9208>],\n",
              " 'caps': [<matplotlib.lines.Line2D at 0x7f5abe7fd2e8>,\n",
              "  <matplotlib.lines.Line2D at 0x7f5abe7ee2e8>],\n",
              " 'fliers': [<matplotlib.lines.Line2D at 0x7f5abe85ae48>],\n",
              " 'means': [<matplotlib.lines.Line2D at 0x7f5abe7ee9b0>],\n",
              " 'medians': [<matplotlib.lines.Line2D at 0x7f5abe7ee438>],\n",
              " 'whiskers': [<matplotlib.lines.Line2D at 0x7f5abecd9780>,\n",
              "  <matplotlib.lines.Line2D at 0x7f5abe7fd048>]}"
            ]
          },
          "metadata": {
            "tags": []
          },
          "execution_count": 8
        }
      ]
    },
    {
      "cell_type": "code",
      "metadata": {
        "id": "hPQGNZwpqhvQ",
        "colab_type": "code",
        "colab": {
          "base_uri": "https://localhost:8080/",
          "height": 34
        },
        "outputId": "58282e92-599b-4474-df30-62be2d63d980"
      },
      "source": [
        "ret['fliers']"
      ],
      "execution_count": null,
      "outputs": [
        {
          "output_type": "execute_result",
          "data": {
            "text/plain": [
              "[<matplotlib.lines.Line2D at 0x7f5abe85ae48>]"
            ]
          },
          "metadata": {
            "tags": []
          },
          "execution_count": 9
        }
      ]
    },
    {
      "cell_type": "code",
      "metadata": {
        "id": "qxn-XKBzp81A",
        "colab_type": "code",
        "colab": {
          "base_uri": "https://localhost:8080/",
          "height": 34
        },
        "outputId": "3072a5cc-435c-4aad-edc8-7395c0cb277d"
      },
      "source": [
        "ret['fliers'][0]"
      ],
      "execution_count": null,
      "outputs": [
        {
          "output_type": "execute_result",
          "data": {
            "text/plain": [
              "<matplotlib.lines.Line2D at 0x7f5abe85ae48>"
            ]
          },
          "metadata": {
            "tags": []
          },
          "execution_count": 10
        }
      ]
    },
    {
      "cell_type": "code",
      "metadata": {
        "id": "OUADptTuqm5w",
        "colab_type": "code",
        "colab": {
          "base_uri": "https://localhost:8080/",
          "height": 67
        },
        "outputId": "497fa086-611e-4db2-8bab-70524f3b0c90"
      },
      "source": [
        "ret['fliers'][0].get_xdata()"
      ],
      "execution_count": null,
      "outputs": [
        {
          "output_type": "execute_result",
          "data": {
            "text/plain": [
              "array([26.1538, 23.0769, 22.3077, 22.3077, 23.3333, 25.8974, 81.7949,\n",
              "       83.3333, 85.1282, 86.4103, 87.9487, 89.4872, 93.3333, 95.3846,\n",
              "       98.2051, 91.2821])"
            ]
          },
          "metadata": {
            "tags": []
          },
          "execution_count": 11
        }
      ]
    },
    {
      "cell_type": "code",
      "metadata": {
        "id": "ickXwbKbH6nd",
        "colab_type": "code",
        "colab": {
          "base_uri": "https://localhost:8080/",
          "height": 34
        },
        "outputId": "e468faf7-b4d6-4f7b-e9d2-e2447de85e25"
      },
      "source": [
        "ret['whiskers'][0].get_xdata()"
      ],
      "execution_count": null,
      "outputs": [
        {
          "output_type": "execute_result",
          "data": {
            "text/plain": [
              "array([44.1026, 28.9744])"
            ]
          },
          "metadata": {
            "tags": []
          },
          "execution_count": 12
        }
      ]
    },
    {
      "cell_type": "code",
      "metadata": {
        "id": "YluN48Cvq7gN",
        "colab_type": "code",
        "colab": {
          "base_uri": "https://localhost:8080/",
          "height": 34
        },
        "outputId": "841164bc-52b9-4d2a-be08-9d9e35520175"
      },
      "source": [
        "ret['whiskers'][1].get_xdata()"
      ],
      "execution_count": null,
      "outputs": [
        {
          "output_type": "execute_result",
          "data": {
            "text/plain": [
              "array([64.7436, 79.7436])"
            ]
          },
          "metadata": {
            "tags": []
          },
          "execution_count": 13
        }
      ]
    },
    {
      "cell_type": "code",
      "metadata": {
        "id": "kQFrfWpzrvBd",
        "colab_type": "code",
        "colab": {
          "base_uri": "https://localhost:8080/",
          "height": 34
        },
        "outputId": "19174860-7ac7-4a60-df78-988b75185020"
      },
      "source": [
        "ret['boxes'][0].get_xdata()"
      ],
      "execution_count": null,
      "outputs": [
        {
          "output_type": "execute_result",
          "data": {
            "text/plain": [
              "array([44.1026, 44.1026, 64.7436, 64.7436, 44.1026])"
            ]
          },
          "metadata": {
            "tags": []
          },
          "execution_count": 14
        }
      ]
    },
    {
      "cell_type": "code",
      "metadata": {
        "id": "L2tWONJzsm4x",
        "colab_type": "code",
        "colab": {}
      },
      "source": [
        ""
      ],
      "execution_count": null,
      "outputs": []
    },
    {
      "cell_type": "markdown",
      "metadata": {
        "id": "_fGYa5n_uMsj",
        "colab_type": "text"
      },
      "source": [
        "#Scatter"
      ]
    },
    {
      "cell_type": "code",
      "metadata": {
        "id": "d8dD_N3BuRHC",
        "colab_type": "code",
        "colab": {
          "base_uri": "https://localhost:8080/",
          "height": 282
        },
        "outputId": "9e5d0779-4cdb-4cf8-95ad-dc842e199227"
      },
      "source": [
        "plt.scatter(data['x'], data['y'])"
      ],
      "execution_count": null,
      "outputs": [
        {
          "output_type": "execute_result",
          "data": {
            "text/plain": [
              "<matplotlib.collections.PathCollection at 0x7f5abe798080>"
            ]
          },
          "metadata": {
            "tags": []
          },
          "execution_count": 15
        },
        {
          "output_type": "display_data",
          "data": {
            "image/png": "[encoded data removed]",
            "text/plain": [
              "<Figure size 432x288 with 1 Axes>"
            ]
          },
          "metadata": {
            "tags": [],
            "needs_background": "light"
          }
        }
      ]
    },
    {
      "cell_type": "markdown",
      "metadata": {
        "id": "PHaGkQ2XuzhP",
        "colab_type": "text"
      },
      "source": [
        "s = ขนาดของจุด"
      ]
    },
    {
      "cell_type": "code",
      "metadata": {
        "id": "Usp74jG6udwn",
        "colab_type": "code",
        "colab": {
          "base_uri": "https://localhost:8080/",
          "height": 282
        },
        "outputId": "65b88d46-a353-44b9-c46a-464deb562b7d"
      },
      "source": [
        "plt.scatter(data['x'], data['y'],s=10, c='m')"
      ],
      "execution_count": null,
      "outputs": [
        {
          "output_type": "execute_result",
          "data": {
            "text/plain": [
              "<matplotlib.collections.PathCollection at 0x7f5abe700518>"
            ]
          },
          "metadata": {
            "tags": []
          },
          "execution_count": 16
        },
        {
          "output_type": "display_data",
          "data": {
            "image/png": "[encoded data removed]",
            "text/plain": [
              "<Figure size 432x288 with 1 Axes>"
            ]
          },
          "metadata": {
            "tags": [],
            "needs_background": "light"
          }
        }
      ]
    },
    {
      "cell_type": "markdown",
      "metadata": {
        "id": "E68IPRu0vzMG",
        "colab_type": "text"
      },
      "source": [
        "c = ใส่สีให้สมการ r g b c m y k "
      ]
    },
    {
      "cell_type": "markdown",
      "metadata": {
        "id": "cPGi1u6r0Des",
        "colab_type": "text"
      },
      "source": [
        "chanel r,g,b,alpha  0 คือไม่มีสีนั้นผสม 000 สีดำ 111 สีขาว"
      ]
    },
    {
      "cell_type": "code",
      "metadata": {
        "id": "CPrO0yzbu5Mn",
        "colab_type": "code",
        "colab": {
          "base_uri": "https://localhost:8080/",
          "height": 282
        },
        "outputId": "60bd3275-3870-4482-a1bd-431a48a18fd6"
      },
      "source": [
        "plt.scatter(data['x'], data['y'],s=350, c=[[0,0.9,0.7,0.5]])"
      ],
      "execution_count": null,
      "outputs": [
        {
          "output_type": "execute_result",
          "data": {
            "text/plain": [
              "<matplotlib.collections.PathCollection at 0x7f5abe6e7a20>"
            ]
          },
          "metadata": {
            "tags": []
          },
          "execution_count": 17
        },
        {
          "output_type": "display_data",
          "data": {
            "image/png": "[encoded data removed]",
            "text/plain": [
              "<Figure size 432x288 with 1 Axes>"
            ]
          },
          "metadata": {
            "tags": [],
            "needs_background": "light"
          }
        }
      ]
    },
    {
      "cell_type": "markdown",
      "metadata": {
        "id": "n9kap9d-ON9d",
        "colab_type": "text"
      },
      "source": [
        "marker = รูปร่างของจุด"
      ]
    },
    {
      "cell_type": "code",
      "metadata": {
        "id": "t1Xfga9Ev3XB",
        "colab_type": "code",
        "colab": {
          "base_uri": "https://localhost:8080/",
          "height": 282
        },
        "outputId": "61a2fc0f-c806-4059-e315-8dde258e964c"
      },
      "source": [
        "plt.scatter(data['x'], data['y'],s=100, c='r',marker='2')"
      ],
      "execution_count": null,
      "outputs": [
        {
          "output_type": "execute_result",
          "data": {
            "text/plain": [
              "<matplotlib.collections.PathCollection at 0x7f5abe64fdd8>"
            ]
          },
          "metadata": {
            "tags": []
          },
          "execution_count": 18
        },
        {
          "output_type": "display_data",
          "data": {
            "image/png": "[encoded data removed]",
            "text/plain": [
              "<Figure size 432x288 with 1 Axes>"
            ]
          },
          "metadata": {
            "tags": [],
            "needs_background": "light"
          }
        }
      ]
    },
    {
      "cell_type": "markdown",
      "metadata": {
        "id": "oKcDTWquw9YT",
        "colab_type": "text"
      },
      "source": [
        "alpha=0.4 ความโปร่งแสง\n",
        "s ขนาด\n",
        "c สี\n",
        "marker สัญลักษณ์"
      ]
    },
    {
      "cell_type": "code",
      "metadata": {
        "id": "4DEI5bRcwZ3J",
        "colab_type": "code",
        "colab": {
          "base_uri": "https://localhost:8080/",
          "height": 282
        },
        "outputId": "fdd0f066-cc66-4751-a892-e581de52279b"
      },
      "source": [
        "plt.scatter(data['x'], data['y'],s=50, c='r',marker='2',alpha=0.4)\n",
        "plt.scatter([30,40],[60,80],s=200, c='y',marker='2',alpha=0.4)"
      ],
      "execution_count": null,
      "outputs": [
        {
          "output_type": "execute_result",
          "data": {
            "text/plain": [
              "<matplotlib.collections.PathCollection at 0x7f5abe5bda58>"
            ]
          },
          "metadata": {
            "tags": []
          },
          "execution_count": 19
        },
        {
          "output_type": "display_data",
          "data": {
            "image/png": "[encoded data removed]",
            "text/plain": [
              "<Figure size 432x288 with 1 Axes>"
            ]
          },
          "metadata": {
            "tags": [],
            "needs_background": "light"
          }
        }
      ]
    },
    {
      "cell_type": "markdown",
      "metadata": {
        "id": "ixezpPvvxpiJ",
        "colab_type": "text"
      },
      "source": [
        "#HW4 plot นอให้ไดโนเสาร์"
      ]
    },
    {
      "cell_type": "code",
      "metadata": {
        "id": "HQuS_qQ9xXpL",
        "colab_type": "code",
        "colab": {
          "base_uri": "https://localhost:8080/",
          "height": 282
        },
        "outputId": "83bd57ae-40e1-4cb8-e6c0-2cc82b7ddfad"
      },
      "source": [
        "plt.scatter(data['x'], data['y'],s=100, c='r',marker='2',plotnonfinite='True')"
      ],
      "execution_count": null,
      "outputs": [
        {
          "output_type": "execute_result",
          "data": {
            "text/plain": [
              "<matplotlib.collections.PathCollection at 0x7f5abe5a5b00>"
            ]
          },
          "metadata": {
            "tags": []
          },
          "execution_count": 20
        },
        {
          "output_type": "display_data",
          "data": {
            "image/png": "[encoded data removed]",
            "text/plain": [
              "<Figure size 432x288 with 1 Axes>"
            ]
          },
          "metadata": {
            "tags": [],
            "needs_background": "light"
          }
        }
      ]
    },
    {
      "cell_type": "code",
      "metadata": {
        "id": "E3UmWI0XV2L4",
        "colab_type": "code",
        "colab": {
          "base_uri": "https://localhost:8080/",
          "height": 282
        },
        "outputId": "7f551f86-530f-4ba4-dc08-ea97f19b3976"
      },
      "source": [
        "plt.scatter(data['x'], data['y'],s=50, c='r',marker='h')\n",
        "plt.scatter([30,32],[80,82],s=400, c='y',marker='^')"
      ],
      "execution_count": null,
      "outputs": [
        {
          "output_type": "execute_result",
          "data": {
            "text/plain": [
              "<matplotlib.collections.PathCollection at 0x7f5abe516630>"
            ]
          },
          "metadata": {
            "tags": []
          },
          "execution_count": 21
        },
        {
          "output_type": "display_data",
          "data": {
            "image/png": "[encoded data removed]",
            "text/plain": [
              "<Figure size 432x288 with 1 Axes>"
            ]
          },
          "metadata": {
            "tags": [],
            "needs_background": "light"
          }
        }
      ]
    },
    {
      "cell_type": "markdown",
      "metadata": {
        "id": "81T2q3Zq2JHp",
        "colab_type": "text"
      },
      "source": [
        "## plot"
      ]
    },
    {
      "cell_type": "markdown",
      "metadata": {
        "id": "lzojLTKy2V6P",
        "colab_type": "text"
      },
      "source": [
        "plot จะลากจากจุดแรกไปจุดสุดท้าย ไว้พล็อตสรุปข้อมูล ต่อจาก scatter"
      ]
    },
    {
      "cell_type": "code",
      "metadata": {
        "id": "wjpuyHCCyD08",
        "colab_type": "code",
        "colab": {
          "base_uri": "https://localhost:8080/",
          "height": 282
        },
        "outputId": "399f17a1-1067-411f-99f4-97be229baa8f"
      },
      "source": [
        "plt.plot(data['x'], data['y'])"
      ],
      "execution_count": null,
      "outputs": [
        {
          "output_type": "execute_result",
          "data": {
            "text/plain": [
              "[<matplotlib.lines.Line2D at 0x7f5abe47e5c0>]"
            ]
          },
          "metadata": {
            "tags": []
          },
          "execution_count": 22
        },
        {
          "output_type": "display_data",
          "data": {
            "image/png": "[encoded data removed]",
            "text/plain": [
              "<Figure size 432x288 with 1 Axes>"
            ]
          },
          "metadata": {
            "tags": [],
            "needs_background": "light"
          }
        }
      ]
    },
    {
      "cell_type": "markdown",
      "metadata": {
        "id": "-iwFtHiE5aFp",
        "colab_type": "text"
      },
      "source": [
        "อยากทราบจุดแรก"
      ]
    },
    {
      "cell_type": "code",
      "metadata": {
        "id": "dL1bZbQl1hYD",
        "colab_type": "code",
        "colab": {
          "base_uri": "https://localhost:8080/",
          "height": 282
        },
        "outputId": "fd0b5603-6eb3-4f42-bc22-6b51c95c4879"
      },
      "source": [
        "plt.plot(data['x'], data['y'])\n",
        "plt.scatter(data['x'][0], data['y'][0])"
      ],
      "execution_count": null,
      "outputs": [
        {
          "output_type": "execute_result",
          "data": {
            "text/plain": [
              "<matplotlib.collections.PathCollection at 0x7f5abe3f4390>"
            ]
          },
          "metadata": {
            "tags": []
          },
          "execution_count": 23
        },
        {
          "output_type": "display_data",
          "data": {
            "image/png": "[encoded data removed]",
            "text/plain": [
              "<Figure size 432x288 with 1 Axes>"
            ]
          },
          "metadata": {
            "tags": [],
            "needs_background": "light"
          }
        }
      ]
    },
    {
      "cell_type": "code",
      "metadata": {
        "id": "50-FtI8g2-1v",
        "colab_type": "code",
        "colab": {
          "base_uri": "https://localhost:8080/",
          "height": 282
        },
        "outputId": "3814ffcc-bb7a-4b26-c961-a0c1b9fd2c02"
      },
      "source": [
        "plt.plot(data['x'], data['y'])\n",
        "plt.scatter(data['x'][0], data['y'][0])\n",
        "plt.scatter(data['x'][1], data['y'][1])\n",
        "plt.scatter(data['x'][2], data['y'][2])\n",
        "plt.scatter(data['x'][3], data['y'][3])\n",
        "plt.scatter(data['x'][4], data['y'][4])"
      ],
      "execution_count": null,
      "outputs": [
        {
          "output_type": "execute_result",
          "data": {
            "text/plain": [
              "<matplotlib.collections.PathCollection at 0x7f5abe3ea908>"
            ]
          },
          "metadata": {
            "tags": []
          },
          "execution_count": 24
        },
        {
          "output_type": "display_data",
          "data": {
            "image/png": "[encoded data removed]",
            "text/plain": [
              "<Figure size 432x288 with 1 Axes>"
            ]
          },
          "metadata": {
            "tags": [],
            "needs_background": "light"
          }
        }
      ]
    },
    {
      "cell_type": "code",
      "metadata": {
        "id": "mebX0XpU3j2p",
        "colab_type": "code",
        "colab": {
          "base_uri": "https://localhost:8080/",
          "height": 282
        },
        "outputId": "44fd3d81-e80e-4496-a59d-36ff65b56aed"
      },
      "source": [
        "#plt.plot(data['x'], data['y'])\n",
        "plt.scatter(data['x'], data['y'],s=range(5,len(data['x'])+5))"
      ],
      "execution_count": null,
      "outputs": [
        {
          "output_type": "execute_result",
          "data": {
            "text/plain": [
              "<matplotlib.collections.PathCollection at 0x7f5abe74f5f8>"
            ]
          },
          "metadata": {
            "tags": []
          },
          "execution_count": 25
        },
        {
          "output_type": "display_data",
          "data": {
            "image/png": "[encoded data removed]",
            "text/plain": [
              "<Figure size 432x288 with 1 Axes>"
            ]
          },
          "metadata": {
            "tags": [],
            "needs_background": "light"
          }
        }
      ]
    },
    {
      "cell_type": "markdown",
      "metadata": {
        "id": "IUPlnHkW6Nn_",
        "colab_type": "text"
      },
      "source": [
        "สร้างตัวแปร ให้เป็น list ว่าง\n",
        "จะสร้าง list ให้เป็น list ว่างก่อน"
      ]
    },
    {
      "cell_type": "code",
      "metadata": {
        "id": "v6QJHVqV4ANm",
        "colab_type": "code",
        "colab": {
          "base_uri": "https://localhost:8080/",
          "height": 1000
        },
        "outputId": "450f0499-3630-4b8c-d028-4e12bc370b11"
      },
      "source": [
        "c_list = list()\n",
        "for i in range(len(data['x'])):\n",
        "    c_list.append([0, 0, (50+i)/255,0.4])\n",
        "\n",
        "c_list"
      ],
      "execution_count": null,
      "outputs": [
        {
          "output_type": "execute_result",
          "data": {
            "text/plain": [
              "[[0, 0, 0.19607843137254902, 0.4],\n",
              " [0, 0, 0.2, 0.4],\n",
              " [0, 0, 0.20392156862745098, 0.4],\n",
              " [0, 0, 0.20784313725490197, 0.4],\n",
              " [0, 0, 0.21176470588235294, 0.4],\n",
              " [0, 0, 0.21568627450980393, 0.4],\n",
              " [0, 0, 0.2196078431372549, 0.4],\n",
              " [0, 0, 0.2235294117647059, 0.4],\n",
              " [0, 0, 0.22745098039215686, 0.4],\n",
              " [0, 0, 0.23137254901960785, 0.4],\n",
              " [0, 0, 0.23529411764705882, 0.4],\n",
              " [0, 0, 0.23921568627450981, 0.4],\n",
              " [0, 0, 0.24313725490196078, 0.4],\n",
              " [0, 0, 0.24705882352941178, 0.4],\n",
              " [0, 0, 0.25098039215686274, 0.4],\n",
              " [0, 0, 0.2549019607843137, 0.4],\n",
              " [0, 0, 0.25882352941176473, 0.4],\n",
              " [0, 0, 0.2627450980392157, 0.4],\n",
              " [0, 0, 0.26666666666666666, 0.4],\n",
              " [0, 0, 0.27058823529411763, 0.4],\n",
              " [0, 0, 0.27450980392156865, 0.4],\n",
              " [0, 0, 0.2784313725490196, 0.4],\n",
              " [0, 0, 0.2823529411764706, 0.4],\n",
              " [0, 0, 0.28627450980392155, 0.4],\n",
              " [0, 0, 0.2901960784313726, 0.4],\n",
              " [0, 0, 0.29411764705882354, 0.4],\n",
              " [0, 0, 0.2980392156862745, 0.4],\n",
              " [0, 0, 0.30196078431372547, 0.4],\n",
              " [0, 0, 0.3058823529411765, 0.4],\n",
              " [0, 0, 0.30980392156862746, 0.4],\n",
              " [0, 0, 0.3137254901960784, 0.4],\n",
              " [0, 0, 0.3176470588235294, 0.4],\n",
              " [0, 0, 0.3215686274509804, 0.4],\n",
              " [0, 0, 0.3254901960784314, 0.4],\n",
              " [0, 0, 0.32941176470588235, 0.4],\n",
              " [0, 0, 0.3333333333333333, 0.4],\n",
              " [0, 0, 0.33725490196078434, 0.4],\n",
              " [0, 0, 0.3411764705882353, 0.4],\n",
              " [0, 0, 0.34509803921568627, 0.4],\n",
              " [0, 0, 0.34901960784313724, 0.4],\n",
              " [0, 0, 0.35294117647058826, 0.4],\n",
              " [0, 0, 0.3568627450980392, 0.4],\n",
              " [0, 0, 0.3607843137254902, 0.4],\n",
              " [0, 0, 0.36470588235294116, 0.4],\n",
              " [0, 0, 0.3686274509803922, 0.4],\n",
              " [0, 0, 0.37254901960784315, 0.4],\n",
              " [0, 0, 0.3764705882352941, 0.4],\n",
              " [0, 0, 0.3803921568627451, 0.4],\n",
              " [0, 0, 0.3843137254901961, 0.4],\n",
              " [0, 0, 0.38823529411764707, 0.4],\n",
              " [0, 0, 0.39215686274509803, 0.4],\n",
              " [0, 0, 0.396078431372549, 0.4],\n",
              " [0, 0, 0.4, 0.4],\n",
              " [0, 0, 0.403921568627451, 0.4],\n",
              " [0, 0, 0.40784313725490196, 0.4],\n",
              " [0, 0, 0.4117647058823529, 0.4],\n",
              " [0, 0, 0.41568627450980394, 0.4],\n",
              " [0, 0, 0.4196078431372549, 0.4],\n",
              " [0, 0, 0.4235294117647059, 0.4],\n",
              " [0, 0, 0.42745098039215684, 0.4],\n",
              " [0, 0, 0.43137254901960786, 0.4],\n",
              " [0, 0, 0.43529411764705883, 0.4],\n",
              " [0, 0, 0.4392156862745098, 0.4],\n",
              " [0, 0, 0.44313725490196076, 0.4],\n",
              " [0, 0, 0.4470588235294118, 0.4],\n",
              " [0, 0, 0.45098039215686275, 0.4],\n",
              " [0, 0, 0.4549019607843137, 0.4],\n",
              " [0, 0, 0.4588235294117647, 0.4],\n",
              " [0, 0, 0.4627450980392157, 0.4],\n",
              " [0, 0, 0.4666666666666667, 0.4],\n",
              " [0, 0, 0.47058823529411764, 0.4],\n",
              " [0, 0, 0.4745098039215686, 0.4],\n",
              " [0, 0, 0.47843137254901963, 0.4],\n",
              " [0, 0, 0.4823529411764706, 0.4],\n",
              " [0, 0, 0.48627450980392156, 0.4],\n",
              " [0, 0, 0.49019607843137253, 0.4],\n",
              " [0, 0, 0.49411764705882355, 0.4],\n",
              " [0, 0, 0.4980392156862745, 0.4],\n",
              " [0, 0, 0.5019607843137255, 0.4],\n",
              " [0, 0, 0.5058823529411764, 0.4],\n",
              " [0, 0, 0.5098039215686274, 0.4],\n",
              " [0, 0, 0.5137254901960784, 0.4],\n",
              " [0, 0, 0.5176470588235295, 0.4],\n",
              " [0, 0, 0.5215686274509804, 0.4],\n",
              " [0, 0, 0.5254901960784314, 0.4],\n",
              " [0, 0, 0.5294117647058824, 0.4],\n",
              " [0, 0, 0.5333333333333333, 0.4],\n",
              " [0, 0, 0.5372549019607843, 0.4],\n",
              " [0, 0, 0.5411764705882353, 0.4],\n",
              " [0, 0, 0.5450980392156862, 0.4],\n",
              " [0, 0, 0.5490196078431373, 0.4],\n",
              " [0, 0, 0.5529411764705883, 0.4],\n",
              " [0, 0, 0.5568627450980392, 0.4],\n",
              " [0, 0, 0.5607843137254902, 0.4],\n",
              " [0, 0, 0.5647058823529412, 0.4],\n",
              " [0, 0, 0.5686274509803921, 0.4],\n",
              " [0, 0, 0.5725490196078431, 0.4],\n",
              " [0, 0, 0.5764705882352941, 0.4],\n",
              " [0, 0, 0.5803921568627451, 0.4],\n",
              " [0, 0, 0.5843137254901961, 0.4],\n",
              " [0, 0, 0.5882352941176471, 0.4],\n",
              " [0, 0, 0.592156862745098, 0.4],\n",
              " [0, 0, 0.596078431372549, 0.4],\n",
              " [0, 0, 0.6, 0.4],\n",
              " [0, 0, 0.6039215686274509, 0.4],\n",
              " [0, 0, 0.6078431372549019, 0.4],\n",
              " [0, 0, 0.611764705882353, 0.4],\n",
              " [0, 0, 0.615686274509804, 0.4],\n",
              " [0, 0, 0.6196078431372549, 0.4],\n",
              " [0, 0, 0.6235294117647059, 0.4],\n",
              " [0, 0, 0.6274509803921569, 0.4],\n",
              " [0, 0, 0.6313725490196078, 0.4],\n",
              " [0, 0, 0.6352941176470588, 0.4],\n",
              " [0, 0, 0.6392156862745098, 0.4],\n",
              " [0, 0, 0.6431372549019608, 0.4],\n",
              " [0, 0, 0.6470588235294118, 0.4],\n",
              " [0, 0, 0.6509803921568628, 0.4],\n",
              " [0, 0, 0.6549019607843137, 0.4],\n",
              " [0, 0, 0.6588235294117647, 0.4],\n",
              " [0, 0, 0.6627450980392157, 0.4],\n",
              " [0, 0, 0.6666666666666666, 0.4],\n",
              " [0, 0, 0.6705882352941176, 0.4],\n",
              " [0, 0, 0.6745098039215687, 0.4],\n",
              " [0, 0, 0.6784313725490196, 0.4],\n",
              " [0, 0, 0.6823529411764706, 0.4],\n",
              " [0, 0, 0.6862745098039216, 0.4],\n",
              " [0, 0, 0.6901960784313725, 0.4],\n",
              " [0, 0, 0.6941176470588235, 0.4],\n",
              " [0, 0, 0.6980392156862745, 0.4],\n",
              " [0, 0, 0.7019607843137254, 0.4],\n",
              " [0, 0, 0.7058823529411765, 0.4],\n",
              " [0, 0, 0.7098039215686275, 0.4],\n",
              " [0, 0, 0.7137254901960784, 0.4],\n",
              " [0, 0, 0.7176470588235294, 0.4],\n",
              " [0, 0, 0.7215686274509804, 0.4],\n",
              " [0, 0, 0.7254901960784313, 0.4],\n",
              " [0, 0, 0.7294117647058823, 0.4],\n",
              " [0, 0, 0.7333333333333333, 0.4],\n",
              " [0, 0, 0.7372549019607844, 0.4],\n",
              " [0, 0, 0.7411764705882353, 0.4],\n",
              " [0, 0, 0.7450980392156863, 0.4],\n",
              " [0, 0, 0.7490196078431373, 0.4]]"
            ]
          },
          "metadata": {
            "tags": []
          },
          "execution_count": 26
        }
      ]
    },
    {
      "cell_type": "code",
      "metadata": {
        "id": "_yFqtGZ474zB",
        "colab_type": "code",
        "colab": {
          "base_uri": "https://localhost:8080/",
          "height": 282
        },
        "outputId": "43fcc557-b8af-4446-dde2-c127e1d32c23"
      },
      "source": [
        "plt.scatter(data['x'], data['y'],s=range(5,len(data['x'])+5),c=c_list)"
      ],
      "execution_count": null,
      "outputs": [
        {
          "output_type": "execute_result",
          "data": {
            "text/plain": [
              "<matplotlib.collections.PathCollection at 0x7f5abe4d2c18>"
            ]
          },
          "metadata": {
            "tags": []
          },
          "execution_count": 27
        },
        {
          "output_type": "display_data",
          "data": {
            "image/png": "[encoded data removed]",
            "text/plain": [
              "<Figure size 432x288 with 1 Axes>"
            ]
          },
          "metadata": {
            "tags": [],
            "needs_background": "light"
          }
        }
      ]
    },
    {
      "cell_type": "markdown",
      "metadata": {
        "id": "Dkf_mL0e9_Eo",
        "colab_type": "text"
      },
      "source": [
        "ro- สี จุด เส้น"
      ]
    },
    {
      "cell_type": "code",
      "metadata": {
        "id": "pFl-jK5N9bIY",
        "colab_type": "code",
        "colab": {
          "base_uri": "https://localhost:8080/",
          "height": 282
        },
        "outputId": "c817ae8e-e6d9-48fa-afc3-e14f597ff51f"
      },
      "source": [
        "plt.plot(data['x'], data['y'],'ro-')"
      ],
      "execution_count": null,
      "outputs": [
        {
          "output_type": "execute_result",
          "data": {
            "text/plain": [
              "[<matplotlib.lines.Line2D at 0x7f5abe3927b8>]"
            ]
          },
          "metadata": {
            "tags": []
          },
          "execution_count": 28
        },
        {
          "output_type": "display_data",
          "data": {
            "image/png": "[encoded data removed]",
            "text/plain": [
              "<Figure size 432x288 with 1 Axes>"
            ]
          },
          "metadata": {
            "tags": [],
            "needs_background": "light"
          }
        }
      ]
    },
    {
      "cell_type": "markdown",
      "metadata": {
        "id": "PcgOPtH6-dVw",
        "colab_type": "text"
      },
      "source": [
        "## Barchart"
      ]
    },
    {
      "cell_type": "code",
      "metadata": {
        "id": "Ty2E8vNJ98sM",
        "colab_type": "code",
        "colab": {}
      },
      "source": [
        "import matplotlib\n",
        "import matplotlib.pyplot as plt\n",
        "import numpy as np"
      ],
      "execution_count": null,
      "outputs": []
    },
    {
      "cell_type": "code",
      "metadata": {
        "id": "DUjw8vDN_ydG",
        "colab_type": "code",
        "colab": {}
      },
      "source": [
        "\n",
        "labels = ['G1', 'G2', 'G3', 'G4', 'G5']\n",
        "men_means = [20, 34, 30, 35, 27]\n",
        "women_means = [25, 32, 34, 20, 25]"
      ],
      "execution_count": null,
      "outputs": []
    },
    {
      "cell_type": "markdown",
      "metadata": {
        "id": "pzHSop6VAZ8C",
        "colab_type": "text"
      },
      "source": [
        "np.arange ถ้าข้อมูลเป็น array ที่เป็นตัวเลข คล้ายคำสั่ง range"
      ]
    },
    {
      "cell_type": "code",
      "metadata": {
        "id": "l1UUXf0y_2LT",
        "colab_type": "code",
        "colab": {}
      },
      "source": [
        "x = np.arange(len(labels))  # the label locations\n",
        "width = 0.35  # the width of the bars"
      ],
      "execution_count": null,
      "outputs": []
    },
    {
      "cell_type": "code",
      "metadata": {
        "id": "kx57KT0fAVTu",
        "colab_type": "code",
        "colab": {
          "base_uri": "https://localhost:8080/",
          "height": 297
        },
        "outputId": "74e7feee-d420-4de2-d963-5ef6606ec7eb"
      },
      "source": [
        "fig, ax = plt.subplots()\n",
        "rects1 = ax.bar(x - width/2, men_means, width, label='Men') # (location,ความกว้าง)\n",
        "rects2 = ax.bar(x + width/2, women_means, width, label='Women')\n",
        "# Add some text for labels, title and custom x-axis tick labels, etc.\n",
        "ax.set_ylabel('Scores')  #แกน y\n",
        "ax.set_title('Scores by group and gender') #Name of graph\n",
        "ax.set_xticks(x)\n",
        "ax.set_xticklabels(labels)\n",
        "ax.legend() #แทนสี จาก 1 2\n",
        "def autolabel(rects):\n",
        "    \"\"\"Attach a text label above each bar in *rects*, displaying its height.\"\"\"\n",
        "    for rect in rects:\n",
        "        height = rect.get_height()\n",
        "        ax.annotate('{}'.format(height),\n",
        "                    xy=(rect.get_x() + rect.get_width() / 2, height),\n",
        "                    xytext=(0, 3),  # 3 points vertical offset\n",
        "                    textcoords=\"offset points\",\n",
        "                    ha='center', va='bottom')\n",
        "autolabel(rects1)\n",
        "autolabel(rects2)\n",
        "\n",
        "fig.tight_layout()\n"
      ],
      "execution_count": null,
      "outputs": [
        {
          "output_type": "display_data",
          "data": {
            "image/png": "[encoded data removed]",
            "text/plain": [
              "<Figure size 432x288 with 1 Axes>"
            ]
          },
          "metadata": {
            "tags": [],
            "needs_background": "light"
          }
        }
      ]
    },
    {
      "cell_type": "markdown",
      "metadata": {
        "id": "xXnCJ9ZXGCeT",
        "colab_type": "text"
      },
      "source": [
        "## Histogram\n",
        "ฮีสโตแกรมต่างจากบาร์ชาร์ตตรงความถี่ ดีกว่าตรงที่อยากสรุปว่ามีความถี่เท่าไหร่ แต่ละตัวมีความถี่เท่าไร่ นับได้"
      ]
    },
    {
      "cell_type": "code",
      "metadata": {
        "id": "yD40hK5SFH56",
        "colab_type": "code",
        "colab": {
          "base_uri": "https://localhost:8080/",
          "height": 315
        },
        "outputId": "82e6172c-911a-476a-b2da-72a62482560a"
      },
      "source": [
        "x = [1,1,1,1,4,4,2,2,3]\n",
        "plt.hist(x)"
      ],
      "execution_count": null,
      "outputs": [
        {
          "output_type": "execute_result",
          "data": {
            "text/plain": [
              "(array([4., 0., 0., 2., 0., 0., 1., 0., 0., 2.]),\n",
              " array([1. , 1.3, 1.6, 1.9, 2.2, 2.5, 2.8, 3.1, 3.4, 3.7, 4. ]),\n",
              " <a list of 10 Patch objects>)"
            ]
          },
          "metadata": {
            "tags": []
          },
          "execution_count": 33
        },
        {
          "output_type": "display_data",
          "data": {
            "image/png": "[encoded data removed]",
            "text/plain": [
              "<Figure size 432x288 with 1 Axes>"
            ]
          },
          "metadata": {
            "tags": [],
            "needs_background": "light"
          }
        }
      ]
    },
    {
      "cell_type": "markdown",
      "metadata": {
        "id": "4_4KRpIrIOK7",
        "colab_type": "text"
      },
      "source": [
        "## Q-Q plot"
      ]
    },
    {
      "cell_type": "markdown",
      "metadata": {
        "id": "vVXLtncOIaB1",
        "colab_type": "text"
      },
      "source": [
        "จะตรวจสอบว่าข้อมูลเป็น normal dist มั้ย ถ้าเป็นจะเป็นเส้นตรง เอาข้อมูลสองอันมาเทียบว่าเป็นการแจกแจงเดียวกันหรือไม่ ตัวเปอเซนไทล์ตรงนอมอลดีสหรือไม่\n",
        "https://data.library.virginia.edu/understanding-q-q-plots/\n",
        "\n",
        "https://towardsdatascience.com/what-in-the-world-are-qq-plots-20d0e41dece1\n",
        "\n",
        "https://stackoverflow.com/questions/13865596/quantile-quantile-plot-using-scipy\n",
        "\n",
        "https://stats.stackexchange.com/questions/139708/qq-plot-in-python"
      ]
    },
    {
      "cell_type": "code",
      "metadata": {
        "id": "KmLlKnpvGqtd",
        "colab_type": "code",
        "colab": {
          "base_uri": "https://localhost:8080/",
          "height": 312
        },
        "outputId": "dd8cb533-a476-4b07-e85e-6e6f99a168c0"
      },
      "source": [
        "N = 1200\n",
        "p = 0.53\n",
        "q = 1000\n",
        "obs = np.random.binomial(N, p, size = q)/N\n",
        "import scipy.stats as stats\n",
        "z = (obs-np.mean(obs))/np.std(obs)\n",
        "stats.probplot(z, dist='norm', plot=plt)\n",
        "plt.title('Normal Q-Q plot')"
      ],
      "execution_count": null,
      "outputs": [
        {
          "output_type": "execute_result",
          "data": {
            "text/plain": [
              "Text(0.5, 1.0, 'Normal Q-Q plot')"
            ]
          },
          "metadata": {
            "tags": []
          },
          "execution_count": 34
        },
        {
          "output_type": "display_data",
          "data": {
            "image/png": "[encoded data removed]",
            "text/plain": [
              "<Figure size 432x288 with 1 Axes>"
            ]
          },
          "metadata": {
            "tags": [],
            "needs_background": "light"
          }
        }
      ]
    },
    {
      "cell_type": "markdown",
      "metadata": {
        "id": "RZuXjA_rL49H",
        "colab_type": "text"
      },
      "source": [
        "# HW5 show application #2 of Q-Q plot which is compare dustribution of two datadset"
      ]
    },
    {
      "cell_type": "code",
      "metadata": {
        "id": "9x9K4kPZXGHh",
        "colab_type": "code",
        "colab": {
          "base_uri": "https://localhost:8080/",
          "height": 333
        },
        "outputId": "0ab7a890-cde6-4865-e327-52d3415adfb0"
      },
      "source": [
        "import statsmodels.api as sm\n",
        "import numpy as np\n",
        "import matplotlib.pyplot as plt\n",
        "from statsmodels.graphics.gofplots import qqplot_2samples\n",
        "x = np.random.normal(loc=8.5, scale=2.5, size=37)\n",
        "y = np.random.normal(loc=8.0, scale=3.0, size=37)\n",
        "pp_x = sm.ProbPlot(x)\n",
        "pp_y = sm.ProbPlot(y)\n",
        "qqplot_2samples(pp_x, pp_y)\n",
        "plt.show()"
      ],
      "execution_count": 2,
      "outputs": [
        {
          "output_type": "stream",
          "text": [
            "/usr/local/lib/python3.6/dist-packages/statsmodels/tools/_testing.py:19: FutureWarning: pandas.util.testing is deprecated. Use the functions in the public API at pandas.testing instead.\n",
            "  import pandas.util.testing as tm\n"
          ],
          "name": "stderr"
        },
        {
          "output_type": "display_data",
          "data": {
            "image/png": "[encoded data removed]",
            "text/plain": [
              "<Figure size 432x288 with 1 Axes>"
            ]
          },
          "metadata": {
            "tags": [],
            "needs_background": "light"
          }
        }
      ]
    },
    {
      "cell_type": "code",
      "metadata": {
        "id": "pdCKPhQiSBG-",
        "colab_type": "code",
        "colab": {}
      },
      "source": [
        "import numpy as np #เกี่ยวกับตัวเลขทั้งหมด\n",
        "from matplotlib import pyplot as plt"
      ],
      "execution_count": 6,
      "outputs": []
    },
    {
      "cell_type": "code",
      "metadata": {
        "id": "1ME2EVZJSERq",
        "colab_type": "code",
        "colab": {}
      },
      "source": [
        "s = np.random.normal(3,1.5,100) #(Mean, SD, N)"
      ],
      "execution_count": 18,
      "outputs": []
    },
    {
      "cell_type": "code",
      "metadata": {
        "id": "M97hi8rBSr4J",
        "colab_type": "code",
        "colab": {
          "base_uri": "https://localhost:8080/",
          "height": 353
        },
        "outputId": "4bc0fce4-f9e8-4ed2-9b6b-fd06845caa3d"
      },
      "source": [
        "s"
      ],
      "execution_count": 8,
      "outputs": [
        {
          "output_type": "execute_result",
          "data": {
            "text/plain": [
              "array([ 4.92871418,  1.16002893,  2.44415433,  5.5426799 ,  2.5568725 ,\n",
              "        1.65473539,  4.28576924,  1.85499815,  3.04056185,  0.8832913 ,\n",
              "        2.59015162,  2.25528194,  1.74832769,  1.99886951,  0.59203628,\n",
              "       -0.14642498,  2.49506301,  3.72164954,  1.27008717,  4.26542758,\n",
              "        4.03420276,  1.61041933,  5.64565141,  0.97480348,  0.46826075,\n",
              "       -0.13630574,  4.52248806,  6.04238471,  2.12326895,  3.29995859,\n",
              "        2.19760946,  4.25292975,  3.09522504,  3.85872814,  3.89239085,\n",
              "        2.95705315,  1.66656619,  3.054606  ,  4.77147096,  2.25543008,\n",
              "        3.1888188 ,  2.28888561,  1.48316371,  2.13152381,  2.45672021,\n",
              "        1.25135436,  3.20335674,  3.65146372,  2.05894191,  5.14569267,\n",
              "        2.75131828,  4.50598255,  2.61698188,  5.77139397,  3.04228402,\n",
              "        4.84343586,  4.55507698,  3.75610342,  3.06304218,  2.46245943,\n",
              "        1.37257956,  3.79131705,  2.70723242,  1.554988  ,  2.34645878,\n",
              "        4.85223922,  3.47060809,  4.15675202,  1.17144953,  3.5489105 ,\n",
              "        1.04230211, -0.82508857,  2.49332426,  2.19770573,  0.83357379,\n",
              "        1.66973153,  3.24431271,  4.76868061,  2.77914794,  5.03871568,\n",
              "        3.5305988 ,  4.5563756 ,  0.50541872,  2.5132711 ,  2.81633434,\n",
              "        0.41253659,  3.01484647,  1.39937252,  2.70726094,  2.15446821,\n",
              "        3.02484777,  2.5588602 ,  3.85065291,  3.96383932,  3.29800024,\n",
              "        1.81163469,  1.66099085,  4.15519886,  2.27751517,  0.30039404])"
            ]
          },
          "metadata": {
            "tags": []
          },
          "execution_count": 8
        }
      ]
    },
    {
      "cell_type": "code",
      "metadata": {
        "id": "aa0ps1xRS2oU",
        "colab_type": "code",
        "colab": {
          "base_uri": "https://localhost:8080/",
          "height": 349
        },
        "outputId": "e9b76b53-e36e-47f1-bf19-c0c3e7b1650f"
      },
      "source": [
        "plt.hist(s)"
      ],
      "execution_count": 11,
      "outputs": [
        {
          "output_type": "execute_result",
          "data": {
            "text/plain": [
              "(array([ 2.,  5.,  7., 14., 21., 17., 13., 10.,  7.,  4.]),\n",
              " array([-0.82508857, -0.13834124,  0.54840609,  1.23515341,  1.92190074,\n",
              "         2.60864807,  3.2953954 ,  3.98214273,  4.66889005,  5.35563738,\n",
              "         6.04238471]),\n",
              " <a list of 10 Patch objects>)"
            ]
          },
          "metadata": {
            "tags": []
          },
          "execution_count": 11
        },
        {
          "output_type": "display_data",
          "data": {
            "image/png": "[encoded data removed]",
            "text/plain": [
              "<Figure size 432x288 with 1 Axes>"
            ]
          },
          "metadata": {
            "tags": [],
            "needs_background": "light"
          }
        }
      ]
    },
    {
      "cell_type": "code",
      "metadata": {
        "id": "iGukY-fkTNJn",
        "colab_type": "code",
        "colab": {
          "base_uri": "https://localhost:8080/",
          "height": 349
        },
        "outputId": "82d28688-3bf7-4a2f-c817-c5e79991e92d"
      },
      "source": [
        "s_uni = np.random.uniform(0,6,100)\n",
        "s_uni\n",
        "\n",
        "plt.hist(s_uni)"
      ],
      "execution_count": 20,
      "outputs": [
        {
          "output_type": "execute_result",
          "data": {
            "text/plain": [
              "(array([11.,  6., 12., 13.,  8., 10., 10., 14.,  7.,  9.]),\n",
              " array([0.06065009, 0.6433836 , 1.22611712, 1.80885064, 2.39158416,\n",
              "        2.97431768, 3.5570512 , 4.13978472, 4.72251824, 5.30525176,\n",
              "        5.88798528]),\n",
              " <a list of 10 Patch objects>)"
            ]
          },
          "metadata": {
            "tags": []
          },
          "execution_count": 20
        },
        {
          "output_type": "display_data",
          "data": {
            "image/png": "[encoded data removed]",
            "text/plain": [
              "<Figure size 432x288 with 1 Axes>"
            ]
          },
          "metadata": {
            "tags": [],
            "needs_background": "light"
          }
        }
      ]
    },
    {
      "cell_type": "code",
      "metadata": {
        "id": "yR676rS5Ule6",
        "colab_type": "code",
        "colab": {}
      },
      "source": [
        "s_sorted = np.sort(s) "
      ],
      "execution_count": 25,
      "outputs": []
    },
    {
      "cell_type": "code",
      "metadata": {
        "id": "-NCCeC4HWYiA",
        "colab_type": "code",
        "colab": {}
      },
      "source": [
        "s_uni_sorted = np.sort(s_uni)"
      ],
      "execution_count": 26,
      "outputs": []
    },
    {
      "cell_type": "code",
      "metadata": {
        "id": "KZ3oPuyaWJnG",
        "colab_type": "code",
        "colab": {
          "base_uri": "https://localhost:8080/",
          "height": 297
        },
        "outputId": "79e5d135-29c3-4fb7-85a6-3c3464da12be"
      },
      "source": [
        "plt.scatter(s_sorted,s_uni_sorted)\n",
        "plt.plot(range(7),range(7),'r-')\n",
        "plt.ylabel('s_uni')\n",
        "plt.xlabel('s_normal')"
      ],
      "execution_count": 31,
      "outputs": [
        {
          "output_type": "execute_result",
          "data": {
            "text/plain": [
              "Text(0.5, 0, 's_normal')"
            ]
          },
          "metadata": {
            "tags": []
          },
          "execution_count": 31
        },
        {
          "output_type": "display_data",
          "data": {
            "image/png": "[encoded data removed]",
            "text/plain": [
              "<Figure size 432x288 with 1 Axes>"
            ]
          },
          "metadata": {
            "tags": [],
            "needs_background": "light"
          }
        }
      ]
    },
    {
      "cell_type": "code",
      "metadata": {
        "id": "12awhTq8W5yT",
        "colab_type": "code",
        "colab": {
          "base_uri": "https://localhost:8080/",
          "height": 366
        },
        "outputId": "b8de0d6b-2a08-498b-a8e8-c7d70d62a5ed"
      },
      "source": [
        "n_normal = np.random.normal(3,0.5,20000) \n",
        "n_normal\n",
        "\n",
        "plt.hist(n_normal)"
      ],
      "execution_count": 41,
      "outputs": [
        {
          "output_type": "execute_result",
          "data": {
            "text/plain": [
              "(array([  20.,  222., 1070., 3025., 5426., 5538., 3266., 1182.,  230.,\n",
              "          21.]),\n",
              " array([1.09698236, 1.47329625, 1.84961013, 2.22592402, 2.60223791,\n",
              "        2.9785518 , 3.35486568, 3.73117957, 4.10749346, 4.48380735,\n",
              "        4.86012123]),\n",
              " <a list of 10 Patch objects>)"
            ]
          },
          "metadata": {
            "tags": []
          },
          "execution_count": 41
        },
        {
          "output_type": "display_data",
          "data": {
            "image/png": "[encoded data removed]",
            "text/plain": [
              "<Figure size 432x288 with 1 Axes>"
            ]
          },
          "metadata": {
            "tags": [],
            "needs_background": "light"
          }
        }
      ]
    },
    {
      "cell_type": "code",
      "metadata": {
        "id": "sOIe_BecYq1-",
        "colab_type": "code",
        "colab": {
          "base_uri": "https://localhost:8080/",
          "height": 366
        },
        "outputId": "40ed9d3f-cc83-401d-9998-1703ca9fc9e6"
      },
      "source": [
        "u_uni = np.random.uniform(1,5,50000)\n",
        "u_uni\n",
        "\n",
        "plt.hist(u_uni)"
      ],
      "execution_count": 42,
      "outputs": [
        {
          "output_type": "execute_result",
          "data": {
            "text/plain": [
              "(array([4910., 5041., 5006., 4915., 4894., 5030., 4950., 5007., 5161.,\n",
              "        5086.]),\n",
              " array([1.00002871, 1.40000844, 1.79998816, 2.19996788, 2.5999476 ,\n",
              "        2.99992733, 3.39990705, 3.79988677, 4.19986649, 4.59984622,\n",
              "        4.99982594]),\n",
              " <a list of 10 Patch objects>)"
            ]
          },
          "metadata": {
            "tags": []
          },
          "execution_count": 42
        },
        {
          "output_type": "display_data",
          "data": {
            "image/png": "[encoded data removed]",
            "text/plain": [
              "<Figure size 432x288 with 1 Axes>"
            ]
          },
          "metadata": {
            "tags": [],
            "needs_background": "light"
          }
        }
      ]
    },
    {
      "cell_type": "code",
      "metadata": {
        "id": "1lv7HFUBZe4_",
        "colab_type": "code",
        "colab": {}
      },
      "source": [
        "n_sorted = np.sort(n_normal) "
      ],
      "execution_count": 35,
      "outputs": []
    },
    {
      "cell_type": "code",
      "metadata": {
        "id": "-imXqdyAZpGb",
        "colab_type": "code",
        "colab": {}
      },
      "source": [
        "u_sorted = np.sort(u_uni)"
      ],
      "execution_count": 47,
      "outputs": []
    },
    {
      "cell_type": "code",
      "metadata": {
        "id": "t2YAXr2SdpYd",
        "colab_type": "code",
        "colab": {
          "base_uri": "https://localhost:8080/",
          "height": 34
        },
        "outputId": "c6719ca1-6439-4655-c04f-0c5336306f75"
      },
      "source": [
        "len(list(n_sorted)[::200])"
      ],
      "execution_count": 44,
      "outputs": [
        {
          "output_type": "execute_result",
          "data": {
            "text/plain": [
              "100"
            ]
          },
          "metadata": {
            "tags": []
          },
          "execution_count": 44
        }
      ]
    },
    {
      "cell_type": "code",
      "metadata": {
        "id": "mn-MmeFRd5r5",
        "colab_type": "code",
        "colab": {
          "base_uri": "https://localhost:8080/",
          "height": 34
        },
        "outputId": "3f6efc7f-6842-49c0-979a-ca08b5384ebd"
      },
      "source": [
        "len(list(u_sorted)[::500])"
      ],
      "execution_count": 48,
      "outputs": [
        {
          "output_type": "execute_result",
          "data": {
            "text/plain": [
              "100"
            ]
          },
          "metadata": {
            "tags": []
          },
          "execution_count": 48
        }
      ]
    },
    {
      "cell_type": "code",
      "metadata": {
        "id": "hGt2b8CfaCLk",
        "colab_type": "code",
        "colab": {
          "base_uri": "https://localhost:8080/",
          "height": 297
        },
        "outputId": "0dd64f0f-ef14-44fc-eefc-ff076720b67c"
      },
      "source": [
        "plt.scatter(list(n_sorted)[::200],list(u_sorted)[::500])\n",
        "plt.plot(range(1,7),range(1,7),'r-')\n",
        "plt.ylabel('u_uni')\n",
        "plt.xlabel('n_normal')"
      ],
      "execution_count": 55,
      "outputs": [
        {
          "output_type": "execute_result",
          "data": {
            "text/plain": [
              "Text(0.5, 0, 'n_normal')"
            ]
          },
          "metadata": {
            "tags": []
          },
          "execution_count": 55
        },
        {
          "output_type": "display_data",
          "data": {
            "image/png": "[encoded data removed]",
            "text/plain": [
              "<Figure size 432x288 with 1 Axes>"
            ]
          },
          "metadata": {
            "tags": [],
            "needs_background": "light"
          }
        }
      ]
    },
    {
      "cell_type": "markdown",
      "metadata": {
        "id": "G-3iO0tCiIS9",
        "colab_type": "text"
      },
      "source": [
        "#Heatmap\n",
        "การแทนตัวเลขแต่ละตัวด้วยสี มากว่า 3 กลุ่ม"
      ]
    },
    {
      "cell_type": "code",
      "metadata": {
        "id": "Qm07chbedn9M",
        "colab_type": "code",
        "colab": {}
      },
      "source": [
        "from sklearn import datasets"
      ],
      "execution_count": 57,
      "outputs": []
    },
    {
      "cell_type": "code",
      "metadata": {
        "id": "Zv3eeOjSiXIn",
        "colab_type": "code",
        "colab": {}
      },
      "source": [
        "iris = datasets.load_iris()"
      ],
      "execution_count": 58,
      "outputs": []
    },
    {
      "cell_type": "code",
      "metadata": {
        "id": "gUH2hJnzjBZ3",
        "colab_type": "code",
        "colab": {}
      },
      "source": [
        "iris.data"
      ],
      "execution_count": null,
      "outputs": []
    },
    {
      "cell_type": "code",
      "metadata": {
        "id": "6Iv-fLGtjDi1",
        "colab_type": "code",
        "colab": {
          "base_uri": "https://localhost:8080/",
          "height": 1000
        },
        "outputId": "d95e8094-777e-4ebb-a28c-5eef84c2be7b"
      },
      "source": [
        "plt.rcParams['figure.figsize']=[50,80]\n",
        "plt.imshow(iris.data,cmap='hot',interpolation='nearest')"
      ],
      "execution_count": 63,
      "outputs": [
        {
          "output_type": "execute_result",
          "data": {
            "text/plain": [
              "<matplotlib.image.AxesImage at 0x7fefb68170f0>"
            ]
          },
          "metadata": {
            "tags": []
          },
          "execution_count": 63
        },
        {
          "output_type": "display_data",
          "data": {
            "image/png": "[encoded data removed]",
            "text/plain": [
              "<Figure size 3600x5760 with 1 Axes>"
            ]
          },
          "metadata": {
            "tags": [],
            "needs_background": "light"
          }
        }
      ]
    },
    {
      "cell_type": "code",
      "metadata": {
        "id": "Cmmod8dhicdA",
        "colab_type": "code",
        "colab": {
          "base_uri": "https://localhost:8080/",
          "height": 1000
        },
        "outputId": "37da1179-140f-4ee0-84cf-37ab602455e2"
      },
      "source": [
        "iris"
      ],
      "execution_count": 64,
      "outputs": [
        {
          "output_type": "execute_result",
          "data": {
            "text/plain": [
              "{'DESCR': '.. _iris_dataset:\\n\\nIris plants dataset\\n--------------------\\n\\n**Data Set Characteristics:**\\n\\n    :Number of Instances: 150 (50 in each of three classes)\\n    :Number of Attributes: 4 numeric, predictive attributes and the class\\n    :Attribute Information:\\n        - sepal length in cm\\n        - sepal width in cm\\n        - petal length in cm\\n        - petal width in cm\\n        - class:\\n                - Iris-Setosa\\n                - Iris-Versicolour\\n                - Iris-Virginica\\n                \\n    :Summary Statistics:\\n\\n    ============== ==== ==== ======= ===== ====================\\n                    Min  Max   Mean    SD   Class Correlation\\n    ============== ==== ==== ======= ===== ====================\\n    sepal length:   4.3  7.9   5.84   0.83    0.7826\\n    sepal width:    2.0  4.4   3.05   0.43   -0.4194\\n    petal length:   1.0  6.9   3.76   1.76    0.9490  (high!)\\n    petal width:    0.1  2.5   1.20   0.76    0.9565  (high!)\\n    ============== ==== ==== ======= ===== ====================\\n\\n    :Missing Attribute Values: None\\n    :Class Distribution: 33.3% for each of 3 classes.\\n    :Creator: R.A. Fisher\\n    :Donor: Michael Marshall (MARSHALL%PLU@io.arc.nasa.gov)\\n    :Date: July, 1988\\n\\nThe famous Iris database, first used by Sir R.A. Fisher. The dataset is taken\\nfrom Fisher\\'s paper. Note that it\\'s the same as in R, but not as in the UCI\\nMachine Learning Repository, which has two wrong data points.\\n\\nThis is perhaps the best known database to be found in the\\npattern recognition literature.  Fisher\\'s paper is a classic in the field and\\nis referenced frequently to this day.  (See Duda & Hart, for example.)  The\\ndata set contains 3 classes of 50 instances each, where each class refers to a\\ntype of iris plant.  One class is linearly separable from the other 2; the\\nlatter are NOT linearly separable from each other.\\n\\n.. topic:: References\\n\\n   - Fisher, R.A. \"The use of multiple measurements in taxonomic problems\"\\n     Annual Eugenics, 7, Part II, 179-188 (1936); also in \"Contributions to\\n     Mathematical Statistics\" (John Wiley, NY, 1950).\\n   - Duda, R.O., & Hart, P.E. (1973) Pattern Classification and Scene Analysis.\\n     (Q327.D83) John Wiley & Sons.  ISBN 0-471-22361-1.  See page 218.\\n   - Dasarathy, B.V. (1980) \"Nosing Around the Neighborhood: A New System\\n     Structure and Classification Rule for Recognition in Partially Exposed\\n     Environments\".  IEEE Transactions on Pattern Analysis and Machine\\n     Intelligence, Vol. PAMI-2, No. 1, 67-71.\\n   - Gates, G.W. (1972) \"The Reduced Nearest Neighbor Rule\".  IEEE Transactions\\n     on Information Theory, May 1972, 431-433.\\n   - See also: 1988 MLC Proceedings, 54-64.  Cheeseman et al\"s AUTOCLASS II\\n     conceptual clustering system finds 3 classes in the data.\\n   - Many, many more ...',\n",
              " 'data': array([[5.1, 3.5, 1.4, 0.2],\n",
              "        [4.9, 3. , 1.4, 0.2],\n",
              "        [4.7, 3.2, 1.3, 0.2],\n",
              "        [4.6, 3.1, 1.5, 0.2],\n",
              "        [5. , 3.6, 1.4, 0.2],\n",
              "        [5.4, 3.9, 1.7, 0.4],\n",
              "        [4.6, 3.4, 1.4, 0.3],\n",
              "        [5. , 3.4, 1.5, 0.2],\n",
              "        [4.4, 2.9, 1.4, 0.2],\n",
              "        [4.9, 3.1, 1.5, 0.1],\n",
              "        [5.4, 3.7, 1.5, 0.2],\n",
              "        [4.8, 3.4, 1.6, 0.2],\n",
              "        [4.8, 3. , 1.4, 0.1],\n",
              "        [4.3, 3. , 1.1, 0.1],\n",
              "        [5.8, 4. , 1.2, 0.2],\n",
              "        [5.7, 4.4, 1.5, 0.4],\n",
              "        [5.4, 3.9, 1.3, 0.4],\n",
              "        [5.1, 3.5, 1.4, 0.3],\n",
              "        [5.7, 3.8, 1.7, 0.3],\n",
              "        [5.1, 3.8, 1.5, 0.3],\n",
              "        [5.4, 3.4, 1.7, 0.2],\n",
              "        [5.1, 3.7, 1.5, 0.4],\n",
              "        [4.6, 3.6, 1. , 0.2],\n",
              "        [5.1, 3.3, 1.7, 0.5],\n",
              "        [4.8, 3.4, 1.9, 0.2],\n",
              "        [5. , 3. , 1.6, 0.2],\n",
              "        [5. , 3.4, 1.6, 0.4],\n",
              "        [5.2, 3.5, 1.5, 0.2],\n",
              "        [5.2, 3.4, 1.4, 0.2],\n",
              "        [4.7, 3.2, 1.6, 0.2],\n",
              "        [4.8, 3.1, 1.6, 0.2],\n",
              "        [5.4, 3.4, 1.5, 0.4],\n",
              "        [5.2, 4.1, 1.5, 0.1],\n",
              "        [5.5, 4.2, 1.4, 0.2],\n",
              "        [4.9, 3.1, 1.5, 0.2],\n",
              "        [5. , 3.2, 1.2, 0.2],\n",
              "        [5.5, 3.5, 1.3, 0.2],\n",
              "        [4.9, 3.6, 1.4, 0.1],\n",
              "        [4.4, 3. , 1.3, 0.2],\n",
              "        [5.1, 3.4, 1.5, 0.2],\n",
              "        [5. , 3.5, 1.3, 0.3],\n",
              "        [4.5, 2.3, 1.3, 0.3],\n",
              "        [4.4, 3.2, 1.3, 0.2],\n",
              "        [5. , 3.5, 1.6, 0.6],\n",
              "        [5.1, 3.8, 1.9, 0.4],\n",
              "        [4.8, 3. , 1.4, 0.3],\n",
              "        [5.1, 3.8, 1.6, 0.2],\n",
              "        [4.6, 3.2, 1.4, 0.2],\n",
              "        [5.3, 3.7, 1.5, 0.2],\n",
              "        [5. , 3.3, 1.4, 0.2],\n",
              "        [7. , 3.2, 4.7, 1.4],\n",
              "        [6.4, 3.2, 4.5, 1.5],\n",
              "        [6.9, 3.1, 4.9, 1.5],\n",
              "        [5.5, 2.3, 4. , 1.3],\n",
              "        [6.5, 2.8, 4.6, 1.5],\n",
              "        [5.7, 2.8, 4.5, 1.3],\n",
              "        [6.3, 3.3, 4.7, 1.6],\n",
              "        [4.9, 2.4, 3.3, 1. ],\n",
              "        [6.6, 2.9, 4.6, 1.3],\n",
              "        [5.2, 2.7, 3.9, 1.4],\n",
              "        [5. , 2. , 3.5, 1. ],\n",
              "        [5.9, 3. , 4.2, 1.5],\n",
              "        [6. , 2.2, 4. , 1. ],\n",
              "        [6.1, 2.9, 4.7, 1.4],\n",
              "        [5.6, 2.9, 3.6, 1.3],\n",
              "        [6.7, 3.1, 4.4, 1.4],\n",
              "        [5.6, 3. , 4.5, 1.5],\n",
              "        [5.8, 2.7, 4.1, 1. ],\n",
              "        [6.2, 2.2, 4.5, 1.5],\n",
              "        [5.6, 2.5, 3.9, 1.1],\n",
              "        [5.9, 3.2, 4.8, 1.8],\n",
              "        [6.1, 2.8, 4. , 1.3],\n",
              "        [6.3, 2.5, 4.9, 1.5],\n",
              "        [6.1, 2.8, 4.7, 1.2],\n",
              "        [6.4, 2.9, 4.3, 1.3],\n",
              "        [6.6, 3. , 4.4, 1.4],\n",
              "        [6.8, 2.8, 4.8, 1.4],\n",
              "        [6.7, 3. , 5. , 1.7],\n",
              "        [6. , 2.9, 4.5, 1.5],\n",
              "        [5.7, 2.6, 3.5, 1. ],\n",
              "        [5.5, 2.4, 3.8, 1.1],\n",
              "        [5.5, 2.4, 3.7, 1. ],\n",
              "        [5.8, 2.7, 3.9, 1.2],\n",
              "        [6. , 2.7, 5.1, 1.6],\n",
              "        [5.4, 3. , 4.5, 1.5],\n",
              "        [6. , 3.4, 4.5, 1.6],\n",
              "        [6.7, 3.1, 4.7, 1.5],\n",
              "        [6.3, 2.3, 4.4, 1.3],\n",
              "        [5.6, 3. , 4.1, 1.3],\n",
              "        [5.5, 2.5, 4. , 1.3],\n",
              "        [5.5, 2.6, 4.4, 1.2],\n",
              "        [6.1, 3. , 4.6, 1.4],\n",
              "        [5.8, 2.6, 4. , 1.2],\n",
              "        [5. , 2.3, 3.3, 1. ],\n",
              "        [5.6, 2.7, 4.2, 1.3],\n",
              "        [5.7, 3. , 4.2, 1.2],\n",
              "        [5.7, 2.9, 4.2, 1.3],\n",
              "        [6.2, 2.9, 4.3, 1.3],\n",
              "        [5.1, 2.5, 3. , 1.1],\n",
              "        [5.7, 2.8, 4.1, 1.3],\n",
              "        [6.3, 3.3, 6. , 2.5],\n",
              "        [5.8, 2.7, 5.1, 1.9],\n",
              "        [7.1, 3. , 5.9, 2.1],\n",
              "        [6.3, 2.9, 5.6, 1.8],\n",
              "        [6.5, 3. , 5.8, 2.2],\n",
              "        [7.6, 3. , 6.6, 2.1],\n",
              "        [4.9, 2.5, 4.5, 1.7],\n",
              "        [7.3, 2.9, 6.3, 1.8],\n",
              "        [6.7, 2.5, 5.8, 1.8],\n",
              "        [7.2, 3.6, 6.1, 2.5],\n",
              "        [6.5, 3.2, 5.1, 2. ],\n",
              "        [6.4, 2.7, 5.3, 1.9],\n",
              "        [6.8, 3. , 5.5, 2.1],\n",
              "        [5.7, 2.5, 5. , 2. ],\n",
              "        [5.8, 2.8, 5.1, 2.4],\n",
              "        [6.4, 3.2, 5.3, 2.3],\n",
              "        [6.5, 3. , 5.5, 1.8],\n",
              "        [7.7, 3.8, 6.7, 2.2],\n",
              "        [7.7, 2.6, 6.9, 2.3],\n",
              "        [6. , 2.2, 5. , 1.5],\n",
              "        [6.9, 3.2, 5.7, 2.3],\n",
              "        [5.6, 2.8, 4.9, 2. ],\n",
              "        [7.7, 2.8, 6.7, 2. ],\n",
              "        [6.3, 2.7, 4.9, 1.8],\n",
              "        [6.7, 3.3, 5.7, 2.1],\n",
              "        [7.2, 3.2, 6. , 1.8],\n",
              "        [6.2, 2.8, 4.8, 1.8],\n",
              "        [6.1, 3. , 4.9, 1.8],\n",
              "        [6.4, 2.8, 5.6, 2.1],\n",
              "        [7.2, 3. , 5.8, 1.6],\n",
              "        [7.4, 2.8, 6.1, 1.9],\n",
              "        [7.9, 3.8, 6.4, 2. ],\n",
              "        [6.4, 2.8, 5.6, 2.2],\n",
              "        [6.3, 2.8, 5.1, 1.5],\n",
              "        [6.1, 2.6, 5.6, 1.4],\n",
              "        [7.7, 3. , 6.1, 2.3],\n",
              "        [6.3, 3.4, 5.6, 2.4],\n",
              "        [6.4, 3.1, 5.5, 1.8],\n",
              "        [6. , 3. , 4.8, 1.8],\n",
              "        [6.9, 3.1, 5.4, 2.1],\n",
              "        [6.7, 3.1, 5.6, 2.4],\n",
              "        [6.9, 3.1, 5.1, 2.3],\n",
              "        [5.8, 2.7, 5.1, 1.9],\n",
              "        [6.8, 3.2, 5.9, 2.3],\n",
              "        [6.7, 3.3, 5.7, 2.5],\n",
              "        [6.7, 3. , 5.2, 2.3],\n",
              "        [6.3, 2.5, 5. , 1.9],\n",
              "        [6.5, 3. , 5.2, 2. ],\n",
              "        [6.2, 3.4, 5.4, 2.3],\n",
              "        [5.9, 3. , 5.1, 1.8]]),\n",
              " 'feature_names': ['sepal length (cm)',\n",
              "  'sepal width (cm)',\n",
              "  'petal length (cm)',\n",
              "  'petal width (cm)'],\n",
              " 'filename': '/usr/local/lib/python3.6/dist-packages/sklearn/datasets/data/iris.csv',\n",
              " 'target': array([0, 0, 0, 0, 0, 0, 0, 0, 0, 0, 0, 0, 0, 0, 0, 0, 0, 0, 0, 0, 0, 0,\n",
              "        0, 0, 0, 0, 0, 0, 0, 0, 0, 0, 0, 0, 0, 0, 0, 0, 0, 0, 0, 0, 0, 0,\n",
              "        0, 0, 0, 0, 0, 0, 1, 1, 1, 1, 1, 1, 1, 1, 1, 1, 1, 1, 1, 1, 1, 1,\n",
              "        1, 1, 1, 1, 1, 1, 1, 1, 1, 1, 1, 1, 1, 1, 1, 1, 1, 1, 1, 1, 1, 1,\n",
              "        1, 1, 1, 1, 1, 1, 1, 1, 1, 1, 1, 1, 2, 2, 2, 2, 2, 2, 2, 2, 2, 2,\n",
              "        2, 2, 2, 2, 2, 2, 2, 2, 2, 2, 2, 2, 2, 2, 2, 2, 2, 2, 2, 2, 2, 2,\n",
              "        2, 2, 2, 2, 2, 2, 2, 2, 2, 2, 2, 2, 2, 2, 2, 2, 2, 2]),\n",
              " 'target_names': array(['setosa', 'versicolor', 'virginica'], dtype='<U10')}"
            ]
          },
          "metadata": {
            "tags": []
          },
          "execution_count": 64
        }
      ]
    },
    {
      "cell_type": "code",
      "metadata": {
        "id": "7nVjJ-dwkjup",
        "colab_type": "code",
        "colab": {
          "base_uri": "https://localhost:8080/",
          "height": 402
        },
        "outputId": "b3790b99-e4f5-451d-d1fb-baa01858829b"
      },
      "source": [
        "import pandas as pd\n",
        "iris_data = pd.read_csv('/usr/local/lib/python3.6/dist-packages/sklearn/datasets/data/iris.csv')\n",
        "iris_data"
      ],
      "execution_count": 67,
      "outputs": [
        {
          "output_type": "execute_result",
          "data": {
            "text/html": [
              "<div>\n",
              "<style scoped>\n",
              "    .dataframe tbody tr th:only-of-type {\n",
              "        vertical-align: middle;\n",
              "    }\n",
              "\n",
              "    .dataframe tbody tr th {\n",
              "        vertical-align: top;\n",
              "    }\n",
              "\n",
              "    .dataframe thead th {\n",
              "        text-align: right;\n",
              "    }\n",
              "</style>\n",
              "<table border=\"1\" class=\"dataframe\">\n",
              "  <thead>\n",
              "    <tr style=\"text-align: right;\">\n",
              "      <th></th>\n",
              "      <th>150</th>\n",
              "      <th>4</th>\n",
              "      <th>setosa</th>\n",
              "      <th>versicolor</th>\n",
              "      <th>virginica</th>\n",
              "    </tr>\n",
              "  </thead>\n",
              "  <tbody>\n",
              "    <tr>\n",
              "      <th>0</th>\n",
              "      <td>5.1</td>\n",
              "      <td>3.5</td>\n",
              "      <td>1.4</td>\n",
              "      <td>0.2</td>\n",
              "      <td>0</td>\n",
              "    </tr>\n",
              "    <tr>\n",
              "      <th>1</th>\n",
              "      <td>4.9</td>\n",
              "      <td>3.0</td>\n",
              "      <td>1.4</td>\n",
              "      <td>0.2</td>\n",
              "      <td>0</td>\n",
              "    </tr>\n",
              "    <tr>\n",
              "      <th>2</th>\n",
              "      <td>4.7</td>\n",
              "      <td>3.2</td>\n",
              "      <td>1.3</td>\n",
              "      <td>0.2</td>\n",
              "      <td>0</td>\n",
              "    </tr>\n",
              "    <tr>\n",
              "      <th>3</th>\n",
              "      <td>4.6</td>\n",
              "      <td>3.1</td>\n",
              "      <td>1.5</td>\n",
              "      <td>0.2</td>\n",
              "      <td>0</td>\n",
              "    </tr>\n",
              "    <tr>\n",
              "      <th>4</th>\n",
              "      <td>5.0</td>\n",
              "      <td>3.6</td>\n",
              "      <td>1.4</td>\n",
              "      <td>0.2</td>\n",
              "      <td>0</td>\n",
              "    </tr>\n",
              "    <tr>\n",
              "      <th>...</th>\n",
              "      <td>...</td>\n",
              "      <td>...</td>\n",
              "      <td>...</td>\n",
              "      <td>...</td>\n",
              "      <td>...</td>\n",
              "    </tr>\n",
              "    <tr>\n",
              "      <th>145</th>\n",
              "      <td>6.7</td>\n",
              "      <td>3.0</td>\n",
              "      <td>5.2</td>\n",
              "      <td>2.3</td>\n",
              "      <td>2</td>\n",
              "    </tr>\n",
              "    <tr>\n",
              "      <th>146</th>\n",
              "      <td>6.3</td>\n",
              "      <td>2.5</td>\n",
              "      <td>5.0</td>\n",
              "      <td>1.9</td>\n",
              "      <td>2</td>\n",
              "    </tr>\n",
              "    <tr>\n",
              "      <th>147</th>\n",
              "      <td>6.5</td>\n",
              "      <td>3.0</td>\n",
              "      <td>5.2</td>\n",
              "      <td>2.0</td>\n",
              "      <td>2</td>\n",
              "    </tr>\n",
              "    <tr>\n",
              "      <th>148</th>\n",
              "      <td>6.2</td>\n",
              "      <td>3.4</td>\n",
              "      <td>5.4</td>\n",
              "      <td>2.3</td>\n",
              "      <td>2</td>\n",
              "    </tr>\n",
              "    <tr>\n",
              "      <th>149</th>\n",
              "      <td>5.9</td>\n",
              "      <td>3.0</td>\n",
              "      <td>5.1</td>\n",
              "      <td>1.8</td>\n",
              "      <td>2</td>\n",
              "    </tr>\n",
              "  </tbody>\n",
              "</table>\n",
              "<p>150 rows × 5 columns</p>\n",
              "</div>"
            ],
            "text/plain": [
              "     150    4  setosa  versicolor  virginica\n",
              "0    5.1  3.5     1.4         0.2          0\n",
              "1    4.9  3.0     1.4         0.2          0\n",
              "2    4.7  3.2     1.3         0.2          0\n",
              "3    4.6  3.1     1.5         0.2          0\n",
              "4    5.0  3.6     1.4         0.2          0\n",
              "..   ...  ...     ...         ...        ...\n",
              "145  6.7  3.0     5.2         2.3          2\n",
              "146  6.3  2.5     5.0         1.9          2\n",
              "147  6.5  3.0     5.2         2.0          2\n",
              "148  6.2  3.4     5.4         2.3          2\n",
              "149  5.9  3.0     5.1         1.8          2\n",
              "\n",
              "[150 rows x 5 columns]"
            ]
          },
          "metadata": {
            "tags": []
          },
          "execution_count": 67
        }
      ]
    },
    {
      "cell_type": "code",
      "metadata": {
        "id": "CJRJFD9uluAA",
        "colab_type": "code",
        "colab": {}
      },
      "source": [
        "setosa = iris_data[iris_data['virginica']==0]\n",
        "versicolor = iris_data[iris_data['virginica']==1]\n",
        "virginica = iris_data[iris_data['virginica']==2]"
      ],
      "execution_count": 68,
      "outputs": []
    },
    {
      "cell_type": "code",
      "metadata": {
        "id": "cnUnNjqHmzBz",
        "colab_type": "code",
        "colab": {
          "base_uri": "https://localhost:8080/",
          "height": 1000
        },
        "outputId": "5fa86775-926f-4ce2-9c6e-699885fd5be3"
      },
      "source": [
        "setosa"
      ],
      "execution_count": 69,
      "outputs": [
        {
          "output_type": "execute_result",
          "data": {
            "text/html": [
              "<div>\n",
              "<style scoped>\n",
              "    .dataframe tbody tr th:only-of-type {\n",
              "        vertical-align: middle;\n",
              "    }\n",
              "\n",
              "    .dataframe tbody tr th {\n",
              "        vertical-align: top;\n",
              "    }\n",
              "\n",
              "    .dataframe thead th {\n",
              "        text-align: right;\n",
              "    }\n",
              "</style>\n",
              "<table border=\"1\" class=\"dataframe\">\n",
              "  <thead>\n",
              "    <tr style=\"text-align: right;\">\n",
              "      <th></th>\n",
              "      <th>150</th>\n",
              "      <th>4</th>\n",
              "      <th>setosa</th>\n",
              "      <th>versicolor</th>\n",
              "      <th>virginica</th>\n",
              "    </tr>\n",
              "  </thead>\n",
              "  <tbody>\n",
              "    <tr>\n",
              "      <th>0</th>\n",
              "      <td>5.1</td>\n",
              "      <td>3.5</td>\n",
              "      <td>1.4</td>\n",
              "      <td>0.2</td>\n",
              "      <td>0</td>\n",
              "    </tr>\n",
              "    <tr>\n",
              "      <th>1</th>\n",
              "      <td>4.9</td>\n",
              "      <td>3.0</td>\n",
              "      <td>1.4</td>\n",
              "      <td>0.2</td>\n",
              "      <td>0</td>\n",
              "    </tr>\n",
              "    <tr>\n",
              "      <th>2</th>\n",
              "      <td>4.7</td>\n",
              "      <td>3.2</td>\n",
              "      <td>1.3</td>\n",
              "      <td>0.2</td>\n",
              "      <td>0</td>\n",
              "    </tr>\n",
              "    <tr>\n",
              "      <th>3</th>\n",
              "      <td>4.6</td>\n",
              "      <td>3.1</td>\n",
              "      <td>1.5</td>\n",
              "      <td>0.2</td>\n",
              "      <td>0</td>\n",
              "    </tr>\n",
              "    <tr>\n",
              "      <th>4</th>\n",
              "      <td>5.0</td>\n",
              "      <td>3.6</td>\n",
              "      <td>1.4</td>\n",
              "      <td>0.2</td>\n",
              "      <td>0</td>\n",
              "    </tr>\n",
              "    <tr>\n",
              "      <th>5</th>\n",
              "      <td>5.4</td>\n",
              "      <td>3.9</td>\n",
              "      <td>1.7</td>\n",
              "      <td>0.4</td>\n",
              "      <td>0</td>\n",
              "    </tr>\n",
              "    <tr>\n",
              "      <th>6</th>\n",
              "      <td>4.6</td>\n",
              "      <td>3.4</td>\n",
              "      <td>1.4</td>\n",
              "      <td>0.3</td>\n",
              "      <td>0</td>\n",
              "    </tr>\n",
              "    <tr>\n",
              "      <th>7</th>\n",
              "      <td>5.0</td>\n",
              "      <td>3.4</td>\n",
              "      <td>1.5</td>\n",
              "      <td>0.2</td>\n",
              "      <td>0</td>\n",
              "    </tr>\n",
              "    <tr>\n",
              "      <th>8</th>\n",
              "      <td>4.4</td>\n",
              "      <td>2.9</td>\n",
              "      <td>1.4</td>\n",
              "      <td>0.2</td>\n",
              "      <td>0</td>\n",
              "    </tr>\n",
              "    <tr>\n",
              "      <th>9</th>\n",
              "      <td>4.9</td>\n",
              "      <td>3.1</td>\n",
              "      <td>1.5</td>\n",
              "      <td>0.1</td>\n",
              "      <td>0</td>\n",
              "    </tr>\n",
              "    <tr>\n",
              "      <th>10</th>\n",
              "      <td>5.4</td>\n",
              "      <td>3.7</td>\n",
              "      <td>1.5</td>\n",
              "      <td>0.2</td>\n",
              "      <td>0</td>\n",
              "    </tr>\n",
              "    <tr>\n",
              "      <th>11</th>\n",
              "      <td>4.8</td>\n",
              "      <td>3.4</td>\n",
              "      <td>1.6</td>\n",
              "      <td>0.2</td>\n",
              "      <td>0</td>\n",
              "    </tr>\n",
              "    <tr>\n",
              "      <th>12</th>\n",
              "      <td>4.8</td>\n",
              "      <td>3.0</td>\n",
              "      <td>1.4</td>\n",
              "      <td>0.1</td>\n",
              "      <td>0</td>\n",
              "    </tr>\n",
              "    <tr>\n",
              "      <th>13</th>\n",
              "      <td>4.3</td>\n",
              "      <td>3.0</td>\n",
              "      <td>1.1</td>\n",
              "      <td>0.1</td>\n",
              "      <td>0</td>\n",
              "    </tr>\n",
              "    <tr>\n",
              "      <th>14</th>\n",
              "      <td>5.8</td>\n",
              "      <td>4.0</td>\n",
              "      <td>1.2</td>\n",
              "      <td>0.2</td>\n",
              "      <td>0</td>\n",
              "    </tr>\n",
              "    <tr>\n",
              "      <th>15</th>\n",
              "      <td>5.7</td>\n",
              "      <td>4.4</td>\n",
              "      <td>1.5</td>\n",
              "      <td>0.4</td>\n",
              "      <td>0</td>\n",
              "    </tr>\n",
              "    <tr>\n",
              "      <th>16</th>\n",
              "      <td>5.4</td>\n",
              "      <td>3.9</td>\n",
              "      <td>1.3</td>\n",
              "      <td>0.4</td>\n",
              "      <td>0</td>\n",
              "    </tr>\n",
              "    <tr>\n",
              "      <th>17</th>\n",
              "      <td>5.1</td>\n",
              "      <td>3.5</td>\n",
              "      <td>1.4</td>\n",
              "      <td>0.3</td>\n",
              "      <td>0</td>\n",
              "    </tr>\n",
              "    <tr>\n",
              "      <th>18</th>\n",
              "      <td>5.7</td>\n",
              "      <td>3.8</td>\n",
              "      <td>1.7</td>\n",
              "      <td>0.3</td>\n",
              "      <td>0</td>\n",
              "    </tr>\n",
              "    <tr>\n",
              "      <th>19</th>\n",
              "      <td>5.1</td>\n",
              "      <td>3.8</td>\n",
              "      <td>1.5</td>\n",
              "      <td>0.3</td>\n",
              "      <td>0</td>\n",
              "    </tr>\n",
              "    <tr>\n",
              "      <th>20</th>\n",
              "      <td>5.4</td>\n",
              "      <td>3.4</td>\n",
              "      <td>1.7</td>\n",
              "      <td>0.2</td>\n",
              "      <td>0</td>\n",
              "    </tr>\n",
              "    <tr>\n",
              "      <th>21</th>\n",
              "      <td>5.1</td>\n",
              "      <td>3.7</td>\n",
              "      <td>1.5</td>\n",
              "      <td>0.4</td>\n",
              "      <td>0</td>\n",
              "    </tr>\n",
              "    <tr>\n",
              "      <th>22</th>\n",
              "      <td>4.6</td>\n",
              "      <td>3.6</td>\n",
              "      <td>1.0</td>\n",
              "      <td>0.2</td>\n",
              "      <td>0</td>\n",
              "    </tr>\n",
              "    <tr>\n",
              "      <th>23</th>\n",
              "      <td>5.1</td>\n",
              "      <td>3.3</td>\n",
              "      <td>1.7</td>\n",
              "      <td>0.5</td>\n",
              "      <td>0</td>\n",
              "    </tr>\n",
              "    <tr>\n",
              "      <th>24</th>\n",
              "      <td>4.8</td>\n",
              "      <td>3.4</td>\n",
              "      <td>1.9</td>\n",
              "      <td>0.2</td>\n",
              "      <td>0</td>\n",
              "    </tr>\n",
              "    <tr>\n",
              "      <th>25</th>\n",
              "      <td>5.0</td>\n",
              "      <td>3.0</td>\n",
              "      <td>1.6</td>\n",
              "      <td>0.2</td>\n",
              "      <td>0</td>\n",
              "    </tr>\n",
              "    <tr>\n",
              "      <th>26</th>\n",
              "      <td>5.0</td>\n",
              "      <td>3.4</td>\n",
              "      <td>1.6</td>\n",
              "      <td>0.4</td>\n",
              "      <td>0</td>\n",
              "    </tr>\n",
              "    <tr>\n",
              "      <th>27</th>\n",
              "      <td>5.2</td>\n",
              "      <td>3.5</td>\n",
              "      <td>1.5</td>\n",
              "      <td>0.2</td>\n",
              "      <td>0</td>\n",
              "    </tr>\n",
              "    <tr>\n",
              "      <th>28</th>\n",
              "      <td>5.2</td>\n",
              "      <td>3.4</td>\n",
              "      <td>1.4</td>\n",
              "      <td>0.2</td>\n",
              "      <td>0</td>\n",
              "    </tr>\n",
              "    <tr>\n",
              "      <th>29</th>\n",
              "      <td>4.7</td>\n",
              "      <td>3.2</td>\n",
              "      <td>1.6</td>\n",
              "      <td>0.2</td>\n",
              "      <td>0</td>\n",
              "    </tr>\n",
              "    <tr>\n",
              "      <th>30</th>\n",
              "      <td>4.8</td>\n",
              "      <td>3.1</td>\n",
              "      <td>1.6</td>\n",
              "      <td>0.2</td>\n",
              "      <td>0</td>\n",
              "    </tr>\n",
              "    <tr>\n",
              "      <th>31</th>\n",
              "      <td>5.4</td>\n",
              "      <td>3.4</td>\n",
              "      <td>1.5</td>\n",
              "      <td>0.4</td>\n",
              "      <td>0</td>\n",
              "    </tr>\n",
              "    <tr>\n",
              "      <th>32</th>\n",
              "      <td>5.2</td>\n",
              "      <td>4.1</td>\n",
              "      <td>1.5</td>\n",
              "      <td>0.1</td>\n",
              "      <td>0</td>\n",
              "    </tr>\n",
              "    <tr>\n",
              "      <th>33</th>\n",
              "      <td>5.5</td>\n",
              "      <td>4.2</td>\n",
              "      <td>1.4</td>\n",
              "      <td>0.2</td>\n",
              "      <td>0</td>\n",
              "    </tr>\n",
              "    <tr>\n",
              "      <th>34</th>\n",
              "      <td>4.9</td>\n",
              "      <td>3.1</td>\n",
              "      <td>1.5</td>\n",
              "      <td>0.2</td>\n",
              "      <td>0</td>\n",
              "    </tr>\n",
              "    <tr>\n",
              "      <th>35</th>\n",
              "      <td>5.0</td>\n",
              "      <td>3.2</td>\n",
              "      <td>1.2</td>\n",
              "      <td>0.2</td>\n",
              "      <td>0</td>\n",
              "    </tr>\n",
              "    <tr>\n",
              "      <th>36</th>\n",
              "      <td>5.5</td>\n",
              "      <td>3.5</td>\n",
              "      <td>1.3</td>\n",
              "      <td>0.2</td>\n",
              "      <td>0</td>\n",
              "    </tr>\n",
              "    <tr>\n",
              "      <th>37</th>\n",
              "      <td>4.9</td>\n",
              "      <td>3.6</td>\n",
              "      <td>1.4</td>\n",
              "      <td>0.1</td>\n",
              "      <td>0</td>\n",
              "    </tr>\n",
              "    <tr>\n",
              "      <th>38</th>\n",
              "      <td>4.4</td>\n",
              "      <td>3.0</td>\n",
              "      <td>1.3</td>\n",
              "      <td>0.2</td>\n",
              "      <td>0</td>\n",
              "    </tr>\n",
              "    <tr>\n",
              "      <th>39</th>\n",
              "      <td>5.1</td>\n",
              "      <td>3.4</td>\n",
              "      <td>1.5</td>\n",
              "      <td>0.2</td>\n",
              "      <td>0</td>\n",
              "    </tr>\n",
              "    <tr>\n",
              "      <th>40</th>\n",
              "      <td>5.0</td>\n",
              "      <td>3.5</td>\n",
              "      <td>1.3</td>\n",
              "      <td>0.3</td>\n",
              "      <td>0</td>\n",
              "    </tr>\n",
              "    <tr>\n",
              "      <th>41</th>\n",
              "      <td>4.5</td>\n",
              "      <td>2.3</td>\n",
              "      <td>1.3</td>\n",
              "      <td>0.3</td>\n",
              "      <td>0</td>\n",
              "    </tr>\n",
              "    <tr>\n",
              "      <th>42</th>\n",
              "      <td>4.4</td>\n",
              "      <td>3.2</td>\n",
              "      <td>1.3</td>\n",
              "      <td>0.2</td>\n",
              "      <td>0</td>\n",
              "    </tr>\n",
              "    <tr>\n",
              "      <th>43</th>\n",
              "      <td>5.0</td>\n",
              "      <td>3.5</td>\n",
              "      <td>1.6</td>\n",
              "      <td>0.6</td>\n",
              "      <td>0</td>\n",
              "    </tr>\n",
              "    <tr>\n",
              "      <th>44</th>\n",
              "      <td>5.1</td>\n",
              "      <td>3.8</td>\n",
              "      <td>1.9</td>\n",
              "      <td>0.4</td>\n",
              "      <td>0</td>\n",
              "    </tr>\n",
              "    <tr>\n",
              "      <th>45</th>\n",
              "      <td>4.8</td>\n",
              "      <td>3.0</td>\n",
              "      <td>1.4</td>\n",
              "      <td>0.3</td>\n",
              "      <td>0</td>\n",
              "    </tr>\n",
              "    <tr>\n",
              "      <th>46</th>\n",
              "      <td>5.1</td>\n",
              "      <td>3.8</td>\n",
              "      <td>1.6</td>\n",
              "      <td>0.2</td>\n",
              "      <td>0</td>\n",
              "    </tr>\n",
              "    <tr>\n",
              "      <th>47</th>\n",
              "      <td>4.6</td>\n",
              "      <td>3.2</td>\n",
              "      <td>1.4</td>\n",
              "      <td>0.2</td>\n",
              "      <td>0</td>\n",
              "    </tr>\n",
              "    <tr>\n",
              "      <th>48</th>\n",
              "      <td>5.3</td>\n",
              "      <td>3.7</td>\n",
              "      <td>1.5</td>\n",
              "      <td>0.2</td>\n",
              "      <td>0</td>\n",
              "    </tr>\n",
              "    <tr>\n",
              "      <th>49</th>\n",
              "      <td>5.0</td>\n",
              "      <td>3.3</td>\n",
              "      <td>1.4</td>\n",
              "      <td>0.2</td>\n",
              "      <td>0</td>\n",
              "    </tr>\n",
              "  </tbody>\n",
              "</table>\n",
              "</div>"
            ],
            "text/plain": [
              "    150    4  setosa  versicolor  virginica\n",
              "0   5.1  3.5     1.4         0.2          0\n",
              "1   4.9  3.0     1.4         0.2          0\n",
              "2   4.7  3.2     1.3         0.2          0\n",
              "3   4.6  3.1     1.5         0.2          0\n",
              "4   5.0  3.6     1.4         0.2          0\n",
              "5   5.4  3.9     1.7         0.4          0\n",
              "6   4.6  3.4     1.4         0.3          0\n",
              "7   5.0  3.4     1.5         0.2          0\n",
              "8   4.4  2.9     1.4         0.2          0\n",
              "9   4.9  3.1     1.5         0.1          0\n",
              "10  5.4  3.7     1.5         0.2          0\n",
              "11  4.8  3.4     1.6         0.2          0\n",
              "12  4.8  3.0     1.4         0.1          0\n",
              "13  4.3  3.0     1.1         0.1          0\n",
              "14  5.8  4.0     1.2         0.2          0\n",
              "15  5.7  4.4     1.5         0.4          0\n",
              "16  5.4  3.9     1.3         0.4          0\n",
              "17  5.1  3.5     1.4         0.3          0\n",
              "18  5.7  3.8     1.7         0.3          0\n",
              "19  5.1  3.8     1.5         0.3          0\n",
              "20  5.4  3.4     1.7         0.2          0\n",
              "21  5.1  3.7     1.5         0.4          0\n",
              "22  4.6  3.6     1.0         0.2          0\n",
              "23  5.1  3.3     1.7         0.5          0\n",
              "24  4.8  3.4     1.9         0.2          0\n",
              "25  5.0  3.0     1.6         0.2          0\n",
              "26  5.0  3.4     1.6         0.4          0\n",
              "27  5.2  3.5     1.5         0.2          0\n",
              "28  5.2  3.4     1.4         0.2          0\n",
              "29  4.7  3.2     1.6         0.2          0\n",
              "30  4.8  3.1     1.6         0.2          0\n",
              "31  5.4  3.4     1.5         0.4          0\n",
              "32  5.2  4.1     1.5         0.1          0\n",
              "33  5.5  4.2     1.4         0.2          0\n",
              "34  4.9  3.1     1.5         0.2          0\n",
              "35  5.0  3.2     1.2         0.2          0\n",
              "36  5.5  3.5     1.3         0.2          0\n",
              "37  4.9  3.6     1.4         0.1          0\n",
              "38  4.4  3.0     1.3         0.2          0\n",
              "39  5.1  3.4     1.5         0.2          0\n",
              "40  5.0  3.5     1.3         0.3          0\n",
              "41  4.5  2.3     1.3         0.3          0\n",
              "42  4.4  3.2     1.3         0.2          0\n",
              "43  5.0  3.5     1.6         0.6          0\n",
              "44  5.1  3.8     1.9         0.4          0\n",
              "45  4.8  3.0     1.4         0.3          0\n",
              "46  5.1  3.8     1.6         0.2          0\n",
              "47  4.6  3.2     1.4         0.2          0\n",
              "48  5.3  3.7     1.5         0.2          0\n",
              "49  5.0  3.3     1.4         0.2          0"
            ]
          },
          "metadata": {
            "tags": []
          },
          "execution_count": 69
        }
      ]
    },
    {
      "cell_type": "markdown",
      "metadata": {
        "id": "vgmxeyR4oJxx",
        "colab_type": "text"
      },
      "source": [
        "subplot #พล็อตกราฟย่อย"
      ]
    },
    {
      "cell_type": "code",
      "metadata": {
        "id": "9MpcKQ8Tm_c1",
        "colab_type": "code",
        "colab": {}
      },
      "source": [
        "fig"
      ],
      "execution_count": null,
      "outputs": []
    }
  ]
}