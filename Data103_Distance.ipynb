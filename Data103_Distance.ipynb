{
  "nbformat": 4,
  "nbformat_minor": 0,
  "metadata": {
    "colab": {
      "name": "Data103 Distance.ipynb",
      "provenance": [],
      "authorship_tag": "ABX9TyPcsD3k6eqEhQI9yzYB7EVO",
      "include_colab_link": true
    },
    "kernelspec": {
      "name": "python3",
      "display_name": "Python 3"
    }
  },
  "cells": [
    {
      "cell_type": "markdown",
      "metadata": {
        "id": "view-in-github",
        "colab_type": "text"
      },
      "source": [
        "<a href=\"https://colab.research.google.com/github/Vangolds/DPDM/blob/master/Data103_Distance.ipynb\" target=\"_parent\"><img src=\"https://colab.research.google.com/assets/colab-badge.svg\" alt=\"Open In Colab\"/></a>"
      ]
    },
    {
      "cell_type": "code",
      "metadata": {
        "id": "kMEnKcb-vprD",
        "colab_type": "code",
        "colab": {}
      },
      "source": [
        "import numpy as np #มอง data เป็น arrey นั่นก็คือเมทริกซ์"
      ],
      "execution_count": 19,
      "outputs": []
    },
    {
      "cell_type": "code",
      "metadata": {
        "id": "sZCZDRluv290",
        "colab_type": "code",
        "colab": {
          "base_uri": "https://localhost:8080/",
          "height": 50
        },
        "outputId": "f2bc5826-5397-42c1-f3d3-405d01a24c86"
      },
      "source": [
        "A = np.array([[1,2,3],[4,5,6]])\n",
        "A #นับแถวที่ 0,1"
      ],
      "execution_count": 20,
      "outputs": [
        {
          "output_type": "execute_result",
          "data": {
            "text/plain": [
              "array([[1, 2, 3],\n",
              "       [4, 5, 6]])"
            ]
          },
          "metadata": {
            "tags": []
          },
          "execution_count": 20
        }
      ]
    },
    {
      "cell_type": "code",
      "metadata": {
        "id": "Al7H0q4iwIuC",
        "colab_type": "code",
        "colab": {
          "base_uri": "https://localhost:8080/",
          "height": 67
        },
        "outputId": "86c675ff-8b4d-43f5-ff71-e9301e2ea3ba"
      },
      "source": [
        "A.T"
      ],
      "execution_count": 21,
      "outputs": [
        {
          "output_type": "execute_result",
          "data": {
            "text/plain": [
              "array([[1, 4],\n",
              "       [2, 5],\n",
              "       [3, 6]])"
            ]
          },
          "metadata": {
            "tags": []
          },
          "execution_count": 21
        }
      ]
    },
    {
      "cell_type": "code",
      "metadata": {
        "id": "MTn_YvUpwXJa",
        "colab_type": "code",
        "colab": {
          "base_uri": "https://localhost:8080/",
          "height": 50
        },
        "outputId": "96badaf9-d1c8-43d9-b4c6-d596310f06e3"
      },
      "source": [
        "A.dot(A.T)"
      ],
      "execution_count": 22,
      "outputs": [
        {
          "output_type": "execute_result",
          "data": {
            "text/plain": [
              "array([[14, 32],\n",
              "       [32, 77]])"
            ]
          },
          "metadata": {
            "tags": []
          },
          "execution_count": 22
        }
      ]
    },
    {
      "cell_type": "markdown",
      "metadata": {
        "id": "Bc5VFYE5xTp0",
        "colab_type": "text"
      },
      "source": [
        "## Array slicing\n",
        "คล้าย list slicing แต่มีสองมิติ"
      ]
    },
    {
      "cell_type": "code",
      "metadata": {
        "id": "_g_zxP5WxBFO",
        "colab_type": "code",
        "colab": {
          "base_uri": "https://localhost:8080/",
          "height": 34
        },
        "outputId": "767d1299-6640-4b01-e0a1-d0eb3f44b501"
      },
      "source": [
        "A[0,1] #ค่าที่อยู่ที่แถวที่1หลักที่2"
      ],
      "execution_count": 23,
      "outputs": [
        {
          "output_type": "execute_result",
          "data": {
            "text/plain": [
              "2"
            ]
          },
          "metadata": {
            "tags": []
          },
          "execution_count": 23
        }
      ]
    },
    {
      "cell_type": "code",
      "metadata": {
        "id": "pcYJBxLyxgB7",
        "colab_type": "code",
        "colab": {
          "base_uri": "https://localhost:8080/",
          "height": 50
        },
        "outputId": "af6768bb-06b0-4602-f41d-8178e9ea70bd"
      },
      "source": [
        "A[:,:2] #เรียกค่าตั้งต้นกับค่ารองสุดท้าย ถ้าไม่ใส่เลขคือเอาทุกแถว [ทุกหลักมหลักที่ 0 ไปถึง 2]"
      ],
      "execution_count": 24,
      "outputs": [
        {
          "output_type": "execute_result",
          "data": {
            "text/plain": [
              "array([[1, 2],\n",
              "       [4, 5]])"
            ]
          },
          "metadata": {
            "tags": []
          },
          "execution_count": 24
        }
      ]
    },
    {
      "cell_type": "code",
      "metadata": {
        "id": "BJgHas_6xvlB",
        "colab_type": "code",
        "colab": {
          "base_uri": "https://localhost:8080/",
          "height": 34
        },
        "outputId": "d67c88c5-13ed-42bd-dead-676c3a32010c"
      },
      "source": [
        "A[1,1:]"
      ],
      "execution_count": 25,
      "outputs": [
        {
          "output_type": "execute_result",
          "data": {
            "text/plain": [
              "array([5, 6])"
            ]
          },
          "metadata": {
            "tags": []
          },
          "execution_count": 25
        }
      ]
    },
    {
      "cell_type": "markdown",
      "metadata": {
        "id": "IgrOs2Hk0QUf",
        "colab_type": "text"
      },
      "source": [
        "## Distance matrix (Manhattan)"
      ]
    },
    {
      "cell_type": "code",
      "metadata": {
        "id": "qSJXhaBvxoH4",
        "colab_type": "code",
        "colab": {
          "base_uri": "https://localhost:8080/",
          "height": 84
        },
        "outputId": "2705db57-88c4-45a7-db11-c6172dad9482"
      },
      "source": [
        "data1 = np.array([[1,2],[3,5],[2,0],[4,5]])\n",
        "data1"
      ],
      "execution_count": 31,
      "outputs": [
        {
          "output_type": "execute_result",
          "data": {
            "text/plain": [
              "array([[1, 2],\n",
              "       [3, 5],\n",
              "       [2, 0],\n",
              "       [4, 5]])"
            ]
          },
          "metadata": {
            "tags": []
          },
          "execution_count": 31
        }
      ]
    },
    {
      "cell_type": "code",
      "metadata": {
        "id": "DEIxGIdSx8jo",
        "colab_type": "code",
        "colab": {}
      },
      "source": [
        "def Manhattan_dist(dp1,dp2):\n",
        "    distX = abs(dp1[0]-dp2[0])\n",
        "    distY = abs(dp1[1]-dp2[1])\n",
        "    return distX + distY"
      ],
      "execution_count": 32,
      "outputs": []
    },
    {
      "cell_type": "code",
      "metadata": {
        "id": "6Urn8lbvx-73",
        "colab_type": "code",
        "colab": {
          "base_uri": "https://localhost:8080/",
          "height": 84
        },
        "outputId": "a3c4b9a1-77b5-4753-dcde-50f475f82efd"
      },
      "source": [
        "dist_mat_man = np.zeros((4,4))\n",
        "dist_mat_man"
      ],
      "execution_count": 33,
      "outputs": [
        {
          "output_type": "execute_result",
          "data": {
            "text/plain": [
              "array([[0., 0., 0., 0.],\n",
              "       [0., 0., 0., 0.],\n",
              "       [0., 0., 0., 0.],\n",
              "       [0., 0., 0., 0.]])"
            ]
          },
          "metadata": {
            "tags": []
          },
          "execution_count": 33
        }
      ]
    },
    {
      "cell_type": "code",
      "metadata": {
        "id": "rBsBfuVWyBLd",
        "colab_type": "code",
        "colab": {
          "base_uri": "https://localhost:8080/",
          "height": 84
        },
        "outputId": "625f04c3-6d01-4b06-8960-9044b42bf8e2"
      },
      "source": [
        "for i in range(4):\n",
        "    for j in range(4):\n",
        "        dist_mat_man[i,j] = Manhattan_dist(data1[i,:],data1[j,:]) \n",
        "\n",
        "dist_mat_man "
      ],
      "execution_count": 34,
      "outputs": [
        {
          "output_type": "execute_result",
          "data": {
            "text/plain": [
              "array([[0., 5., 3., 6.],\n",
              "       [5., 0., 6., 1.],\n",
              "       [3., 6., 0., 7.],\n",
              "       [6., 1., 7., 0.]])"
            ]
          },
          "metadata": {
            "tags": []
          },
          "execution_count": 34
        }
      ]
    },
    {
      "cell_type": "markdown",
      "metadata": {
        "id": "MveUP0jSzaZr",
        "colab_type": "text"
      },
      "source": [
        "#HW6"
      ]
    },
    {
      "cell_type": "code",
      "metadata": {
        "id": "QNVsRDLPztUW",
        "colab_type": "code",
        "colab": {}
      },
      "source": [
        "data1 = np.array([[1,2],[3,5],[2,0],[4,5]])\n",
        "data1"
      ],
      "execution_count": null,
      "outputs": []
    },
    {
      "cell_type": "code",
      "metadata": {
        "id": "mQfMyBzayJv1",
        "colab_type": "code",
        "colab": {}
      },
      "source": [
        "import math"
      ],
      "execution_count": 45,
      "outputs": []
    },
    {
      "cell_type": "code",
      "metadata": {
        "id": "JDEvnLdzyNGW",
        "colab_type": "code",
        "colab": {}
      },
      "source": [
        " def Euclidean_dist(dp1,dp2):\n",
        "    distX = abs(dp1[0]-dp2[0])\n",
        "    distY = abs(dp1[1]-dp2[1])\n",
        "    return math.sqrt(math.pow(distX,2) + math.pow(distY,2))"
      ],
      "execution_count": 43,
      "outputs": []
    },
    {
      "cell_type": "code",
      "metadata": {
        "id": "wZSIxgClyQ0w",
        "colab_type": "code",
        "colab": {
          "base_uri": "https://localhost:8080/",
          "height": 84
        },
        "outputId": "01a24047-593f-4e1f-bc1a-7482855fa17d"
      },
      "source": [
        "dist_eu_cli = np.zeros((4,4))\n",
        "dist_eu_cli"
      ],
      "execution_count": 39,
      "outputs": [
        {
          "output_type": "execute_result",
          "data": {
            "text/plain": [
              "array([[0., 0., 0., 0.],\n",
              "       [0., 0., 0., 0.],\n",
              "       [0., 0., 0., 0.],\n",
              "       [0., 0., 0., 0.]])"
            ]
          },
          "metadata": {
            "tags": []
          },
          "execution_count": 39
        }
      ]
    },
    {
      "cell_type": "code",
      "metadata": {
        "id": "7w-6EC0qyUxo",
        "colab_type": "code",
        "colab": {
          "base_uri": "https://localhost:8080/",
          "height": 84
        },
        "outputId": "beee3df4-e899-49ea-c20c-d5273afb7697"
      },
      "source": [
        "for i in range(4):\n",
        "    for j in range(4):\n",
        "        dist_eu_cli[i,j] = Euclidean_dist(data1[i,:],data1[j,:]) \n",
        "\n",
        "dist_eu_cli"
      ],
      "execution_count": 44,
      "outputs": [
        {
          "output_type": "execute_result",
          "data": {
            "text/plain": [
              "array([[0.        , 3.60555128, 2.23606798, 4.24264069],\n",
              "       [3.60555128, 0.        , 5.09901951, 1.        ],\n",
              "       [2.23606798, 5.09901951, 0.        , 5.38516481],\n",
              "       [4.24264069, 1.        , 5.38516481, 0.        ]])"
            ]
          },
          "metadata": {
            "tags": []
          },
          "execution_count": 44
        }
      ]
    },
    {
      "cell_type": "code",
      "metadata": {
        "id": "hZv1h4W8yV43",
        "colab_type": "code",
        "colab": {}
      },
      "source": [
        ""
      ],
      "execution_count": null,
      "outputs": []
    }
  ]
}