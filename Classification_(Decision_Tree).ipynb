{
  "nbformat": 4,
  "nbformat_minor": 0,
  "metadata": {
    "colab": {
      "name": "Classification (Decision Tree).ipynb",
      "provenance": [],
      "authorship_tag": "ABX9TyN8PQIs0rqP+z68AbBrM2wQ",
      "include_colab_link": true
    },
    "kernelspec": {
      "name": "python3",
      "display_name": "Python 3"
    }
  },
  "cells": [
    {
      "cell_type": "markdown",
      "metadata": {
        "id": "view-in-github",
        "colab_type": "text"
      },
      "source": [
        "<a href=\"https://colab.research.google.com/github/Vangolds/DPDM/blob/master/Classification_(Decision_Tree).ipynb\" target=\"_parent\"><img src=\"https://colab.research.google.com/assets/colab-badge.svg\" alt=\"Open In Colab\"/></a>"
      ]
    },
    {
      "cell_type": "code",
      "metadata": {
        "id": "I_7_qTTZN-Xn"
      },
      "source": [
        "from sklearn import datasets\n",
        "iris_data = datasets.load_iris()\n",
        "X = iris_data['data']\n",
        "y = iris_data['target']"
      ],
      "execution_count": null,
      "outputs": []
    },
    {
      "cell_type": "markdown",
      "metadata": {
        "id": "s4CPTNLePaYn"
      },
      "source": [
        "Disition Tree"
      ]
    },
    {
      "cell_type": "markdown",
      "metadata": {
        "id": "lkEJvdwOPbvi"
      },
      "source": [
        "Import"
      ]
    },
    {
      "cell_type": "code",
      "metadata": {
        "id": "eFfASyUxPWpF"
      },
      "source": [
        "from sklearn.tree import DecisionTreeClassifier"
      ],
      "execution_count": null,
      "outputs": []
    },
    {
      "cell_type": "markdown",
      "metadata": {
        "id": "KGJuZo8NQKTo"
      },
      "source": [
        "Define"
      ]
    },
    {
      "cell_type": "code",
      "metadata": {
        "id": "MIBuGDyhP689"
      },
      "source": [
        "myTree = DecisionTreeClassifier(criterion='entropy' ,max_depth=2)"
      ],
      "execution_count": null,
      "outputs": []
    },
    {
      "cell_type": "markdown",
      "metadata": {
        "id": "0guwBQzOQMoS"
      },
      "source": [
        "Train"
      ]
    },
    {
      "cell_type": "code",
      "metadata": {
        "id": "Uv15JLBnQjcQ"
      },
      "source": [
        "myTree.fit(x[:-2,:],y[:-2])"
      ],
      "execution_count": null,
      "outputs": []
    },
    {
      "cell_type": "markdown",
      "metadata": {
        "id": "Bl5CQ-6WQgGx"
      },
      "source": [
        "Test"
      ]
    },
    {
      "cell_type": "code",
      "metadata": {
        "id": "96xkJdSiQiIH"
      },
      "source": [
        "myTree.predict(x[-2:,:])"
      ],
      "execution_count": null,
      "outputs": []
    },
    {
      "cell_type": "markdown",
      "metadata": {
        "id": "WdG0a145Q1Z4"
      },
      "source": [
        "Draw tree"
      ]
    },
    {
      "cell_type": "code",
      "metadata": {
        "id": "6LJwTXc0IfCL"
      },
      "source": [
        "from sklearn.tree import plot_tree"
      ],
      "execution_count": null,
      "outputs": []
    },
    {
      "cell_type": "code",
      "metadata": {
        "id": "l1yCnqDcIgRl"
      },
      "source": [
        "plot_tree(myTree)"
      ],
      "execution_count": null,
      "outputs": []
    },
    {
      "cell_type": "code",
      "metadata": {
        "id": "r6A36I5gIigO"
      },
      "source": [
        "plot_tree(myTree); #sample คือ ข้อมูลหลุดมากี่ตัว, value คือ คลาส 1 50 คลาส 2 50 คลาส 3 50, entropy คือ ค่าที่เราคำนวณ gain"
      ],
      "execution_count": null,
      "outputs": []
    },
    {
      "cell_type": "markdown",
      "metadata": {
        "id": "61ubGZ2ZQ3p8"
      },
      "source": [
        ""
      ]
    },
    {
      "cell_type": "code",
      "metadata": {
        "id": "APLlYQxXIkAq"
      },
      "source": [
        "x[-2:,:]"
      ],
      "execution_count": null,
      "outputs": []
    }
  ]
}